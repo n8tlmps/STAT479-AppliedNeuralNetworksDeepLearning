{
 "cells": [
  {
   "cell_type": "markdown",
   "metadata": {},
   "source": [
    "# STAT479 Homework 1\n",
    "### 4 October 2024\n",
    "### Nate Talampas"
   ]
  },
  {
   "cell_type": "markdown",
   "metadata": {},
   "source": [
    "# Problem 1\n",
    "Explain the role of the following components in a feedforward neural network:\n",
    "*************************************************\n",
    "\n",
    "- **Neurons**: A neuron is a simple element where information processing occurs, and each layer of a feedforward neural networks are composed of computational units called neurons.\n",
    "- **Weights**: Signals are passed between neurons over connection links, and each connection link has an associated weight.\n",
    "- **Activation functions**: The range of the output is determined by the activation function $\\phi(\\cdot)$.\n",
    "- **Bias**: With no input, the bias would be the pre-activation."
   ]
  },
  {
   "cell_type": "markdown",
   "metadata": {},
   "source": [
    "# Problem 2"
   ]
  },
  {
   "cell_type": "markdown",
   "metadata": {},
   "source": [
    "Given the following weights and biases for a simple two-layer neural network:\n",
    "- Input layer: 2 neurons\n",
    "- Hidden layer: 3 neurons\n",
    "- Weights from input to hidden:\n",
    "$\n",
    "W_1 = \\begin{bmatrix}\n",
    "0.2 & -0.3 & 0.4 \\\\\n",
    "0.5 & -0.1 & -0.4\n",
    "\\end{bmatrix}\n",
    "$\n",
    "- Bias for hidden layer:\n",
    "$\n",
    "b_1 = \\begin{bmatrix}\n",
    ".1 & .2 & .3\n",
    "\\end{bmatrix}\n",
    "$\n",
    "- Activation function: $ReLU$\n"
   ]
  },
  {
   "cell_type": "markdown",
   "metadata": {},
   "source": [
    "Calculate the output of the hidden layer for the input:\n",
    "$\n",
    "x = \\begin{bmatrix}\n",
    ".7 \\\\\n",
    ".5\n",
    "\\end{bmatrix}\n",
    "$\n",
    "*******************************************************************************"
   ]
  },
  {
   "cell_type": "markdown",
   "metadata": {},
   "source": [
    "$$a(\\vec{x}) = b + \\sum_i w_i x_i = b + \\vec{w}^T \\vec{x}$$\n",
    "\n",
    "$$\\vec{w}^T \\vec{x} = \\begin{bmatrix}\n",
    "0.2 & 0.5 \\\\\n",
    "-0.3 & -0.1 \\\\\n",
    "0.4 & -0.4\n",
    "\\end{bmatrix}\n",
    "\\begin{bmatrix}\n",
    "0.7 \\\\\n",
    "0.5\n",
    "\\end{bmatrix}\n",
    "= \\begin{bmatrix}\n",
    "0.39 \\\\\n",
    "-0.26 \\\\\n",
    "0.08\n",
    "\\end{bmatrix}$$\n",
    "\n",
    "$$b + \\vec{w}^T \\vec{x} = $$\n",
    "$$ \\begin{bmatrix}\n",
    "0.39 \\\\\n",
    "-0.26 \\\\\n",
    "0.08\n",
    "\\end{bmatrix} +\n",
    "\\begin{bmatrix}\n",
    "0.1 \\\\\n",
    "0.2 \\\\\n",
    "-0.3\n",
    "\\end{bmatrix} =\n",
    "\\begin{bmatrix}\n",
    "0.49 \\\\\n",
    "-0.06 \\\\\n",
    "-0.22\n",
    "\\end{bmatrix}$$\n",
    "\n",
    "$$\\text{ReLU activation function}: max (0, a(\\vec{x})) = 0.49$$\n",
    "\n"
   ]
  },
  {
   "cell_type": "markdown",
   "metadata": {},
   "source": [
    "# Problem 3\n",
    "Consider a simple neural network with a single hidden layer and sigmoid activation. The output layer uses the sigmoid function. Given the following:\n",
    "\n",
    "• Input: $x = .5$\n",
    "\n",
    "• Target output: $y = 1$\n",
    "\n",
    "• Weights: $w_1 = .2, w_2 = .4$\n",
    "\n",
    "• Biases: $b_1 = .1, b_2 = .2$\n",
    "\n",
    "Using a learning rate $\\eta = .1$, perform one step of gradient descent to update the weights.\n",
    "***********************************************************************************************************"
   ]
  },
  {
   "cell_type": "markdown",
   "metadata": {},
   "source": [
    "$$\\text{sigmoid activation function}: \\sigma(x) = \\frac{1}{1+e^{-x}} \\rightarrow \\sigma ' (x) = \\sigma(x)(1 - \\sigma(x))$$\n",
    "\n",
    "$ \\text{1. Forward Propagation} $\n",
    "$$ z_1 = x \\cdot w_1 + b_1 = 0.5 \\cdot 0.2 + 0.1 = 0.2 $$\n",
    "$$ a_1 = \\sigma(z_1) = \\frac{1}{1+e^{-0.2}} = 0.549834 $$\n",
    "$$ z_2 = a_1 \\cdot w_2 + b_2 = 0.549834 \\cdot 0.4 + 0.2 = 0.41993 $$\n",
    "$$ a_2 = \\sigma(z_2) = \\frac{1}{1+e^{-0.41993}} = 0.6034673 $$\n",
    "$$ \\hat{y} = a_2 = 0.6034673 $$\n",
    "\n",
    "$ \\text{2. Loss (binary cross entropy)} $\n",
    "\n",
    "$$ L = - \\left( y \\log(\\hat{y}) + (1 - y) \\log(1 - \\hat{y}) \\right) $$\n",
    "$$ L = -(1 \\cdot \\log(0.6034673) + (1 - 1) \\cdot \\log(1 - 0.6034673)) = 0.2193462 $$\n",
    "$$\\frac{\\partial L}{\\partial \\hat{y}} = \\frac{\\hat{y} - y}{\\hat{y} (1 - \\hat{y})}  = \\frac{0.6034673 - 1}{0.6034673(1-0.6034673)} = -1.657090067 $$\n",
    "$\\text{3. Back Propagation} \\\\$\n",
    "$$ \\frac{\\partial L}{\\partial z_2} = \\frac{\\partial L}{\\partial \\hat{y}} \\cdot \\frac{\\partial \\hat{y}}{\\partial z_2} = \\frac{\\partial L}{\\partial \\hat{y}} \\cdot \\sigma ' (z_2) $$\n",
    "$$ \\sigma ' (z_2) = \\sigma(z_2)(1-\\sigma(z_2)) = 0.239295 $$\n",
    "$$\\frac{\\partial L}{\\partial z_2} = -1.657090067 \\cdot 0.239295 = -0.3965333676 $$\n",
    "$$\\frac{\\partial L}{\\partial w_2} = \\frac{\\partial L}{\\partial z_2} \\cdot \\frac{\\partial z_2}{\\partial w_2} = \\frac{\\partial L}{\\partial z_2} \\cdot a_1 = -0.3965333676 \\cdot 0.549834 = 0.2396533368 $$\n",
    "$$ \\sigma ' (z_1) = \\sigma(z_1) (1-\\sigma(x_1)) = (0.549834)(0.450166) = 0.2475166$$\n",
    "$$ \\frac{\\partial L}{\\partial z_1} = \\frac{\\partial L}{\\partial z_2} \\cdot \\frac{\\partial a_1}{\\partial z_1} \\cdot \\frac{\\partial z_2}{\\partial a_1} = \\frac{\\partial L}{\\partial z_2} \\cdot \\sigma ' (z_1) \\cdot w_2 = -0.3965333676 \\cdot 0.2475166 \\cdot 0.5 = -0.0392594$$\n",
    "$$\\frac{\\partial L}{\\partial z_1} = - 0.0392594$$\n",
    "$$ \\frac{\\partial L}{\\partial w_1} = \\frac{\\partial L}{\\partial z_1} \\cdot \\frac{\\partial z_1}{\\partial w_1} = \\frac{\\partial L}{\\partial z_1} \\cdot x = -0.0392594 \\cdot 0.5 = -0.0196297$$\n",
    "$$ \\frac{\\partial L}{\\partial b_1} = \\frac{\\partial L}{\\partial z_1} \\cdot \\frac{\\partial z_1}{\\partial b_1} = \\frac{\\partial L}{\\partial z_1} \\cdot 1 = -0.0392594$$\n",
    "\n",
    "$$w_1^{(1)} = w_1 - \\eta \\cdot \\frac{\\partial L}{\\partial w_1} = 0.2 -0.1(-0.0196297) = 0.20196297$$\n",
    "$$w_2^{(1)} = w_2 - \\eta \\cdot \\frac{\\partial L}{\\partial w_2} = 0.4 -0.1(-0.2180275) = 0.421802752$$\n",
    "$$b_1^{(1)} = b_1 - \\eta \\cdot \\frac{\\partial L}{\\partial b_1} = 0.1 -0.1(-0.0392594) = 0.10392594$$\n",
    "$$b_2^{(1)} = b_2 - \\eta \\cdot \\frac{\\partial L}{\\partial b_2} = 0.2 -0.1(-0.3965333) = 0.23965333$$\n",
    "\n",
    "\n"
   ]
  },
  {
   "cell_type": "markdown",
   "metadata": {},
   "source": [
    "# Problem 4\n",
    "Write a Python function that simulates a single neuron. The neuron takes two \n",
    "inputs, applies a weight to each, adds a bias, and applies a ReLU activation function. Use \n",
    "the following parameters:\n",
    "\n",
    "• Inputs: $x_1 = .5$, $x_2 = .3$\n",
    "\n",
    "• Weights: $w_1 = .2$, $w_2 = .8$\n",
    "\n",
    "• Bias: $b = −.1$"
   ]
  },
  {
   "cell_type": "code",
   "execution_count": 103,
   "metadata": {},
   "outputs": [
    {
     "name": "stdout",
     "output_type": "stream",
     "text": [
      "Neuron Output: 0.24000000000000002\n"
     ]
    }
   ],
   "source": [
    "import numpy as np\n",
    "\n",
    "def simulate_neuron(x, w, b):\n",
    "    z = np.dot(x, w) + b\n",
    "    \n",
    "    # ReLU function\n",
    "    output = np.maximum(0, z)  # ReLU returns 0 if z < 0, otherwise returns z\n",
    "    \n",
    "    return output\n",
    "\n",
    "# Given parameters\n",
    "x = np.array([0.5, 0.3])\n",
    "w = np.array([0.2, 0.8])\n",
    "b = -0.1\n",
    "\n",
    "# Simulate the neuron\n",
    "output = simulate_neuron(x, w, b)\n",
    "print(\"Neuron Output:\", output)\n"
   ]
  },
  {
   "cell_type": "markdown",
   "metadata": {},
   "source": [
    "# Problem 5\n",
    "Write a Python function that implements forward propagation for a simple 2-layer neural network (input, hidden, and output layers) with ReLU activation in the hidden layer and sigmoid activation in the output layer. Use the following parameters:\n",
    "\n",
    "- Input: $ \\mathbf{x} = [0.7, 0.5] $\n",
    "- Weights between input and hidden layer:\n",
    "\n",
    "  $$\n",
    "  \\mathbf{W}_1 = \\begin{pmatrix}\n",
    "  0.3 & 0.5 \\\\\n",
    "  0.7 & -0.1\n",
    "  \\end{pmatrix}\n",
    "  $$\n",
    "\n",
    "- Bias for hidden layer: $ \\mathbf{b}_1 = [0.2, -0.4] $\n",
    "- Weights between hidden and output layer:\n",
    "\n",
    "  $$\n",
    "  \\mathbf{W}_2 = \\begin{pmatrix} 0.6 \\\\ -0.2 \\end{pmatrix}\n",
    "  $$\n",
    "\n",
    "- Bias for output layer: $ b_2 = 0.1 $\n"
   ]
  },
  {
   "cell_type": "code",
   "execution_count": 104,
   "metadata": {},
   "outputs": [
    {
     "name": "stdout",
     "output_type": "stream",
     "text": [
      "Network Output: [0.63552651]\n"
     ]
    }
   ],
   "source": [
    "import numpy as np\n",
    "\n",
    "x = np.array([0.7, 0.5])  # Input\n",
    "W1 = np.array([[0.3, 0.5],\n",
    "               [0.7, -0.1]])  # Weights between input and hidden layer\n",
    "b1 = np.array([0.2, -0.4])  # Bias for hidden layer\n",
    "W2 = np.array([[0.6],\n",
    "               [-0.2]])  # Weights between hidden and output layer\n",
    "b2 = 0.1  # Bias for output layer\n",
    "\n",
    "# activation functions\n",
    "def relu(x):\n",
    "    return np.maximum(0, x)\n",
    "\n",
    "def sigmoid(x):\n",
    "    return 1 / (1 + np.exp(-x))\n",
    "\n",
    "# Forward propagation function\n",
    "def forward_propagation(x, W1, b1, W2, b2):\n",
    "    # Hidden layer (ReLU activation)\n",
    "    z1 = np.dot(x, W1) + b1\n",
    "    a1 = relu(z1)\n",
    "    \n",
    "    # Output layer (Sigmoid activation)\n",
    "    z2 = np.dot(a1, W2) + b2\n",
    "    output = sigmoid(z2)\n",
    "    \n",
    "    return output\n",
    "\n",
    "# Perform forward propagation\n",
    "output = forward_propagation(x, W1, b1, W2, b2)\n",
    "print(\"Network Output:\", output)\n"
   ]
  },
  {
   "cell_type": "markdown",
   "metadata": {},
   "source": [
    "# Problem 6\n",
    "Extend the previous problem to include backpropagation. Given a true label $y = 1$, update the weights and biases using gradient descent with a learning rate of 0.01.\n"
   ]
  },
  {
   "cell_type": "code",
   "execution_count": 105,
   "metadata": {},
   "outputs": [
    {
     "name": "stdout",
     "output_type": "stream",
     "text": [
      "Updated Weights W1:\n",
      " [[ 0.30153079  0.5       ]\n",
      " [ 0.70109342 -0.1       ]]\n",
      "Updated Weight W2:\n",
      " [[ 0.60277]\n",
      " [-0.2    ]]\n",
      "Updated Bias b1:\n",
      " [ 0.20218684 -0.4       ]\n",
      "Updated Bias b2:\n",
      " [0.10364473]\n"
     ]
    }
   ],
   "source": [
    "import numpy as np\n",
    "\n",
    "# Input data\n",
    "x = np.array([0.7, 0.5])  # Input\n",
    "W1 = np.array([[0.3, 0.5],\n",
    "               [0.7, -0.1]])  # Weights between input and hidden layer\n",
    "b1 = np.array([0.2, -0.4])  # Bias for hidden layer\n",
    "W2 = np.array([[0.6],\n",
    "               [-0.2]])  # Weights between hidden and output layer\n",
    "b2 = 0.1  # Bias for output layer\n",
    "y_true = 1\n",
    "eta = 0.01  # Learning rate\n",
    "\n",
    "# Activation functions\n",
    "def relu(x):\n",
    "    return np.maximum(0, x)\n",
    "\n",
    "def sigmoid(x):\n",
    "    return 1 / (1 + np.exp(-x))\n",
    "\n",
    "# Forward Propagation\n",
    "# Hidden layer (ReLU activation)\n",
    "z1 = np.dot(x, W1) + b1\n",
    "a1 = relu(z1)\n",
    "\n",
    "# Output layer (Sigmoid activation)\n",
    "z2 = np.dot(a1, W2) + b2\n",
    "y_pred = sigmoid(z2)\n",
    "\n",
    "# Binary Cross-Entropy Loss\n",
    "def loss_bce(y_true, y_pred):\n",
    "    # Avoid log(0) by setting limits on y_pred\n",
    "    y_pred = np.clip(y_pred, 1e-15, 1 - 1e-15)\n",
    "    return - (y_true * np.log(y_pred) + (1 - y_true) * np.log(1 - y_pred))\n",
    "\n",
    "loss = loss_bce(y_true, y_pred)\n",
    "\n",
    "# Calculate gradients\n",
    "# Gradient of loss with respect to y_pred\n",
    "dL_dyhat = (y_pred - y_true) / (y_pred * (1 - y_pred))  # derivative of the BCE loss w.r.t y_pred\n",
    "\n",
    "# Backward propagation\n",
    "# Gradient of output w.r.t z2 (using the chain rule)\n",
    "dyhat_dz2 = y_pred * (1 - y_pred)  # derivative of the sigmoid activation!!!!\n",
    "dL_dz2 = dL_dyhat * dyhat_dz2  # Chain rule: dL/dz2 = dL/dyhat * dyhat/dz2\n",
    "\n",
    "# Gradient of z2 w.r.t W2 and b2\n",
    "dL_dW2 = np.dot(a1.reshape(-1, 1), dL_dz2.reshape(1, -1))\n",
    "dL_db2 = dL_dz2\n",
    "\n",
    "# Gradient of L w.r.t z1\n",
    "dz2_da1 = W2\n",
    "dL_dz1 = np.dot(dL_dz2, dz2_da1.T) * (z1 > 0)  # ReLU gradient (for ReLU, dL/dz1 = dL/da1 * da1/dz1)\n",
    "\n",
    "# Gradient of z1 w.r.t W1 and b1\n",
    "dL_dW1 = np.dot(x.reshape(-1, 1), dL_dz1.reshape(1, -1))\n",
    "dL_db1 = dL_dz1\n",
    "\n",
    "# Update weights and biases\n",
    "W1_updated = W1 - eta * dL_dW1\n",
    "W2_updated = W2 - eta * dL_dW2\n",
    "b1_updated = b1 - eta * dL_db1\n",
    "b2_updated = b2 - eta * dL_db2\n",
    "\n",
    "# Results\n",
    "print(\"Updated Weights W1:\\n\", W1_updated)\n",
    "print(\"Updated Weight W2:\\n\", W2_updated)\n",
    "print(\"Updated Bias b1:\\n\", b1_updated)\n",
    "print(\"Updated Bias b2:\\n\", b2_updated)\n"
   ]
  },
  {
   "cell_type": "markdown",
   "metadata": {},
   "source": [
    "# Problem 7\n",
    "Build a simple feedforward neural network using Keras. The network should:\n",
    "\n",
    "• Have 2 hidden layers with 64 neurons each.\n",
    "\n",
    "• Use ReLU as the activation function for the hidden layers.\n",
    "\n",
    "• Use the sigmoid activation function for the output layer.\n",
    "\n",
    "• Compile the model with binary cross-entropy loss and the Adam optimizer."
   ]
  },
  {
   "cell_type": "code",
   "execution_count": 106,
   "metadata": {},
   "outputs": [
    {
     "data": {
      "text/html": [
       "<pre style=\"white-space:pre;overflow-x:auto;line-height:normal;font-family:Menlo,'DejaVu Sans Mono',consolas,'Courier New',monospace\"><span style=\"font-weight: bold\">Model: \"sequential_11\"</span>\n",
       "</pre>\n"
      ],
      "text/plain": [
       "\u001b[1mModel: \"sequential_11\"\u001b[0m\n"
      ]
     },
     "metadata": {},
     "output_type": "display_data"
    },
    {
     "data": {
      "text/html": [
       "<pre style=\"white-space:pre;overflow-x:auto;line-height:normal;font-family:Menlo,'DejaVu Sans Mono',consolas,'Courier New',monospace\">┏━━━━━━━━━━━━━━━━━━━━━━━━━━━━━━━━━┳━━━━━━━━━━━━━━━━━━━━━━━━┳━━━━━━━━━━━━━━━┓\n",
       "┃<span style=\"font-weight: bold\"> Layer (type)                    </span>┃<span style=\"font-weight: bold\"> Output Shape           </span>┃<span style=\"font-weight: bold\">       Param # </span>┃\n",
       "┡━━━━━━━━━━━━━━━━━━━━━━━━━━━━━━━━━╇━━━━━━━━━━━━━━━━━━━━━━━━╇━━━━━━━━━━━━━━━┩\n",
       "│ dense_33 (<span style=\"color: #0087ff; text-decoration-color: #0087ff\">Dense</span>)                │ (<span style=\"color: #00d7ff; text-decoration-color: #00d7ff\">None</span>, <span style=\"color: #00af00; text-decoration-color: #00af00\">64</span>)             │           <span style=\"color: #00af00; text-decoration-color: #00af00\">192</span> │\n",
       "├─────────────────────────────────┼────────────────────────┼───────────────┤\n",
       "│ dense_34 (<span style=\"color: #0087ff; text-decoration-color: #0087ff\">Dense</span>)                │ (<span style=\"color: #00d7ff; text-decoration-color: #00d7ff\">None</span>, <span style=\"color: #00af00; text-decoration-color: #00af00\">64</span>)             │         <span style=\"color: #00af00; text-decoration-color: #00af00\">4,160</span> │\n",
       "├─────────────────────────────────┼────────────────────────┼───────────────┤\n",
       "│ dense_35 (<span style=\"color: #0087ff; text-decoration-color: #0087ff\">Dense</span>)                │ (<span style=\"color: #00d7ff; text-decoration-color: #00d7ff\">None</span>, <span style=\"color: #00af00; text-decoration-color: #00af00\">1</span>)              │            <span style=\"color: #00af00; text-decoration-color: #00af00\">65</span> │\n",
       "└─────────────────────────────────┴────────────────────────┴───────────────┘\n",
       "</pre>\n"
      ],
      "text/plain": [
       "┏━━━━━━━━━━━━━━━━━━━━━━━━━━━━━━━━━┳━━━━━━━━━━━━━━━━━━━━━━━━┳━━━━━━━━━━━━━━━┓\n",
       "┃\u001b[1m \u001b[0m\u001b[1mLayer (type)                   \u001b[0m\u001b[1m \u001b[0m┃\u001b[1m \u001b[0m\u001b[1mOutput Shape          \u001b[0m\u001b[1m \u001b[0m┃\u001b[1m \u001b[0m\u001b[1m      Param #\u001b[0m\u001b[1m \u001b[0m┃\n",
       "┡━━━━━━━━━━━━━━━━━━━━━━━━━━━━━━━━━╇━━━━━━━━━━━━━━━━━━━━━━━━╇━━━━━━━━━━━━━━━┩\n",
       "│ dense_33 (\u001b[38;5;33mDense\u001b[0m)                │ (\u001b[38;5;45mNone\u001b[0m, \u001b[38;5;34m64\u001b[0m)             │           \u001b[38;5;34m192\u001b[0m │\n",
       "├─────────────────────────────────┼────────────────────────┼───────────────┤\n",
       "│ dense_34 (\u001b[38;5;33mDense\u001b[0m)                │ (\u001b[38;5;45mNone\u001b[0m, \u001b[38;5;34m64\u001b[0m)             │         \u001b[38;5;34m4,160\u001b[0m │\n",
       "├─────────────────────────────────┼────────────────────────┼───────────────┤\n",
       "│ dense_35 (\u001b[38;5;33mDense\u001b[0m)                │ (\u001b[38;5;45mNone\u001b[0m, \u001b[38;5;34m1\u001b[0m)              │            \u001b[38;5;34m65\u001b[0m │\n",
       "└─────────────────────────────────┴────────────────────────┴───────────────┘\n"
      ]
     },
     "metadata": {},
     "output_type": "display_data"
    },
    {
     "data": {
      "text/html": [
       "<pre style=\"white-space:pre;overflow-x:auto;line-height:normal;font-family:Menlo,'DejaVu Sans Mono',consolas,'Courier New',monospace\"><span style=\"font-weight: bold\"> Total params: </span><span style=\"color: #00af00; text-decoration-color: #00af00\">4,417</span> (17.25 KB)\n",
       "</pre>\n"
      ],
      "text/plain": [
       "\u001b[1m Total params: \u001b[0m\u001b[38;5;34m4,417\u001b[0m (17.25 KB)\n"
      ]
     },
     "metadata": {},
     "output_type": "display_data"
    },
    {
     "data": {
      "text/html": [
       "<pre style=\"white-space:pre;overflow-x:auto;line-height:normal;font-family:Menlo,'DejaVu Sans Mono',consolas,'Courier New',monospace\"><span style=\"font-weight: bold\"> Trainable params: </span><span style=\"color: #00af00; text-decoration-color: #00af00\">4,417</span> (17.25 KB)\n",
       "</pre>\n"
      ],
      "text/plain": [
       "\u001b[1m Trainable params: \u001b[0m\u001b[38;5;34m4,417\u001b[0m (17.25 KB)\n"
      ]
     },
     "metadata": {},
     "output_type": "display_data"
    },
    {
     "data": {
      "text/html": [
       "<pre style=\"white-space:pre;overflow-x:auto;line-height:normal;font-family:Menlo,'DejaVu Sans Mono',consolas,'Courier New',monospace\"><span style=\"font-weight: bold\"> Non-trainable params: </span><span style=\"color: #00af00; text-decoration-color: #00af00\">0</span> (0.00 B)\n",
       "</pre>\n"
      ],
      "text/plain": [
       "\u001b[1m Non-trainable params: \u001b[0m\u001b[38;5;34m0\u001b[0m (0.00 B)\n"
      ]
     },
     "metadata": {},
     "output_type": "display_data"
    }
   ],
   "source": [
    "import tensorflow as tf\n",
    "from tensorflow.keras.models import Sequential\n",
    "from tensorflow.keras.layers import Dense\n",
    "\n",
    "# Build the model\n",
    "model = Sequential()\n",
    "# First hidden layer with 64 neurons and ReLU activation\n",
    "model.add(Dense(64, activation='relu', input_shape=(2,)))\n",
    "# Second hidden layer with 64 neurons and ReLU activation\n",
    "model.add(Dense(64, activation='relu'))\n",
    "# Output layer with sigmoid activation (for binary classification)\n",
    "model.add(Dense(1, activation='sigmoid'))\n",
    "# Compile the model with binary cross-entropy loss and Adam optimizer\n",
    "model.compile(optimizer='adam', loss='binary_crossentropy', metrics=['accuracy'])\n",
    "\n",
    "# Model summary\n",
    "model.summary()\n"
   ]
  },
  {
   "cell_type": "markdown",
   "metadata": {},
   "source": [
    "# Problem 8\n",
    "Train the neural network using the Iris dataset. Preprocess the data by converting the target labels to binary (1 for class setosa, 0 for the other classes). \n",
    "Use 20% of the data for validation and train the model for 50 epochs."
   ]
  },
  {
   "cell_type": "code",
   "execution_count": 107,
   "metadata": {},
   "outputs": [
    {
     "name": "stdout",
     "output_type": "stream",
     "text": [
      "Epoch 1/50\n"
     ]
    },
    {
     "name": "stderr",
     "output_type": "stream",
     "text": [
      "c:\\Users\\ntlmp\\AppData\\Local\\R-MINI~1\\lib\\site-packages\\keras\\src\\layers\\core\\dense.py:87: UserWarning: Do not pass an `input_shape`/`input_dim` argument to a layer. When using Sequential models, prefer using an `Input(shape)` object as the first layer in the model instead.\n",
      "  super().__init__(activity_regularizer=activity_regularizer, **kwargs)\n"
     ]
    },
    {
     "name": "stdout",
     "output_type": "stream",
     "text": [
      "\u001b[1m4/4\u001b[0m \u001b[32m━━━━━━━━━━━━━━━━━━━━\u001b[0m\u001b[37m\u001b[0m \u001b[1m1s\u001b[0m 68ms/step - accuracy: 0.4352 - loss: 0.7013 - val_accuracy: 0.7333 - val_loss: 0.6009\n",
      "Epoch 2/50\n",
      "\u001b[1m4/4\u001b[0m \u001b[32m━━━━━━━━━━━━━━━━━━━━\u001b[0m\u001b[37m\u001b[0m \u001b[1m0s\u001b[0m 14ms/step - accuracy: 0.8202 - loss: 0.6002 - val_accuracy: 1.0000 - val_loss: 0.5102\n",
      "Epoch 3/50\n",
      "\u001b[1m4/4\u001b[0m \u001b[32m━━━━━━━━━━━━━━━━━━━━\u001b[0m\u001b[37m\u001b[0m \u001b[1m0s\u001b[0m 27ms/step - accuracy: 0.9619 - loss: 0.5099 - val_accuracy: 1.0000 - val_loss: 0.4292\n",
      "Epoch 4/50\n",
      "\u001b[1m4/4\u001b[0m \u001b[32m━━━━━━━━━━━━━━━━━━━━\u001b[0m\u001b[37m\u001b[0m \u001b[1m0s\u001b[0m 11ms/step - accuracy: 1.0000 - loss: 0.4455 - val_accuracy: 1.0000 - val_loss: 0.3598\n",
      "Epoch 5/50\n",
      "\u001b[1m4/4\u001b[0m \u001b[32m━━━━━━━━━━━━━━━━━━━━\u001b[0m\u001b[37m\u001b[0m \u001b[1m0s\u001b[0m 11ms/step - accuracy: 1.0000 - loss: 0.3707 - val_accuracy: 1.0000 - val_loss: 0.3009\n",
      "Epoch 6/50\n",
      "\u001b[1m4/4\u001b[0m \u001b[32m━━━━━━━━━━━━━━━━━━━━\u001b[0m\u001b[37m\u001b[0m \u001b[1m0s\u001b[0m 11ms/step - accuracy: 1.0000 - loss: 0.3099 - val_accuracy: 1.0000 - val_loss: 0.2509\n",
      "Epoch 7/50\n",
      "\u001b[1m4/4\u001b[0m \u001b[32m━━━━━━━━━━━━━━━━━━━━\u001b[0m\u001b[37m\u001b[0m \u001b[1m0s\u001b[0m 12ms/step - accuracy: 1.0000 - loss: 0.2604 - val_accuracy: 1.0000 - val_loss: 0.2085\n",
      "Epoch 8/50\n",
      "\u001b[1m4/4\u001b[0m \u001b[32m━━━━━━━━━━━━━━━━━━━━\u001b[0m\u001b[37m\u001b[0m \u001b[1m0s\u001b[0m 13ms/step - accuracy: 1.0000 - loss: 0.2178 - val_accuracy: 1.0000 - val_loss: 0.1731\n",
      "Epoch 9/50\n",
      "\u001b[1m4/4\u001b[0m \u001b[32m━━━━━━━━━━━━━━━━━━━━\u001b[0m\u001b[37m\u001b[0m \u001b[1m0s\u001b[0m 11ms/step - accuracy: 1.0000 - loss: 0.1751 - val_accuracy: 1.0000 - val_loss: 0.1438\n",
      "Epoch 10/50\n",
      "\u001b[1m4/4\u001b[0m \u001b[32m━━━━━━━━━━━━━━━━━━━━\u001b[0m\u001b[37m\u001b[0m \u001b[1m0s\u001b[0m 14ms/step - accuracy: 1.0000 - loss: 0.1543 - val_accuracy: 1.0000 - val_loss: 0.1198\n",
      "Epoch 11/50\n",
      "\u001b[1m4/4\u001b[0m \u001b[32m━━━━━━━━━━━━━━━━━━━━\u001b[0m\u001b[37m\u001b[0m \u001b[1m0s\u001b[0m 11ms/step - accuracy: 1.0000 - loss: 0.1238 - val_accuracy: 1.0000 - val_loss: 0.1001\n",
      "Epoch 12/50\n",
      "\u001b[1m4/4\u001b[0m \u001b[32m━━━━━━━━━━━━━━━━━━━━\u001b[0m\u001b[37m\u001b[0m \u001b[1m0s\u001b[0m 12ms/step - accuracy: 1.0000 - loss: 0.1030 - val_accuracy: 1.0000 - val_loss: 0.0840\n",
      "Epoch 13/50\n",
      "\u001b[1m4/4\u001b[0m \u001b[32m━━━━━━━━━━━━━━━━━━━━\u001b[0m\u001b[37m\u001b[0m \u001b[1m0s\u001b[0m 11ms/step - accuracy: 1.0000 - loss: 0.0823 - val_accuracy: 1.0000 - val_loss: 0.0709\n",
      "Epoch 14/50\n",
      "\u001b[1m4/4\u001b[0m \u001b[32m━━━━━━━━━━━━━━━━━━━━\u001b[0m\u001b[37m\u001b[0m \u001b[1m0s\u001b[0m 12ms/step - accuracy: 1.0000 - loss: 0.0789 - val_accuracy: 1.0000 - val_loss: 0.0602\n",
      "Epoch 15/50\n",
      "\u001b[1m4/4\u001b[0m \u001b[32m━━━━━━━━━━━━━━━━━━━━\u001b[0m\u001b[37m\u001b[0m \u001b[1m0s\u001b[0m 12ms/step - accuracy: 1.0000 - loss: 0.0612 - val_accuracy: 1.0000 - val_loss: 0.0515\n",
      "Epoch 16/50\n",
      "\u001b[1m4/4\u001b[0m \u001b[32m━━━━━━━━━━━━━━━━━━━━\u001b[0m\u001b[37m\u001b[0m \u001b[1m0s\u001b[0m 12ms/step - accuracy: 1.0000 - loss: 0.0502 - val_accuracy: 1.0000 - val_loss: 0.0444\n",
      "Epoch 17/50\n",
      "\u001b[1m4/4\u001b[0m \u001b[32m━━━━━━━━━━━━━━━━━━━━\u001b[0m\u001b[37m\u001b[0m \u001b[1m0s\u001b[0m 11ms/step - accuracy: 1.0000 - loss: 0.0551 - val_accuracy: 1.0000 - val_loss: 0.0385\n",
      "Epoch 18/50\n",
      "\u001b[1m4/4\u001b[0m \u001b[32m━━━━━━━━━━━━━━━━━━━━\u001b[0m\u001b[37m\u001b[0m \u001b[1m0s\u001b[0m 12ms/step - accuracy: 1.0000 - loss: 0.0383 - val_accuracy: 1.0000 - val_loss: 0.0337\n",
      "Epoch 19/50\n",
      "\u001b[1m4/4\u001b[0m \u001b[32m━━━━━━━━━━━━━━━━━━━━\u001b[0m\u001b[37m\u001b[0m \u001b[1m0s\u001b[0m 13ms/step - accuracy: 1.0000 - loss: 0.0355 - val_accuracy: 1.0000 - val_loss: 0.0297\n",
      "Epoch 20/50\n",
      "\u001b[1m4/4\u001b[0m \u001b[32m━━━━━━━━━━━━━━━━━━━━\u001b[0m\u001b[37m\u001b[0m \u001b[1m0s\u001b[0m 13ms/step - accuracy: 1.0000 - loss: 0.0356 - val_accuracy: 1.0000 - val_loss: 0.0263\n",
      "Epoch 21/50\n",
      "\u001b[1m4/4\u001b[0m \u001b[32m━━━━━━━━━━━━━━━━━━━━\u001b[0m\u001b[37m\u001b[0m \u001b[1m0s\u001b[0m 13ms/step - accuracy: 1.0000 - loss: 0.0290 - val_accuracy: 1.0000 - val_loss: 0.0235\n",
      "Epoch 22/50\n",
      "\u001b[1m4/4\u001b[0m \u001b[32m━━━━━━━━━━━━━━━━━━━━\u001b[0m\u001b[37m\u001b[0m \u001b[1m0s\u001b[0m 11ms/step - accuracy: 1.0000 - loss: 0.0238 - val_accuracy: 1.0000 - val_loss: 0.0211\n",
      "Epoch 23/50\n",
      "\u001b[1m4/4\u001b[0m \u001b[32m━━━━━━━━━━━━━━━━━━━━\u001b[0m\u001b[37m\u001b[0m \u001b[1m0s\u001b[0m 20ms/step - accuracy: 1.0000 - loss: 0.0219 - val_accuracy: 1.0000 - val_loss: 0.0191\n",
      "Epoch 24/50\n",
      "\u001b[1m4/4\u001b[0m \u001b[32m━━━━━━━━━━━━━━━━━━━━\u001b[0m\u001b[37m\u001b[0m \u001b[1m0s\u001b[0m 11ms/step - accuracy: 1.0000 - loss: 0.0234 - val_accuracy: 1.0000 - val_loss: 0.0173\n",
      "Epoch 25/50\n",
      "\u001b[1m4/4\u001b[0m \u001b[32m━━━━━━━━━━━━━━━━━━━━\u001b[0m\u001b[37m\u001b[0m \u001b[1m0s\u001b[0m 13ms/step - accuracy: 1.0000 - loss: 0.0167 - val_accuracy: 1.0000 - val_loss: 0.0158\n",
      "Epoch 26/50\n",
      "\u001b[1m4/4\u001b[0m \u001b[32m━━━━━━━━━━━━━━━━━━━━\u001b[0m\u001b[37m\u001b[0m \u001b[1m0s\u001b[0m 15ms/step - accuracy: 1.0000 - loss: 0.0185 - val_accuracy: 1.0000 - val_loss: 0.0145\n",
      "Epoch 27/50\n",
      "\u001b[1m4/4\u001b[0m \u001b[32m━━━━━━━━━━━━━━━━━━━━\u001b[0m\u001b[37m\u001b[0m \u001b[1m0s\u001b[0m 13ms/step - accuracy: 1.0000 - loss: 0.0148 - val_accuracy: 1.0000 - val_loss: 0.0134\n",
      "Epoch 28/50\n",
      "\u001b[1m4/4\u001b[0m \u001b[32m━━━━━━━━━━━━━━━━━━━━\u001b[0m\u001b[37m\u001b[0m \u001b[1m0s\u001b[0m 11ms/step - accuracy: 1.0000 - loss: 0.0127 - val_accuracy: 1.0000 - val_loss: 0.0124\n",
      "Epoch 29/50\n",
      "\u001b[1m4/4\u001b[0m \u001b[32m━━━━━━━━━━━━━━━━━━━━\u001b[0m\u001b[37m\u001b[0m \u001b[1m0s\u001b[0m 11ms/step - accuracy: 1.0000 - loss: 0.0108 - val_accuracy: 1.0000 - val_loss: 0.0115\n",
      "Epoch 30/50\n",
      "\u001b[1m4/4\u001b[0m \u001b[32m━━━━━━━━━━━━━━━━━━━━\u001b[0m\u001b[37m\u001b[0m \u001b[1m0s\u001b[0m 14ms/step - accuracy: 1.0000 - loss: 0.0130 - val_accuracy: 1.0000 - val_loss: 0.0106\n",
      "Epoch 31/50\n",
      "\u001b[1m4/4\u001b[0m \u001b[32m━━━━━━━━━━━━━━━━━━━━\u001b[0m\u001b[37m\u001b[0m \u001b[1m0s\u001b[0m 15ms/step - accuracy: 1.0000 - loss: 0.0126 - val_accuracy: 1.0000 - val_loss: 0.0099\n",
      "Epoch 32/50\n",
      "\u001b[1m4/4\u001b[0m \u001b[32m━━━━━━━━━━━━━━━━━━━━\u001b[0m\u001b[37m\u001b[0m \u001b[1m0s\u001b[0m 14ms/step - accuracy: 1.0000 - loss: 0.0110 - val_accuracy: 1.0000 - val_loss: 0.0093\n",
      "Epoch 33/50\n",
      "\u001b[1m4/4\u001b[0m \u001b[32m━━━━━━━━━━━━━━━━━━━━\u001b[0m\u001b[37m\u001b[0m \u001b[1m0s\u001b[0m 14ms/step - accuracy: 1.0000 - loss: 0.0106 - val_accuracy: 1.0000 - val_loss: 0.0087\n",
      "Epoch 34/50\n",
      "\u001b[1m4/4\u001b[0m \u001b[32m━━━━━━━━━━━━━━━━━━━━\u001b[0m\u001b[37m\u001b[0m \u001b[1m0s\u001b[0m 13ms/step - accuracy: 1.0000 - loss: 0.0090 - val_accuracy: 1.0000 - val_loss: 0.0082\n",
      "Epoch 35/50\n",
      "\u001b[1m4/4\u001b[0m \u001b[32m━━━━━━━━━━━━━━━━━━━━\u001b[0m\u001b[37m\u001b[0m \u001b[1m0s\u001b[0m 14ms/step - accuracy: 1.0000 - loss: 0.0090 - val_accuracy: 1.0000 - val_loss: 0.0077\n",
      "Epoch 36/50\n",
      "\u001b[1m4/4\u001b[0m \u001b[32m━━━━━━━━━━━━━━━━━━━━\u001b[0m\u001b[37m\u001b[0m \u001b[1m0s\u001b[0m 11ms/step - accuracy: 1.0000 - loss: 0.0081 - val_accuracy: 1.0000 - val_loss: 0.0073\n",
      "Epoch 37/50\n",
      "\u001b[1m4/4\u001b[0m \u001b[32m━━━━━━━━━━━━━━━━━━━━\u001b[0m\u001b[37m\u001b[0m \u001b[1m0s\u001b[0m 11ms/step - accuracy: 1.0000 - loss: 0.0075 - val_accuracy: 1.0000 - val_loss: 0.0069\n",
      "Epoch 38/50\n",
      "\u001b[1m4/4\u001b[0m \u001b[32m━━━━━━━━━━━━━━━━━━━━\u001b[0m\u001b[37m\u001b[0m \u001b[1m0s\u001b[0m 11ms/step - accuracy: 1.0000 - loss: 0.0071 - val_accuracy: 1.0000 - val_loss: 0.0065\n",
      "Epoch 39/50\n",
      "\u001b[1m4/4\u001b[0m \u001b[32m━━━━━━━━━━━━━━━━━━━━\u001b[0m\u001b[37m\u001b[0m \u001b[1m0s\u001b[0m 12ms/step - accuracy: 1.0000 - loss: 0.0068 - val_accuracy: 1.0000 - val_loss: 0.0062\n",
      "Epoch 40/50\n",
      "\u001b[1m4/4\u001b[0m \u001b[32m━━━━━━━━━━━━━━━━━━━━\u001b[0m\u001b[37m\u001b[0m \u001b[1m0s\u001b[0m 12ms/step - accuracy: 1.0000 - loss: 0.0067 - val_accuracy: 1.0000 - val_loss: 0.0059\n",
      "Epoch 41/50\n",
      "\u001b[1m4/4\u001b[0m \u001b[32m━━━━━━━━━━━━━━━━━━━━\u001b[0m\u001b[37m\u001b[0m \u001b[1m0s\u001b[0m 13ms/step - accuracy: 1.0000 - loss: 0.0054 - val_accuracy: 1.0000 - val_loss: 0.0056\n",
      "Epoch 42/50\n",
      "\u001b[1m4/4\u001b[0m \u001b[32m━━━━━━━━━━━━━━━━━━━━\u001b[0m\u001b[37m\u001b[0m \u001b[1m0s\u001b[0m 11ms/step - accuracy: 1.0000 - loss: 0.0052 - val_accuracy: 1.0000 - val_loss: 0.0053\n",
      "Epoch 43/50\n",
      "\u001b[1m4/4\u001b[0m \u001b[32m━━━━━━━━━━━━━━━━━━━━\u001b[0m\u001b[37m\u001b[0m \u001b[1m0s\u001b[0m 11ms/step - accuracy: 1.0000 - loss: 0.0048 - val_accuracy: 1.0000 - val_loss: 0.0051\n",
      "Epoch 44/50\n",
      "\u001b[1m4/4\u001b[0m \u001b[32m━━━━━━━━━━━━━━━━━━━━\u001b[0m\u001b[37m\u001b[0m \u001b[1m0s\u001b[0m 13ms/step - accuracy: 1.0000 - loss: 0.0051 - val_accuracy: 1.0000 - val_loss: 0.0048\n",
      "Epoch 45/50\n",
      "\u001b[1m4/4\u001b[0m \u001b[32m━━━━━━━━━━━━━━━━━━━━\u001b[0m\u001b[37m\u001b[0m \u001b[1m0s\u001b[0m 11ms/step - accuracy: 1.0000 - loss: 0.0043 - val_accuracy: 1.0000 - val_loss: 0.0046\n",
      "Epoch 46/50\n",
      "\u001b[1m4/4\u001b[0m \u001b[32m━━━━━━━━━━━━━━━━━━━━\u001b[0m\u001b[37m\u001b[0m \u001b[1m0s\u001b[0m 12ms/step - accuracy: 1.0000 - loss: 0.0048 - val_accuracy: 1.0000 - val_loss: 0.0044\n",
      "Epoch 47/50\n",
      "\u001b[1m4/4\u001b[0m \u001b[32m━━━━━━━━━━━━━━━━━━━━\u001b[0m\u001b[37m\u001b[0m \u001b[1m0s\u001b[0m 11ms/step - accuracy: 1.0000 - loss: 0.0052 - val_accuracy: 1.0000 - val_loss: 0.0042\n",
      "Epoch 48/50\n",
      "\u001b[1m4/4\u001b[0m \u001b[32m━━━━━━━━━━━━━━━━━━━━\u001b[0m\u001b[37m\u001b[0m \u001b[1m0s\u001b[0m 11ms/step - accuracy: 1.0000 - loss: 0.0045 - val_accuracy: 1.0000 - val_loss: 0.0040\n",
      "Epoch 49/50\n",
      "\u001b[1m4/4\u001b[0m \u001b[32m━━━━━━━━━━━━━━━━━━━━\u001b[0m\u001b[37m\u001b[0m \u001b[1m0s\u001b[0m 14ms/step - accuracy: 1.0000 - loss: 0.0041 - val_accuracy: 1.0000 - val_loss: 0.0039\n",
      "Epoch 50/50\n",
      "\u001b[1m4/4\u001b[0m \u001b[32m━━━━━━━━━━━━━━━━━━━━\u001b[0m\u001b[37m\u001b[0m \u001b[1m0s\u001b[0m 14ms/step - accuracy: 1.0000 - loss: 0.0039 - val_accuracy: 1.0000 - val_loss: 0.0037\n"
     ]
    }
   ],
   "source": [
    "import numpy as np\n",
    "import pandas as pd\n",
    "import matplotlib.pyplot as plt\n",
    "from sklearn.datasets import load_iris\n",
    "from sklearn.model_selection import train_test_split\n",
    "from sklearn.preprocessing import StandardScaler\n",
    "from tensorflow.keras.models import Sequential\n",
    "from tensorflow.keras.layers import Dense\n",
    "\n",
    "# Step 1: Load the Iris dataset\n",
    "iris = load_iris()\n",
    "X = iris.data\n",
    "y = iris.target\n",
    "\n",
    "# Step 2: Preprocess the data (binary labels)\n",
    "# Convert to binary: 1 for 'setosa' (class 0), 0 for others\n",
    "y_binary = np.where(y == 0, 1, 0)\n",
    "\n",
    "# Step 3: Split the data into training and validation sets\n",
    "X_train, X_val, y_train, y_val = train_test_split(X, y_binary, test_size=0.2, random_state=42)\n",
    "\n",
    "# Standardizing the features\n",
    "scaler = StandardScaler()\n",
    "X_train = scaler.fit_transform(X_train)\n",
    "X_val = scaler.transform(X_val)\n",
    "\n",
    "# Step 4: Build the neural network model\n",
    "model = Sequential()\n",
    "model.add(Dense(64, activation='relu', input_shape=(X_train.shape[1],)))\n",
    "model.add(Dense(64, activation='relu'))\n",
    "model.add(Dense(1, activation='sigmoid'))  # Output layer for binary classification\n",
    "model.compile(optimizer='adam', loss='binary_crossentropy', metrics=['accuracy'])\n",
    "\n",
    "# Train the model for 50 epochs\n",
    "history = model.fit(X_train, y_train, epochs=50, validation_data=(X_val, y_val))\n"
   ]
  },
  {
   "cell_type": "markdown",
   "metadata": {},
   "source": [
    "# Problem 9\n",
    "Evaluate the model's performance on the validation data using accuracy and plot the training and validation loss over the epochs."
   ]
  },
  {
   "cell_type": "code",
   "execution_count": 108,
   "metadata": {},
   "outputs": [
    {
     "name": "stdout",
     "output_type": "stream",
     "text": [
      "\u001b[1m1/1\u001b[0m \u001b[32m━━━━━━━━━━━━━━━━━━━━\u001b[0m\u001b[37m\u001b[0m \u001b[1m0s\u001b[0m 23ms/step - accuracy: 1.0000 - loss: 0.0037\n",
      "Validation Accuracy: 1.0\n",
      "Validation Loss: 0.00371847627684474\n"
     ]
    },
    {
     "data": {
      "image/png": "[encoded data removed]",
      "text/plain": [
       "<Figure size 432x288 with 1 Axes>"
      ]
     },
     "metadata": {
      "needs_background": "light"
     },
     "output_type": "display_data"
    },
    {
     "data": {
      "image/png": "[encoded data removed]",
      "text/plain": [
       "<Figure size 432x288 with 1 Axes>"
      ]
     },
     "metadata": {
      "needs_background": "light"
     },
     "output_type": "display_data"
    }
   ],
   "source": [
    "val_loss, val_accuracy = model.evaluate(X_val, y_val)\n",
    "print(f\"Validation Accuracy: {val_accuracy}\")\n",
    "print(f\"Validation Loss: {val_loss}\")\n",
    "\n",
    "# Plot training & validation loss values\n",
    "plt.plot(history.history['loss'], label='Training Loss')\n",
    "plt.plot(history.history['val_loss'], label='Validation Loss')\n",
    "plt.title('Model Loss Over Epochs')\n",
    "plt.ylabel('Loss')\n",
    "plt.xlabel('Epoch')\n",
    "plt.legend(loc='upper right')\n",
    "plt.show()\n",
    "\n",
    "# Plot training & validation accuracy values\n",
    "plt.plot(history.history['accuracy'], label='Training Accuracy')\n",
    "plt.plot(history.history['val_accuracy'], label='Validation Accuracy')\n",
    "plt.title('Model Accuracy Over Epochs')\n",
    "plt.ylabel('Accuracy')\n",
    "plt.xlabel('Epoch')\n",
    "plt.legend(loc='lower right')\n",
    "plt.show()"
   ]
  }
 ],
 "metadata": {
  "kernelspec": {
   "display_name": "base",
   "language": "python",
   "name": "python3"
  },
  "language_info": {
   "codemirror_mode": {
    "name": "ipython",
    "version": 3
   },
   "file_extension": ".py",
   "mimetype": "text/x-python",
   "name": "python",
   "nbconvert_exporter": "python",
   "pygments_lexer": "ipython3",
   "version": "3.10.9"
  }
 },
 "nbformat": 4,
 "nbformat_minor": 2
}
