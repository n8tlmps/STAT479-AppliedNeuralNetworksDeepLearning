{
 "cells": [
  {
   "cell_type": "markdown",
   "metadata": {},
   "source": [
    "# Lecture 6 September 2024"
   ]
  },
  {
   "cell_type": "code",
   "execution_count": 2,
   "metadata": {},
   "outputs": [],
   "source": [
    "#!pip install tensorflow"
   ]
  },
  {
   "cell_type": "code",
   "execution_count": 1,
   "metadata": {},
   "outputs": [],
   "source": [
    "import tensorflow as tf\n",
    "import keras as keras\n",
    "import numpy as np"
   ]
  },
  {
   "cell_type": "code",
   "execution_count": 2,
   "metadata": {},
   "outputs": [
    {
     "name": "stdout",
     "output_type": "stream",
     "text": [
      "tensorflow.ver: 2.17.0\n",
      "keras_ver.: 3.5.0\n"
     ]
    }
   ],
   "source": [
    "print(\"tensorflow.ver:\", tf.__version__)\n",
    "print(\"keras_ver.:\", keras.__version__)"
   ]
  },
  {
   "cell_type": "code",
   "execution_count": 3,
   "metadata": {},
   "outputs": [
    {
     "name": "stdout",
     "output_type": "stream",
     "text": [
      "Python: 3.10.9 | packaged by conda-forge | (main, Jan 11 2023, 15:15:40) [MSC v.1916 64 bit (AMD64)]\n",
      "Numpy: 1.26.4\n",
      "Matplotlib:  3.8.2\n"
     ]
    }
   ],
   "source": [
    "import sys\n",
    "import numpy as np\n",
    "import matplotlib\n",
    "\n",
    "print(\"Python:\", sys.version)\n",
    "print(\"Numpy:\", np.__version__)\n",
    "print(\"Matplotlib: \", matplotlib.__version__)"
   ]
  },
  {
   "cell_type": "code",
   "execution_count": 5,
   "metadata": {},
   "outputs": [
    {
     "data": {
      "image/png": "[encoded data removed]",
      "text/plain": [
       "<Figure size 576x432 with 1 Axes>"
      ]
     },
     "metadata": {
      "needs_background": "light"
     },
     "output_type": "display_data"
    }
   ],
   "source": [
    "import matplotlib.pyplot as plt\n",
    "\n",
    "# Initialize the input values, weights, and bias\n",
    "inputs = [1, 2, 3]\n",
    "weights = [0.2, 0.8, -0.5]\n",
    "bias = 2.0\n",
    "\n",
    "# Create a figure and axis\n",
    "fig, ax = plt.subplots(figsize=(8, 6))\n",
    "\n",
    "# Draw the perceptron components\n",
    "# Inputs\n",
    "input_positions = [(0, 3), (0, 2), (0, 1)]\n",
    "for i, pos in enumerate(input_positions):\n",
    "    ax.text(pos[0] - 0.1, pos[1], f'Input {inputs[i]}', fontsize=12, ha='right')\n",
    "    ax.scatter(pos[0], pos[1], s=1000, color='skyblue', edgecolor='black')\n",
    "\n",
    "# Weights\n",
    "weight_positions = [(1, 2.5), (1, 2), (1, 1.5)]\n",
    "for i, pos in enumerate(weight_positions):\n",
    "    ax.text(pos[0] + 0.1, pos[1], f'Weight {weights[i]}', fontsize=12, va='center')\n",
    "    ax.plot([0, 1], [input_positions[i][1], pos[1]], color='gray')\n",
    "\n",
    "# Bias\n",
    "ax.scatter(1.5, 2, s=1000, color='lightgreen', edgecolor='black')\n",
    "ax.text(1.5, 2.2, f'Bias {bias}', fontsize=12, ha='center')\n",
    "\n",
    "# Output\n",
    "ax.scatter(3, 2, s=1000, color='salmon', edgecolor='black')\n",
    "ax.text(3.1, 2, 'Output', fontsize=12, ha='left')\n",
    "\n",
    "# Draw lines to the output\n",
    "for i, pos in enumerate(weight_positions):\n",
    "    ax.plot([1, 3], [pos[1], 2], color='gray')\n",
    "\n",
    "# Set the axis limits and hide the axis\n",
    "ax.set_xlim(-0.5, 4)\n",
    "ax.set_ylim(0.5, 3.5)\n",
    "ax.axis('off')\n",
    "\n",
    "# Display the perceptron diagram\n",
    "plt.title('Perceptron with 3 Inputs, Weights, and Bias')\n",
    "plt.show() "
   ]
  },
  {
   "cell_type": "markdown",
   "metadata": {},
   "source": [
    "## Simple NN (Perceptron) with 4 inputs"
   ]
  },
  {
   "cell_type": "code",
   "execution_count": 6,
   "metadata": {},
   "outputs": [
    {
     "name": "stdout",
     "output_type": "stream",
     "text": [
      "6.8\n",
      "6.8\n"
     ]
    }
   ],
   "source": [
    "# simple NN (Perceptron) with 4 inputs\n",
    "inputs = [1, 2, 3, 4.5] # <- this is an array\n",
    "weights = [0.2, 0.8, -0.5, 1]\n",
    "bias = 2\n",
    "\n",
    "# the output is a LC of inputs and weights + bias\n",
    "output = inputs[0]*weights[0] + inputs[1]*weights[1] + inputs[2]*weights[2] + inputs[3]*weights[3] + bias\n",
    "print(output)\n",
    "\n",
    "lc = np.dot(inputs, weights) + bias\n",
    "print(lc)"
   ]
  },
  {
   "cell_type": "markdown",
   "metadata": {},
   "source": [
    "What about if there are 4 inputs with 3 neurons?"
   ]
  },
  {
   "cell_type": "code",
   "execution_count": 7,
   "metadata": {},
   "outputs": [
    {
     "name": "stdout",
     "output_type": "stream",
     "text": [
      "[4.8, 1.21, 2.385]\n"
     ]
    }
   ],
   "source": [
    "# 4 inputs and 3 neurons\n",
    "# there are 3 sets per weight\n",
    "inputs = [1, 2, 3, 2.5] # <- this is an array\n",
    "\n",
    "weights1 = [0.2, 0.8, -0.5, 1]\n",
    "weights2 = [0.5, -0.91, 0.26, -0.5]\n",
    "weights3 = [-0.26, -0.27, 0.17, 0.87]\n",
    "\n",
    "# need 1 bias per neuron, so we need 3 neurons\n",
    "bias1 = 2\n",
    "bias2 = 3\n",
    "bias3 = 0.5\n",
    "\n",
    "# use list to obtain output\n",
    "# in python, a list is just a matrix\n",
    "output = [\n",
    "    inputs[0]*weights1[0] + inputs[1]*weights1[1] + inputs[2]*weights1[2] + inputs[3]*weights1[3] + bias1,\n",
    "    inputs[0]*weights2[0] + inputs[1]*weights2[1] + inputs[2]*weights2[2] + inputs[3]*weights2[3] + bias2,\n",
    "    inputs[0]*weights3[0] + inputs[1]*weights3[1] + inputs[2]*weights3[2] + inputs[3]*weights3[3] + bias3\n",
    "]\n",
    "print(output)\n"
   ]
  },
  {
   "cell_type": "code",
   "execution_count": 6,
   "metadata": {},
   "outputs": [
    {
     "data": {
      "image/png": "[encoded data removed]",
      "text/plain": [
       "<Figure size 720x432 with 1 Axes>"
      ]
     },
     "metadata": {
      "needs_background": "light"
     },
     "output_type": "display_data"
    },
    {
     "name": "stdout",
     "output_type": "stream",
     "text": [
      "Output: [4.8, 1.21, 2.385]\n"
     ]
    }
   ],
   "source": [
    "import matplotlib.pyplot as plt\n",
    "\n",
    "# Define the inputs, weights, and biases\n",
    "inputs = [1, 2, 3, 2.5]\n",
    "weights = [[0.2, 0.8, -0.5, 1.0], [0.5, -0.91, 0.26, -0.5], [-0.26, -0.27, 0.17, 0.87]]\n",
    "biases = [2, 3, 0.5]\n",
    "\n",
    "# Create a figure and axis\n",
    "fig, ax = plt.subplots(figsize=(10, 6))\n",
    "\n",
    "# Draw the neural network components\n",
    "# Inputs\n",
    "input_positions = [(0, 4), (0, 3), (0, 2), (0, 1)]\n",
    "for i, pos in enumerate(input_positions):\n",
    "    ax.text(pos[0] - 0.1, pos[1], f'Input {inputs[i]}', fontsize=12, ha='right')\n",
    "    ax.scatter(pos[0], pos[1], s=1000, color='skyblue', edgecolor='black')\n",
    "\n",
    "# Weights and Outputs\n",
    "output_positions = [(3, 3.5), (3, 2.5), (3, 1.5)]\n",
    "output_names = ['Output 1', 'Output 2', 'Output 3']\n",
    "\n",
    "for i, output_pos in enumerate(output_positions):\n",
    "    # Draw the output neuron\n",
    "    ax.scatter(output_pos[0], output_pos[1], s=1000, color='salmon', edgecolor='black')\n",
    "    ax.text(output_pos[0] + 0.2, output_pos[1], output_names[i], fontsize=12, ha='left')\n",
    "\n",
    "    # Connect each input to the output neuron\n",
    "    for j, input_pos in enumerate(input_positions):\n",
    "        ax.plot([input_pos[0], output_pos[0]], [input_pos[1], output_pos[1]], color='gray')\n",
    "\n",
    "    # Display the bias\n",
    "    ax.text(output_pos[0] - 0.2, output_pos[1] + 0.3, f'Bias: {biases[i]}', fontsize=12, ha='center')\n",
    "\n",
    "# Set the axis limits and hide the axis\n",
    "ax.set_xlim(-0.5, 4)\n",
    "ax.set_ylim(0.5, 4.5)\n",
    "ax.axis('off')\n",
    "\n",
    "# Display the neural network structure\n",
    "plt.title('Neural Network Structure with Inputs, Weights, and Biases')\n",
    "plt.show()\n",
    "\n",
    "# Calculate and print the output of the network\n",
    "output = [\n",
    "    sum(inputs[j] * weights[0][j] for j in range(len(inputs))) + biases[0],\n",
    "    sum(inputs[j] * weights[1][j] for j in range(len(inputs))) + biases[1],\n",
    "    sum(inputs[j] * weights[2][j] for j in range(len(inputs))) + biases[2],\n",
    "]\n",
    "print(f'Output: {output}')"
   ]
  },
  {
   "cell_type": "markdown",
   "metadata": {},
   "source": [
    "We can convert the 3 weights into one matrix; same thing with the bias"
   ]
  },
  {
   "cell_type": "code",
   "execution_count": 7,
   "metadata": {},
   "outputs": [],
   "source": [
    "# use weights and bias in list format\n",
    "# 4 inputs, 3 neurons\n",
    "inputs = [1, 2, 3, 2.5]\n",
    "\n",
    "# shape of weights: (3,4) or [3 x 4]: 2D array (matrix)\n",
    "weights = [\n",
    "    [0.2, 0.8, -0.5, 1],\n",
    "    [0.5, -0.91, 0.26, -0.5],\n",
    "    [-0.26, -0.27, 0.17, 0.87]\n",
    "]\n",
    "\n",
    "biases = [2, 0.3, 0.5]\n",
    "# shape of biases: (1,3) or [1 x 3]"
   ]
  },
  {
   "cell_type": "markdown",
   "metadata": {},
   "source": [
    "Linear combination is the **dot product**!!"
   ]
  },
  {
   "cell_type": "code",
   "execution_count": 8,
   "metadata": {},
   "outputs": [
    {
     "name": "stdout",
     "output_type": "stream",
     "text": [
      "np output: [4.8   1.21  2.385]\n"
     ]
    }
   ],
   "source": [
    "# 4 inputs and 3 neurons\n",
    "inputs = [1, 2, 3, 2.5]  # Input array\n",
    "\n",
    "weights = [\n",
    "    [0.2, 0.8, -0.5, 1],   # Weights for neuron 1\n",
    "    [0.5, -0.91, 0.26, -0.5],  # Weights for neuron 2\n",
    "    [-0.26, -0.27, 0.17, 0.87]  # Weights for neuron 3\n",
    "]\n",
    "\n",
    "biases = [2, 3, 0.5]  # Biases for each neuron\n",
    "\n",
    "# Employ dot product (inputs x weights.T) + biases\n",
    "import numpy as np\n",
    "\n",
    "output = np.dot(weights, inputs) + biases  # Transpose not needed here as weights are already in the correct shape\n",
    "print(f\"np output: {output}\")  # <-- this is called an f-string!!\n"
   ]
  },
  {
   "cell_type": "markdown",
   "metadata": {},
   "source": [
    "## Forward Propagation vs Backpropagation\n",
    "\n",
    "#### Forward Propagation\n",
    "- In forward propagation, the neural network processes input data by passing it through the layers of the network. Each layer applies weights and biases to the inputs, and then an activation function produces the output.\n",
    "- **Purpose**: It calculates the predicted output using the initial weights and biases. No learning or adjustments happen during this phase.\n",
    "- **Process**: Inputs → Weights & Biases → Activation → Output (Prediction)\n",
    "- This phase doesn't involve corrections but simply computes the output based on the current state of the network.\n",
    "\n",
    "#### Backpropagation\n",
    "- Backpropagation is the process where the neural network learns by correcting errors. It calculates the gradient of the loss function with respect to each weight by using the chain rule.\n",
    "- **Purpose**: It updates the weights and biases by minimizing the error between the predicted output and the actual output using techniques like gradient descent.\n",
    "- **Process**: Error (Loss) is propagated back through the network → Calculate gradients → Adjust weights and biases to reduce error.\n",
    "\n"
   ]
  },
  {
   "cell_type": "markdown",
   "metadata": {},
   "source": [
    "## Forward propogation in ANN"
   ]
  },
  {
   "cell_type": "code",
   "execution_count": 10,
   "metadata": {},
   "outputs": [
    {
     "name": "stdout",
     "output_type": "stream",
     "text": [
      "[0.7474 0.5824 0.6845 0.9059 0.3947 0.3828]\n",
      "[0.173  0.6868 0.2813]\n",
      "x1 is 0.5 and x2 is 0.85\n"
     ]
    }
   ],
   "source": [
    "# import numpy as np\n",
    "\n",
    "weights = np.around(np.random.uniform(size=6), decimals=4)\n",
    "biases = np.around(np.random.uniform(size=3), decimals=4)\n",
    "\n",
    "print(weights)\n",
    "print(biases)\n",
    "\n",
    "# inputs\n",
    "x_1 = 0.5 # input 1\n",
    "x_2 = 0.85 # input 2\n",
    "\n",
    "print(f\"x1 is {x_1} and x2 is {x_2}\")"
   ]
  },
  {
   "cell_type": "code",
   "execution_count": 11,
   "metadata": {},
   "outputs": [
    {
     "name": "stdout",
     "output_type": "stream",
     "text": [
      "The weighted sum of the inputs at the first node in the hidden layer is 1.0417\n"
     ]
    }
   ],
   "source": [
    "# z_11 = x1w1 + x2w2 + b11\n",
    "z_11 = x_1 * weights[0] + x_2 * weights[1] + biases[0]\n",
    "# np.around(z_11, decimals=4)\n",
    "print(f\"The weighted sum of the inputs at the first node in the hidden layer is {z_11:.4f}\")\n",
    "#print(f\"The weighted sum of the inputs at the first node in the hidden layer is {z_11}\")"
   ]
  },
  {
   "cell_type": "code",
   "execution_count": 12,
   "metadata": {},
   "outputs": [
    {
     "name": "stdout",
     "output_type": "stream",
     "text": [
      "The weighted sum of the inputs at the second node in the hidden layer is 1.7991\n"
     ]
    }
   ],
   "source": [
    "# z_12 = x1w3 + x2w4 + b12\n",
    "z_12 = x_1 * weights[2] + x_2 * weights[3] + biases[1]\n",
    "z_12 = np.around(z_12, decimals=4)\n",
    "print(f\"The weighted sum of the inputs at the second node in the hidden layer is {z_12}\")"
   ]
  },
  {
   "cell_type": "markdown",
   "metadata": {},
   "source": [
    "$\\text{Sigmoid activation function: }$ $$a(z) = \\frac{1}{1 + e^{-z}}$$\n"
   ]
  },
  {
   "cell_type": "code",
   "execution_count": 13,
   "metadata": {},
   "outputs": [
    {
     "name": "stdout",
     "output_type": "stream",
     "text": [
      "The activation of the first node in the hidden layer is 0.7392\n",
      "The activation of the second node in the hidden layer is 0.8580\n"
     ]
    }
   ],
   "source": [
    "# assuming a sigmoid activation function, let's compute the activation of the first node: a_1,1, in the hidden layer\n",
    "a_11 = 1./(1+np.exp(-z_11))\n",
    "print(f\"The activation of the first node in the hidden layer is {a_11:.4f}\")\n",
    "\n",
    "# for a_1,2\n",
    "a_12 = 1./(1+np.exp(-z_12))\n",
    "print(f\"The activation of the second node in the hidden layer is {a_12:.4f}\")"
   ]
  },
  {
   "cell_type": "code",
   "execution_count": 14,
   "metadata": {},
   "outputs": [
    {
     "name": "stdout",
     "output_type": "stream",
     "text": [
      "The weighted sum at the output layer is 0.9015\n"
     ]
    }
   ],
   "source": [
    "# output layer\n",
    "z_2 = a_11*weights[4] + a_12*weights[5] + biases[2]\n",
    "print(f\"The weighted sum at the output layer is {z_2:.4f}\")"
   ]
  },
  {
   "cell_type": "code",
   "execution_count": 15,
   "metadata": {},
   "outputs": [
    {
     "name": "stdout",
     "output_type": "stream",
     "text": [
      "The output of the network for X is 0.7113\n"
     ]
    }
   ],
   "source": [
    "# output of the network in the output layer\n",
    "a_2 = 1./(1.+np.exp(-z_2))\n",
    "print(f\"The output of the network for X is {a_2:.4f}\")"
   ]
  },
  {
   "cell_type": "code",
   "execution_count": 16,
   "metadata": {},
   "outputs": [
    {
     "name": "stdout",
     "output_type": "stream",
     "text": [
      "[[ 4.8    1.21   2.385]\n",
      " [ 8.9   -1.81   0.2  ]\n",
      " [ 1.41   1.051  0.026]]\n"
     ]
    }
   ],
   "source": [
    "# batches of inputs\n",
    "# list of shape (3,4) input matrix\n",
    "inputs = [\n",
    "    [1, 2, 3, 2.5],\n",
    "    [2, 5, -1, 2],\n",
    "    [-1.5, 2.7, 3.3, -.8]\n",
    "]\n",
    "\n",
    "weights = [\n",
    "    [0.2, 0.8, -0.5, 1],\n",
    "    [0.5, -0.91, 0.26, -0.5],\n",
    "    [-0.26, -0.27, 0.17, 0.87]\n",
    "]\n",
    "\n",
    "biases = [2, 3, 0.5]\n",
    "\n",
    "layer_output = np.dot(inputs, np.array(weights).T) + biases\n",
    "print(layer_output)"
   ]
  },
  {
   "cell_type": "code",
   "execution_count": 17,
   "metadata": {},
   "outputs": [
    {
     "name": "stdout",
     "output_type": "stream",
     "text": [
      "[[ 0.1885  -1.04185 -2.03875]\n",
      " [ 0.714   -2.7332  -5.7633 ]\n",
      " [-1.2664   1.41254 -0.35655]]\n"
     ]
    }
   ],
   "source": [
    "# so far, we have input layer with 4 features and a hidden layer with 3 neurons\n",
    "# add another layer with 3 neurons\n",
    "weights2 = [\n",
    "    [0.1, -0.4, 0.5],\n",
    "    [-0.5, 0.12, -0.33],\n",
    "    [-0.44, 0.73, -0.13]\n",
    "]\n",
    "\n",
    "biases2 = [-1, 2, -0.5]\n",
    "\n",
    "layer2_output = np.dot(layer_output, np.array(weights2).T) + biases2\n",
    "print(layer2_output)"
   ]
  }
 ],
 "metadata": {
  "kernelspec": {
   "display_name": "base",
   "language": "python",
   "name": "python3"
  },
  "language_info": {
   "codemirror_mode": {
    "name": "ipython",
    "version": 3
   },
   "file_extension": ".py",
   "mimetype": "text/x-python",
   "name": "python",
   "nbconvert_exporter": "python",
   "pygments_lexer": "ipython3",
   "version": "3.10.9"
  }
 },
 "nbformat": 4,
 "nbformat_minor": 2
}
