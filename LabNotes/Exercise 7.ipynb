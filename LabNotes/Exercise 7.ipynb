{
 "cells": [
  {
   "cell_type": "markdown",
   "id": "8c602da1-95f5-46ed-ad10-7af5dbd27f14",
   "metadata": {},
   "source": [
    "# Convolutional Neural Network"
   ]
  },
  {
   "cell_type": "code",
   "execution_count": 1,
   "id": "f521b377-f76e-4bf4-8597-d64f1944d4ee",
   "metadata": {},
   "outputs": [],
   "source": [
    "import tensorflow as tf\n",
    "import keras as keras\n"
   ]
  },
  {
   "cell_type": "code",
   "execution_count": 2,
   "id": "17404191-c746-4d65-9aa1-35539822c563",
   "metadata": {},
   "outputs": [],
   "source": [
    "from tensorflow.keras.models import Sequential\n",
    "from tensorflow.keras.layers import Dense, Flatten, Conv2D, MaxPooling2D"
   ]
  },
  {
   "cell_type": "markdown",
   "id": "e121f86d-f64e-48e1-a881-1564148851cb",
   "metadata": {},
   "source": [
    "Build a CNN model"
   ]
  },
  {
   "cell_type": "code",
   "execution_count": 37,
   "id": "8ae15755-5ebe-4ab1-8921-f13403907908",
   "metadata": {},
   "outputs": [],
   "source": [
    "# Build the Sequential CNN model\n",
    "model = Sequential([\n",
    "    Conv2D(16, (3,3), activation='relu', input_shape=(28,28,1)),\n",
    "    # Put more layers\n",
    "    MaxPooling2D((3,3)), # it performs downsampling by selecting the maximum value from each pooling window.\n",
    "    Flatten(),\n",
    "    Dense(10, activation='softmax')\n",
    "])"
   ]
  },
  {
   "cell_type": "code",
   "execution_count": 38,
   "id": "9bce9a07-1881-4a70-83a9-2074b4a02aa0",
   "metadata": {},
   "outputs": [
    {
     "name": "stdout",
     "output_type": "stream",
     "text": [
      "Model: \"sequential_11\"\n",
      "_________________________________________________________________\n",
      " Layer (type)                Output Shape              Param #   \n",
      "=================================================================\n",
      " conv2d_8 (Conv2D)           (None, 26, 26, 16)        160       \n",
      "                                                                 \n",
      " max_pooling2d_7 (MaxPoolin  (None, 8, 8, 16)          0         \n",
      " g2D)                                                            \n",
      "                                                                 \n",
      " flatten_8 (Flatten)         (None, 1024)              0         \n",
      "                                                                 \n",
      " dense_14 (Dense)            (None, 10)                10250     \n",
      "                                                                 \n",
      "=================================================================\n",
      "Total params: 10410 (40.66 KB)\n",
      "Trainable params: 10410 (40.66 KB)\n",
      "Non-trainable params: 0 (0.00 Byte)\n",
      "_________________________________________________________________\n"
     ]
    }
   ],
   "source": [
    "# Print the model summary\n",
    "model.summary()"
   ]
  },
  {
   "cell_type": "markdown",
   "id": "e39b1ca1-6a7e-42dc-ab89-711ac900c113",
   "metadata": {},
   "source": [
    "In Output Shape (None, 26, 26, 16), \n",
    "* None represents the batch size, which is not fixed during model definition.\n",
    "  - This allows for flexibility, meaning the model can process inputs with any batch size.\n",
    "* 26, 26 are the height and width of the feature map after convolution.\n",
    "  - The size decreases from the input shape (28, 28) because the kernel size is (3, 3) and the default stride is (1,1), which reduces the dimensions:\n",
    "  - Output size = Input size - Kernel size + 1 = 28 - 3 + 1 = 26.\n",
    "* 16 is the number of fiters.\n",
    "\n",
    "* The total number of trainable parameters is calcuated as:\n",
    "  - $\\text{Parameters} = (\\text{Kernel height} \\times \\text{Kernel width} \\times \\text{Input channels}) + \\text{Bias terms}$\n",
    "  - Each filter has $3 \\times 3 \\times 1 = 9$ parameters\n",
    "  - We have 16 filters: $9 \\times 16 = 144$ parameters\n",
    "  - Each filter has one bias term: 16 bias terms\n",
    "  - Thus 144 (kernel parameters) + 16 (bias terms) = 160\n",
    "\n",
    "Output shpae after pooling \n",
    "* The output shape after applying MaxPooling2D((3,3)) changes because pooling reduces the spatial dimensions (height and width) of the input.\n",
    "  - Here's how the dimensions are calculated:\n",
    "  - $ \\text{Output Size (H or W)} = \\frac{\\text{Input Size} - \\text{Pooling Window Size}}{\\text{Stride}} + 1 $\n",
    "  - Here, the input size = 26, pooling window size = 3, stride defaults to th epooling window size (stride = (3,3))\n",
    "  - Thus, $ \\text{Output Size (H or W)} = \\frac{\\text{26} - \\text{3}}{\\text{3}} + 1 ;= 8$\n",
    "  - The number of channels (16) remains unchanged.\n",
    " \n",
    "For Flatten: $ 8 \\times 8 \\times 16 = 1024$\n",
    "\n",
    "For Dense layer:\n",
    "* The number of parameters is given by\n",
    "  - $\\text{Parameters} = (\\text{Input Features} \\times \\text{Output Units} + \\text{Output Units (Bias terms)} = 1024 \\times 10 + 10 = 10250$"
   ]
  },
  {
   "cell_type": "code",
   "execution_count": 12,
   "id": "b7824402-629e-44c0-97ee-4d3efd287746",
   "metadata": {},
   "outputs": [
    {
     "name": "stdout",
     "output_type": "stream",
     "text": [
      "Model: \"sequential_4\"\n",
      "_________________________________________________________________\n",
      " Layer (type)                Output Shape              Param #   \n",
      "=================================================================\n",
      " conv2d_4 (Conv2D)           (None, 28, 28, 16)        160       \n",
      "                                                                 \n",
      " max_pooling2d_3 (MaxPoolin  (None, 9, 9, 16)          0         \n",
      " g2D)                                                            \n",
      "                                                                 \n",
      " flatten_1 (Flatten)         (None, 1296)              0         \n",
      "                                                                 \n",
      " dense_1 (Dense)             (None, 10)                12970     \n",
      "                                                                 \n",
      "=================================================================\n",
      "Total params: 13130 (51.29 KB)\n",
      "Trainable params: 13130 (51.29 KB)\n",
      "Non-trainable params: 0 (0.00 Byte)\n",
      "_________________________________________________________________\n"
     ]
    }
   ],
   "source": [
    "# What if\n",
    "# Build the Sequential CNN model\n",
    "model = Sequential([\n",
    "    Conv2D(16, (3,3), padding = 'SAME', activation='relu', input_shape=(28,28,1)),\n",
    "    # Put more layers\n",
    "    MaxPooling2D((3,3)), # it performs downsampling by selecting the maximum value from each pooling window.\n",
    "    Flatten(),\n",
    "    Dense(10, activation='softmax')\n",
    "])\n",
    "model.summary()"
   ]
  },
  {
   "cell_type": "markdown",
   "id": "213b691c-8d05-4662-b602-55747f3feee2",
   "metadata": {},
   "source": [
    "Since we use the padding = 'SAME', \n",
    "* output shape is the same as input shape (None, 28, 28, 16)\n",
    "* After pooling:\n",
    "  - $ \\text{Output Size (H or W)} = \\frac{\\text{Input Size}}{\\text{Stride}} = \\frac{28}{3} = 9$\n",
    "* flatten: $9 \\times 9 \\times 16 = 1296$\n",
    "* For Dense layer: the number of parameters is given by\n",
    "  - $\\text{Parameters} = (\\text{Input Features} \\times \\text{Output Units} + \\text{Output Units (Bias terms)} = 1296 \\times 10 + 10 = 12970$"
   ]
  },
  {
   "cell_type": "code",
   "execution_count": 15,
   "id": "11efa567-5c05-421a-b98e-d14e9966981f",
   "metadata": {},
   "outputs": [
    {
     "name": "stdout",
     "output_type": "stream",
     "text": [
      "Model: \"sequential_6\"\n",
      "_________________________________________________________________\n",
      " Layer (type)                Output Shape              Param #   \n",
      "=================================================================\n",
      " conv2d_6 (Conv2D)           (None, 14, 14, 16)        160       \n",
      "                                                                 \n",
      " max_pooling2d_5 (MaxPoolin  (None, 4, 4, 16)          0         \n",
      " g2D)                                                            \n",
      "                                                                 \n",
      " flatten_3 (Flatten)         (None, 256)               0         \n",
      "                                                                 \n",
      " dense_3 (Dense)             (None, 10)                2570      \n",
      "                                                                 \n",
      "=================================================================\n",
      "Total params: 2730 (10.66 KB)\n",
      "Trainable params: 2730 (10.66 KB)\n",
      "Non-trainable params: 0 (0.00 Byte)\n",
      "_________________________________________________________________\n"
     ]
    }
   ],
   "source": [
    "# what if we add \"strides = 2\"\n",
    "# Build the Sequential CNN model\n",
    "model = Sequential([\n",
    "    Conv2D(16, (3,3), padding = 'SAME', strides = 2, activation='relu', input_shape=(28,28,1)),\n",
    "    # Put more layers\n",
    "    MaxPooling2D((3,3)), # it performs downsampling by selecting the maximum value from each pooling window.\n",
    "    Flatten(),\n",
    "    Dense(10, activation='softmax')\n",
    "])\n",
    "model.summary()"
   ]
  },
  {
   "cell_type": "markdown",
   "id": "2cf3126e-2bad-484d-8822-2d3f8001cae9",
   "metadata": {},
   "source": [
    "* Input shape (28, 28, 1)\n",
    "* Filters 16\n",
    "* Stride 2\n",
    "* Padding same\n",
    "  - $ \\text{Output Size (H or W)} = \\frac{\\text{Input Size}}{\\text{Stride}} = \\frac{28}{2} = 14$\n",
    "  - Thus output shape is (None, 14, 14, 16)\n",
    "  - $\\text{Parameters} = (\\text{Kernel height} \\times \\text{Kernel width} \\times \\text{Input channels}) + \\text{Bias terms}$\n",
    "  - $\\text{Parameters} = (\\text{3} \\times \\text{3} \\times \\text{16}) + \\text{16} =  144 + 16 = 160$"
   ]
  },
  {
   "cell_type": "markdown",
   "id": "28cf5b87-4ab4-4d91-b3fe-115d7f9d3e96",
   "metadata": {},
   "source": [
    "MaxPooling2D layer:\n",
    "* input shape: (None, 14, 14, 16)\n",
    "* Pooling Window size: (3,3)\n",
    "* Stride: Defaults to the pooling window size (3, 3) if not explicitly specified.\n",
    "* Padding: Defaults to 'VALID' (no padding).\n",
    "  - $ \\text{Output Size} = \\left\\lfloor \\frac{\\text{Input Size} - \\text{Pooling Window Size}}{\\text{Stride}} + 1 \\right\\rfloor $\n",
    "  - So, $ \\text{Output Size} = \\left\\lfloor \\frac{\\text{14} - \\text{3}}{\\text{3}} + 1 \\right\\rfloor =  \\left\\lfloor 4.67 \\right\\rfloor = 4$"
   ]
  },
  {
   "cell_type": "markdown",
   "id": "80792215-f6a8-4471-abb7-b1a2b4358d82",
   "metadata": {},
   "source": [
    "Flatten layer reshapes the 3D output into a 1D vector: $ \\text{Output Shape} = 4 \\times 4 \\times \\ 16 = 256 $"
   ]
  },
  {
   "cell_type": "markdown",
   "id": "f603ba3b-26cb-41aa-9aa8-7e580baaa537",
   "metadata": {},
   "source": [
    "Dense layer: \n",
    "* $\\text{Parameters} = (\\text{Input Features} \\times \\text{Output Units} + \\text{Output Units (Bias terms)} $\n",
    "* So, $\\text{Parameters} = \\text{256} \\times \\text{10} + \\text{10} = 2570$"
   ]
  },
  {
   "cell_type": "markdown",
   "id": "f009dd30-6b38-4c5b-bd77-2e2d8412d6f6",
   "metadata": {},
   "source": [
    "# Weight and bias initializers\n",
    "* We investigate different ways to initialize weights and biases in the layers of NNs."
   ]
  },
  {
   "cell_type": "code",
   "execution_count": 16,
   "id": "c7f225c6-fe52-4523-9077-947c201d5f83",
   "metadata": {},
   "outputs": [],
   "source": [
    "%matplotlib inline \n",
    "import pandas as pd"
   ]
  },
  {
   "cell_type": "markdown",
   "id": "42525d0f-95f4-46b3-93b8-12e580f9a592",
   "metadata": {},
   "source": [
    "### Default weights and biases\r\n",
    "\r\n",
    "In the models we have worked with so far, we have not specified the initial values of the weights and biases in each layer of our neural networks.\r\n",
    "\r\n",
    "The default values of the weights and biases in TensorFlow depend on the type of layers we are using. \r\n",
    "\r\n",
    "For example, in a `Dense` layer, the biases are set to zero (`zeros`) by default, while the weights are set according to `glorot_uniform`, the Glorot uniform inztialiser. \r\n",
    "\r\n",
    "The Glorot uniform znitialiser draws the weights uniformly at random from the closed interval $[-c,c]$, where $$c = \\sqrt{\\frac{6}{n_{input}+n_{output}}}$$"
   ]
  },
  {
   "cell_type": "markdown",
   "id": "78fa211c-2661-460d-98b3-ac3db7d4ee06",
   "metadata": {},
   "source": [
    "and $n_{input}$ and $n_{output}$ are the number of inputs to, and outputs from the layer respectively."
   ]
  },
  {
   "cell_type": "markdown",
   "id": "a120d385-437c-49a3-beb4-7c3f41e3ee3f",
   "metadata": {},
   "source": [
    "### Initialising your own weights and biases\n",
    "We often would like to initialize our own weights and biases, and TensorFlow makes this process quite straightforward.\n",
    "\n",
    "When we construct a model in TensorFlow, each layer has optional arguments `kernel_initialiser` and `bias_initialiser`, which are used to set the weights and biases respectively.\n",
    "\n",
    "If a layer has no weights or biases (e.g. it is a max pooling layer), then trying to set either `kernel_initialiser` or `bias_initialiser` will throw an error.\n",
    "\n",
    "Let's see an example, which uses some of the different initializations available in Keras."
   ]
  },
  {
   "cell_type": "code",
   "execution_count": 17,
   "id": "7cb8fd89-7587-45f2-85f6-38e68325505c",
   "metadata": {},
   "outputs": [],
   "source": [
    "from tensorflow.keras.models import Sequential\n",
    "from tensorflow.keras.layers import Flatten, Dense, Conv1D, MaxPooling1D "
   ]
  },
  {
   "cell_type": "code",
   "execution_count": 20,
   "id": "15d2f739-4fcb-41a4-8739-fd947c2c38b2",
   "metadata": {},
   "outputs": [],
   "source": [
    "# Construct a model\n",
    "\n",
    "model = Sequential([\n",
    "    Conv1D(filters=16, kernel_size=3, input_shape=(128, 64), kernel_initializer='random_uniform', bias_initializer=\"zeros\", activation='relu'),\n",
    "    MaxPooling1D(pool_size=4),\n",
    "    Flatten(),\n",
    "    Dense(64, kernel_initializer='he_uniform', bias_initializer='ones', activation='relu'),\n",
    "])"
   ]
  },
  {
   "cell_type": "markdown",
   "id": "04908317-ad6c-4ff8-a6dd-ae4053a5825a",
   "metadata": {},
   "source": [
    "* Conv1D applies 1D convolutional filters over the input data to extract meaningful features from sequential data.\n",
    "  - filters=16: 16 filters in the layer\n",
    "  - kernel_size=3: size of the filter (each filter spans 3 sequential elements of the input)\n",
    "  - input_shape=(128, 64): length of the sequence = 128; 64 features (channels) per step"
   ]
  },
  {
   "cell_type": "markdown",
   "id": "b22adeb3-5836-4b2f-86d0-8597a6343be0",
   "metadata": {},
   "source": [
    "* kernel_initializer='he_uniform'\n",
    "  - He Uniform Initialization is a weight initialization method introduced by Kaiming He et al. in the paper \"Delving Deep into Rectifiers: Surpassing Human-Level Performance on ImageNet Classification\".\n",
    "  - is designed for layers with ReLU (Rectified Linear Unit)\n",
    " \n",
    "Weights are sampled from:\n",
    "$$\n",
    "w \\sim \\mathcal{U}\\left(-\\sqrt{\\frac{6}{\\text{fan\\_in}}}, \\sqrt{\\frac{6}{\\text{fan\\_in}}}\\right)\n",
    "$$\n",
    "\n",
    "Where:\n",
    "\n",
    "- $\\mathcal{U}$: Uniform distribution.\n",
    "- $\\text{fan\\_in}$: The number of input units (or neurons) in the layer.\n"
   ]
  },
  {
   "cell_type": "code",
   "execution_count": 21,
   "id": "cba78a9d-a85f-45cc-b35a-d50c61cfd05a",
   "metadata": {},
   "outputs": [
    {
     "name": "stdout",
     "output_type": "stream",
     "text": [
      "Model: \"sequential_9\"\n",
      "_________________________________________________________________\n",
      " Layer (type)                Output Shape              Param #   \n",
      "=================================================================\n",
      " conv1d_2 (Conv1D)           (None, 126, 16)           3088      \n",
      "                                                                 \n",
      " max_pooling1d_2 (MaxPoolin  (None, 31, 16)            0         \n",
      " g1D)                                                            \n",
      "                                                                 \n",
      " flatten_6 (Flatten)         (None, 496)               0         \n",
      "                                                                 \n",
      " dense_6 (Dense)             (None, 64)                31808     \n",
      "                                                                 \n",
      "=================================================================\n",
      "Total params: 34896 (136.31 KB)\n",
      "Trainable params: 34896 (136.31 KB)\n",
      "Non-trainable params: 0 (0.00 Byte)\n",
      "_________________________________________________________________\n"
     ]
    }
   ],
   "source": [
    "model.summary()"
   ]
  },
  {
   "cell_type": "markdown",
   "id": "3f4ff404-5d32-4acf-8c28-84634508d495",
   "metadata": {},
   "source": [
    "* Since there is no padding (padding='valid'):\n",
    "  - Output Length = Input Length − Kernel Size + 1 = 128 − 3 + 1 = 126\n",
    "  - Final output shape (126,16)\n",
    "\n",
    "  - The total number of trainable parameters in a Conv1D layer is calculated as:\n",
    "  - $\\text{Parameters} = (\\text{Kernel Size} \\times \\text{Input channels} \\text{Filters} ) + \\text{Bias terms}$\n",
    "  - So, $\\text{Parameters} = (\\text{3} \\times \\text{64} \\text{16} ) + \\text{16} = 3088$ (Each filter has one bias term)"
   ]
  },
  {
   "cell_type": "markdown",
   "id": "1651fb1a-463d-46f6-8102-3f2e701363a0",
   "metadata": {},
   "source": [
    "* MaxPooling1D(pool_size=4)\n",
    "  - Downsamples the output of Conv1D by taking the maximum value from non-overlapping windows of size 4.\n",
    "  - Output Length: 126 / 4 = 31 (truncated).\n",
    "  - Final Shape After Pooling: (31, 16)"
   ]
  },
  {
   "cell_type": "markdown",
   "id": "b05da40b-f967-4190-9d09-ffa6ba2433c9",
   "metadata": {},
   "source": [
    "* Flatten()\n",
    "  - Flattens the 2D output of shape (31, 16) into a 1D vector: 31 × 16 = 496."
   ]
  },
  {
   "cell_type": "markdown",
   "id": "98fca5b5-524b-4af6-941e-b5aaba6bb96f",
   "metadata": {},
   "source": [
    "As the following example illustrates, we can also instantiate initializers in a slightly different manner, allowing us to set optional arguments of the initialization method."
   ]
  },
  {
   "cell_type": "code",
   "execution_count": 31,
   "id": "dd90eb42-b000-4e74-8b6f-5f0f67b09665",
   "metadata": {},
   "outputs": [],
   "source": [
    "# Add some layers to our model\n",
    "\n",
    "model.add(Dense(64, \n",
    "                kernel_initializer=tf.keras.initializers.RandomNormal(mean=0.0, stddev=0.05), \n",
    "                bias_initializer=tf.keras.initializers.Constant(value=0.4), \n",
    "                activation='relu'),)\n",
    "\n",
    "model.add(Dense(8, \n",
    "                kernel_initializer=tf.keras.initializers.Orthogonal(gain=1.0, seed=None), \n",
    "                bias_initializer=tf.keras.initializers.Constant(value=0.4), \n",
    "                activation='relu'))"
   ]
  },
  {
   "cell_type": "markdown",
   "id": "3bca85ee-c4ce-4086-ae19-3ea249f0b1e5",
   "metadata": {},
   "source": [
    "* kernel_initializer=tf.keras.initializers.Orthogonal(gain=1.0, seed=None)\n",
    "  - Orthogonal initialization ensures that the weight matrix is orthogonal.\n",
    "\n",
    "A weight matrix \\( W \\) is orthogonal if:\n",
    "\n",
    "$$\n",
    "W^T W = I\n",
    "$$\n",
    "\n",
    "where \\( I \\) is the identity matrix.\n",
    "\n",
    "* gain=1.0\n",
    "  - A multiplicative factor applied to the orthogonal matrix. It scales the initialized weights: Default is 1.0\n",
    "    - Use sqrt(2) for ReLU activations (He initialization).\n",
    "    - Use 1.0 for linear or sigmoid activations.\n",
    "* seed = None: Used to make the random number generation"
   ]
  },
  {
   "cell_type": "markdown",
   "id": "cc4380d5-0a90-4769-b23b-6a386d72948d",
   "metadata": {},
   "source": [
    "### Custom weight and bias initialisers\r\n",
    "It is also possible to define your own weight and bias initialzsers.\r\n",
    "Initializers must take in two arguments, the `shape` of the tensor to be initiazised, and its `dtype`.\r\n",
    "\r\n",
    "Here is a small example, which also shows how you can use your custom initializer in a layer."
   ]
  },
  {
   "cell_type": "code",
   "execution_count": 24,
   "id": "ffabaf4f-8181-40db-a058-2884f40a0b44",
   "metadata": {},
   "outputs": [],
   "source": [
    "import tensorflow.keras.backend as K"
   ]
  },
  {
   "cell_type": "code",
   "execution_count": 26,
   "id": "c6c56066-7cdb-4ae9-aa24-6395bcbde62c",
   "metadata": {},
   "outputs": [],
   "source": [
    "# Define a custom initializer\n",
    "\n",
    "def my_init(shape, dtype=None):\n",
    "    return K.random_normal(shape, dtype=dtype)\n",
    "\n",
    "model.add(Dense(64, kernel_initializer=my_init))"
   ]
  },
  {
   "cell_type": "markdown",
   "id": "1b3e1552-3e0d-4236-b0bb-9137eccb4180",
   "metadata": {},
   "source": [
    "* shape: A tuple specifying the dimensions of the weight matrix. For example:\n",
    "  - For a Dense layer with 64 neurons and an input of size 128, shape = (128, 64).\n",
    "* dtype: The data type of the weights, typically float32.\n",
    "\n",
    "* K.random_normal(shape, dtype=dtype): generates a matrix of random numbers sampled from a normal distribution (mean=0, std=1).\n",
    "  - The shape of the weight matrix is (128, 64)."
   ]
  },
  {
   "cell_type": "code",
   "execution_count": 30,
   "id": "57c9785e-2cf0-4ed5-864d-c8d0c4aed2f2",
   "metadata": {},
   "outputs": [
    {
     "name": "stdout",
     "output_type": "stream",
     "text": [
      "Model: \"sequential_9\"\n",
      "_________________________________________________________________\n",
      " Layer (type)                Output Shape              Param #   \n",
      "=================================================================\n",
      " conv1d_2 (Conv1D)           (None, 126, 16)           3088      \n",
      "                                                                 \n",
      " max_pooling1d_2 (MaxPoolin  (None, 31, 16)            0         \n",
      " g1D)                                                            \n",
      "                                                                 \n",
      " flatten_6 (Flatten)         (None, 496)               0         \n",
      "                                                                 \n",
      " dense_6 (Dense)             (None, 64)                31808     \n",
      "                                                                 \n",
      " dense_7 (Dense)             (None, 64)                4160      \n",
      "                                                                 \n",
      " dense_8 (Dense)             (None, 8)                 520       \n",
      "                                                                 \n",
      " dense_9 (Dense)             (None, 64)                576       \n",
      "                                                                 \n",
      " dense_10 (Dense)            (None, 64)                4160      \n",
      "                                                                 \n",
      "=================================================================\n",
      "Total params: 44312 (173.09 KB)\n",
      "Trainable params: 44312 (173.09 KB)\n",
      "Non-trainable params: 0 (0.00 Byte)\n",
      "_________________________________________________________________\n"
     ]
    }
   ],
   "source": [
    "# Print the model summary of finalized model\n",
    "\n",
    "model.summary()"
   ]
  },
  {
   "cell_type": "markdown",
   "id": "2a49bc48-27c6-4be9-b3a7-d8bdcd9d7032",
   "metadata": {},
   "source": [
    "* Conv1D(filters=16, kernel_size=3, input_shape=(128, 64), kernel_initializer='random_uniform', bias_initializer=\"zeros\", activation='relu')\n",
    "  - No stride: Defaults to 1\n",
    "  - No padding: defaults to 'valid' (no padding)\n",
    "  - So, the output lenght is reduced to\n",
    "  - Output Length = Input Length − Kernel Size + 1 = 128 − 3 + 1 = 126\n",
    "  - Output shape: (None, 126, 16) (batch size remains None).\n",
    " \n",
    "  - What if stride =2 and padding =\"same\"?\n",
    "$$\n",
    "\\text{Output Length} = \\left\\lceil \\frac{\\text{Input Length}}{\\text{Stride}} \\right\\rceil\n",
    "$$\n",
    "$$\n",
    "\\text{Output Length} = \\left\\lceil \\frac{\\text{128}}{\\text{2}} \\right\\rceil = 64\n",
    "$$\n",
    "  - The output shape becomes: (None,64,16)\n",
    " \n",
    "  - Number of parameters:\n",
    "    - Parameters = (Kernel Size × Input Channels × Filters) + Bias Terms\n",
    "    - Parameters = (3 × 64 × 16) + 16 = 3072 + 16 = 3088\n",
    "    - Even though stride and padding are applied, the number of parameters is unchanged."
   ]
  },
  {
   "cell_type": "markdown",
   "id": "d1107d79-3055-4fa1-b59f-32376aa52b0f",
   "metadata": {},
   "source": [
    "* MaxPooling1D(pool_size=4):\n",
    "\n",
    "$$\n",
    "\\text{Output Length} = \\left\\lceil \\frac{\\text{Input Length}}{\\text{Pooling Window Size}} \\right\\rceil\n",
    "$$\n",
    "$$\n",
    "\\text{Output Length} = \\left\\lceil \\frac{\\text{126}}{\\text{4}} \\right\\rceil = 31\n",
    "$$\n",
    "\n",
    "* Output Shape: (None, 31, 16)."
   ]
  },
  {
   "cell_type": "markdown",
   "id": "4bea2c8a-3aca-4042-b8c3-7ce43ff3817a",
   "metadata": {},
   "source": [
    "* Flatten(): Flattened Size=31×16=496"
   ]
  },
  {
   "cell_type": "markdown",
   "id": "aeff1e3d-25d3-4e34-b416-f8e574e8e87d",
   "metadata": {},
   "source": [
    "* Dense(64, kernel_initializer='he_uniform', bias_initializer='ones', activation='relu')\n",
    "  - Input Shape: (496).\n",
    "  - Output Units: 64.\n",
    " \n",
    "  - #parameters: Parameters = (Input Features × Output Units) + Bias Terms = (496 × 64) + 64 = 31808"
   ]
  },
  {
   "cell_type": "markdown",
   "id": "0576e741-5bab-4eca-87d7-fca69f87102b",
   "metadata": {},
   "source": [
    "* Dense(64, kernel_initializer=tf.keras.initializers.RandomNormal(mean=0.0, stddev=0.05), bias_initializer=tf.keras.initializers.Constant(value=0.4), activation='relu')\n",
    "  - Input Shape: (64) (from previous Dense layer).\n",
    "  - Output Units: 64\n",
    "  - Parameters = (64 × 64) + 64 = 4096 + 64 = 4160"
   ]
  },
  {
   "cell_type": "markdown",
   "id": "708d6fa9-cc62-4f41-bffe-ca75cfecc67d",
   "metadata": {},
   "source": [
    "* Dense(8, kernel_initializer=tf.keras.initializers.Orthogonal(gain=1.0), bias_initializer=tf.keras.initializers.Constant(value=0.4), activation='relu')\n",
    "  - Input Shape: (64) (from previous Dense layer).\n",
    "  - Output Units: 8\n",
    "  - Parameters = (64 × 8) + 8 = 512 + 8 = 520"
   ]
  },
  {
   "cell_type": "markdown",
   "id": "1e65b688-c5cb-4cdc-b2fb-b1b3b07a7f72",
   "metadata": {},
   "source": [
    "* Dense(64, kernel_initializer=my_init)\n",
    "  - Input Shape: (8) (from previous Dense layer).\n",
    "  - Output Units: 64\n",
    "  - Parameters = (8 × 64) + 64 = 512 + 64 = 576"
   ]
  },
  {
   "cell_type": "markdown",
   "id": "4436bf4c-4d6f-4e06-97a0-91df25dfa578",
   "metadata": {},
   "source": [
    "* Dense(64, kernel_initializer=my_init)\n",
    "  - Input Shape: (64) (from previous Dense layer).\n",
    "  - Output Units: 64\n",
    "  - Parameters = (64 × 64) + 64 = 4096 + 64 = 4160"
   ]
  },
  {
   "cell_type": "code",
   "execution_count": null,
   "id": "87d356f8-e3c3-431e-be46-0f196b26d094",
   "metadata": {},
   "outputs": [],
   "source": []
  }
 ],
 "metadata": {
  "kernelspec": {
   "display_name": "Python 3 (ipykernel)",
   "language": "python",
   "name": "python3"
  },
  "language_info": {
   "codemirror_mode": {
    "name": "ipython",
    "version": 3
   },
   "file_extension": ".py",
   "mimetype": "text/x-python",
   "name": "python",
   "nbconvert_exporter": "python",
   "pygments_lexer": "ipython3",
   "version": "3.12.4"
  }
 },
 "nbformat": 4,
 "nbformat_minor": 5
}
