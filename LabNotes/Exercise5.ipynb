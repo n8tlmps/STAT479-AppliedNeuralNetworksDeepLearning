{
 "cells": [
  {
   "cell_type": "code",
   "execution_count": 25,
   "id": "3a2aee2e-0019-4407-b818-febd6ba247c4",
   "metadata": {},
   "outputs": [],
   "source": [
    "import tensorflow as tf\n",
    "import keras as keras"
   ]
  },
  {
   "cell_type": "code",
   "execution_count": 4,
   "id": "3b250e14-61f8-4768-a754-3febff9b6bb9",
   "metadata": {},
   "outputs": [
    {
     "name": "stdout",
     "output_type": "stream",
     "text": [
      "tensorflow: 2.13.0\n",
      "keras: 2.13.1\n"
     ]
    }
   ],
   "source": [
    "print(\"tensorflow:\", tf.__version__)\n",
    "print(\"keras:\", keras.__version__)"
   ]
  },
  {
   "cell_type": "code",
   "execution_count": 5,
   "id": "419623c8-3b66-4c55-bb1f-d7e68d7e56f1",
   "metadata": {},
   "outputs": [
    {
     "name": "stdout",
     "output_type": "stream",
     "text": [
      "Requirement already satisfied: scikit-learn in c:\\users\\006816379\\appdata\\local\\anaconda3\\envs\\stat479\\lib\\site-packages (1.5.2)\n",
      "Requirement already satisfied: numpy>=1.19.5 in c:\\users\\006816379\\appdata\\local\\anaconda3\\envs\\stat479\\lib\\site-packages (from scikit-learn) (1.26.4)\n",
      "Requirement already satisfied: scipy>=1.6.0 in c:\\users\\006816379\\appdata\\local\\anaconda3\\envs\\stat479\\lib\\site-packages (from scikit-learn) (1.14.1)\n",
      "Requirement already satisfied: joblib>=1.2.0 in c:\\users\\006816379\\appdata\\local\\anaconda3\\envs\\stat479\\lib\\site-packages (from scikit-learn) (1.4.2)\n",
      "Requirement already satisfied: threadpoolctl>=3.1.0 in c:\\users\\006816379\\appdata\\local\\anaconda3\\envs\\stat479\\lib\\site-packages (from scikit-learn) (3.5.0)\n",
      "Note: you may need to restart the kernel to use updated packages.\n"
     ]
    }
   ],
   "source": [
    "pip install scikit-learn"
   ]
  },
  {
   "cell_type": "code",
   "execution_count": 46,
   "id": "ee3569bd-4a37-489e-8172-998aed4bc954",
   "metadata": {},
   "outputs": [
    {
     "name": "stdout",
     "output_type": "stream",
     "text": [
      "Collecting pandas\n",
      "  Downloading pandas-2.2.2-cp312-cp312-win_amd64.whl.metadata (19 kB)\n",
      "Requirement already satisfied: numpy>=1.26.0 in c:\\users\\006816379\\appdata\\local\\anaconda3\\envs\\stat479\\lib\\site-packages (from pandas) (1.26.4)\n",
      "Requirement already satisfied: python-dateutil>=2.8.2 in c:\\users\\006816379\\appdata\\local\\anaconda3\\envs\\stat479\\lib\\site-packages (from pandas) (2.9.0.post0)\n",
      "Requirement already satisfied: pytz>=2020.1 in c:\\users\\006816379\\appdata\\local\\anaconda3\\envs\\stat479\\lib\\site-packages (from pandas) (2024.1)\n",
      "Collecting tzdata>=2022.7 (from pandas)\n",
      "  Downloading tzdata-2024.1-py2.py3-none-any.whl.metadata (1.4 kB)\n",
      "Requirement already satisfied: six>=1.5 in c:\\users\\006816379\\appdata\\local\\anaconda3\\envs\\stat479\\lib\\site-packages (from python-dateutil>=2.8.2->pandas) (1.16.0)\n",
      "Downloading pandas-2.2.2-cp312-cp312-win_amd64.whl (11.5 MB)\n",
      "   ---------------------------------------- 0.0/11.5 MB ? eta -:--:--\n",
      "   ---------------- ----------------------- 4.7/11.5 MB 23.7 MB/s eta 0:00:01\n",
      "   ---------------------------------- ----- 10.0/11.5 MB 24.8 MB/s eta 0:00:01\n",
      "   ---------------------------------------- 11.5/11.5 MB 24.8 MB/s eta 0:00:00\n",
      "Downloading tzdata-2024.1-py2.py3-none-any.whl (345 kB)\n",
      "Installing collected packages: tzdata, pandas\n",
      "Successfully installed pandas-2.2.2 tzdata-2024.1\n",
      "Note: you may need to restart the kernel to use updated packages.\n"
     ]
    }
   ],
   "source": [
    "pip install pandas"
   ]
  },
  {
   "cell_type": "code",
   "execution_count": 4,
   "id": "c1fc3bd9-a741-4242-b371-61d0b706eb24",
   "metadata": {},
   "outputs": [],
   "source": [
    "import pandas as pd\n",
    "import numpy as np\n",
    "import matplotlib.pyplot as plt"
   ]
  },
  {
   "cell_type": "markdown",
   "id": "58f10617-7d97-4990-94de-ed7dc670c578",
   "metadata": {},
   "source": [
    "# 3.6 Predicting house prices: a regression example"
   ]
  },
  {
   "cell_type": "markdown",
   "id": "1fd9bc55-053f-4062-96c2-778afc76576d",
   "metadata": {},
   "source": [
    "### 3.6.1 The Boston Housing Price dataset"
   ]
  },
  {
   "cell_type": "markdown",
   "id": "55473973-6ba4-481e-9cfd-72bb88cf3664",
   "metadata": {},
   "source": [
    "* predict the median price of homes in a given Boston suburb in the mid-1970s, given data points about the suburb at the time, such as the crime rate, the local property tax rate, and so on.\n",
    "* It has relatively few data points: only 506, split between 404 training samples and 102 test samples."
   ]
  },
  {
   "cell_type": "code",
   "execution_count": 1,
   "id": "f4649530-8c9c-4c79-97b6-06f2ebebba3a",
   "metadata": {},
   "outputs": [],
   "source": [
    "# Loading the Boston housing dataset\n",
    "from keras.datasets import boston_housing\n",
    "(train_data, train_targets), (test_data, test_targets) = boston_housing.load_data()"
   ]
  },
  {
   "cell_type": "code",
   "execution_count": 2,
   "id": "0dbe9ef2-fc4d-41b6-99c9-68f2c3b65260",
   "metadata": {},
   "outputs": [
    {
     "name": "stdout",
     "output_type": "stream",
     "text": [
      "(404, 13)\n",
      "(102, 13)\n"
     ]
    }
   ],
   "source": [
    "print(train_data.shape)\n",
    "print(test_data.shape)\n"
   ]
  },
  {
   "cell_type": "code",
   "execution_count": 5,
   "id": "0c16c287-d2f6-4653-8a37-52aab9a8ebee",
   "metadata": {},
   "outputs": [
    {
     "data": {
      "text/html": [
       "<div>\n",
       "<style scoped>\n",
       "    .dataframe tbody tr th:only-of-type {\n",
       "        vertical-align: middle;\n",
       "    }\n",
       "\n",
       "    .dataframe tbody tr th {\n",
       "        vertical-align: top;\n",
       "    }\n",
       "\n",
       "    .dataframe thead th {\n",
       "        text-align: right;\n",
       "    }\n",
       "</style>\n",
       "<table border=\"1\" class=\"dataframe\">\n",
       "  <thead>\n",
       "    <tr style=\"text-align: right;\">\n",
       "      <th></th>\n",
       "      <th>0</th>\n",
       "      <th>1</th>\n",
       "      <th>2</th>\n",
       "      <th>3</th>\n",
       "      <th>4</th>\n",
       "      <th>5</th>\n",
       "      <th>6</th>\n",
       "      <th>7</th>\n",
       "      <th>8</th>\n",
       "      <th>9</th>\n",
       "      <th>10</th>\n",
       "      <th>11</th>\n",
       "      <th>12</th>\n",
       "    </tr>\n",
       "  </thead>\n",
       "  <tbody>\n",
       "    <tr>\n",
       "      <th>0</th>\n",
       "      <td>1.23247</td>\n",
       "      <td>0.0</td>\n",
       "      <td>8.14</td>\n",
       "      <td>0.0</td>\n",
       "      <td>0.538</td>\n",
       "      <td>6.142</td>\n",
       "      <td>91.7</td>\n",
       "      <td>3.9769</td>\n",
       "      <td>4.0</td>\n",
       "      <td>307.0</td>\n",
       "      <td>21.0</td>\n",
       "      <td>396.90</td>\n",
       "      <td>18.72</td>\n",
       "    </tr>\n",
       "    <tr>\n",
       "      <th>1</th>\n",
       "      <td>0.02177</td>\n",
       "      <td>82.5</td>\n",
       "      <td>2.03</td>\n",
       "      <td>0.0</td>\n",
       "      <td>0.415</td>\n",
       "      <td>7.610</td>\n",
       "      <td>15.7</td>\n",
       "      <td>6.2700</td>\n",
       "      <td>2.0</td>\n",
       "      <td>348.0</td>\n",
       "      <td>14.7</td>\n",
       "      <td>395.38</td>\n",
       "      <td>3.11</td>\n",
       "    </tr>\n",
       "    <tr>\n",
       "      <th>2</th>\n",
       "      <td>4.89822</td>\n",
       "      <td>0.0</td>\n",
       "      <td>18.10</td>\n",
       "      <td>0.0</td>\n",
       "      <td>0.631</td>\n",
       "      <td>4.970</td>\n",
       "      <td>100.0</td>\n",
       "      <td>1.3325</td>\n",
       "      <td>24.0</td>\n",
       "      <td>666.0</td>\n",
       "      <td>20.2</td>\n",
       "      <td>375.52</td>\n",
       "      <td>3.26</td>\n",
       "    </tr>\n",
       "    <tr>\n",
       "      <th>3</th>\n",
       "      <td>0.03961</td>\n",
       "      <td>0.0</td>\n",
       "      <td>5.19</td>\n",
       "      <td>0.0</td>\n",
       "      <td>0.515</td>\n",
       "      <td>6.037</td>\n",
       "      <td>34.5</td>\n",
       "      <td>5.9853</td>\n",
       "      <td>5.0</td>\n",
       "      <td>224.0</td>\n",
       "      <td>20.2</td>\n",
       "      <td>396.90</td>\n",
       "      <td>8.01</td>\n",
       "    </tr>\n",
       "    <tr>\n",
       "      <th>4</th>\n",
       "      <td>3.69311</td>\n",
       "      <td>0.0</td>\n",
       "      <td>18.10</td>\n",
       "      <td>0.0</td>\n",
       "      <td>0.713</td>\n",
       "      <td>6.376</td>\n",
       "      <td>88.4</td>\n",
       "      <td>2.5671</td>\n",
       "      <td>24.0</td>\n",
       "      <td>666.0</td>\n",
       "      <td>20.2</td>\n",
       "      <td>391.43</td>\n",
       "      <td>14.65</td>\n",
       "    </tr>\n",
       "  </tbody>\n",
       "</table>\n",
       "</div>"
      ],
      "text/plain": [
       "        0     1      2    3      4      5      6       7     8      9     10  \\\n",
       "0  1.23247   0.0   8.14  0.0  0.538  6.142   91.7  3.9769   4.0  307.0  21.0   \n",
       "1  0.02177  82.5   2.03  0.0  0.415  7.610   15.7  6.2700   2.0  348.0  14.7   \n",
       "2  4.89822   0.0  18.10  0.0  0.631  4.970  100.0  1.3325  24.0  666.0  20.2   \n",
       "3  0.03961   0.0   5.19  0.0  0.515  6.037   34.5  5.9853   5.0  224.0  20.2   \n",
       "4  3.69311   0.0  18.10  0.0  0.713  6.376   88.4  2.5671  24.0  666.0  20.2   \n",
       "\n",
       "       11     12  \n",
       "0  396.90  18.72  \n",
       "1  395.38   3.11  \n",
       "2  375.52   3.26  \n",
       "3  396.90   8.01  \n",
       "4  391.43  14.65  "
      ]
     },
     "execution_count": 5,
     "metadata": {},
     "output_type": "execute_result"
    }
   ],
   "source": [
    "train_data_df = pd.DataFrame(train_data)\n",
    "train_data_df.head()\n"
   ]
  },
  {
   "cell_type": "markdown",
   "id": "8c43d20f-af5a-480b-9b29-39409b3253e5",
   "metadata": {},
   "source": [
    "### 3.6.2 Preparing the data\n"
   ]
  },
  {
   "cell_type": "markdown",
   "id": "ef31838e-3929-4a93-b75b-bfaff7f4188d",
   "metadata": {},
   "source": [
    "* It would be problematic to feed into a neural network values that all take wildly different ranges.\n",
    "  - do feature-wise normalization"
   ]
  },
  {
   "cell_type": "code",
   "execution_count": 6,
   "id": "a5dee698-54eb-4757-a40f-497b034c8fe0",
   "metadata": {},
   "outputs": [
    {
     "data": {
      "text/plain": [
       "array([3.74511057e+00, 1.14801980e+01, 1.11044307e+01, 6.18811881e-02,\n",
       "       5.57355941e-01, 6.26708168e+00, 6.90106436e+01, 3.74027079e+00,\n",
       "       9.44059406e+00, 4.05898515e+02, 1.84759901e+01, 3.54783168e+02,\n",
       "       1.27408168e+01])"
      ]
     },
     "execution_count": 6,
     "metadata": {},
     "output_type": "execute_result"
    }
   ],
   "source": [
    "train_data.mean(axis=0) "
   ]
  },
  {
   "cell_type": "code",
   "execution_count": 7,
   "id": "08ab9b23-b437-400e-bf49-35102344fb0d",
   "metadata": {},
   "outputs": [],
   "source": [
    "# Normalizing the data\n",
    "mean = train_data.mean(axis=0)  # obtain mean of each column\n",
    "# the parameter axis=0 is used to specify that the mean should be calculated column-wise (across the rows for each column) when normalizing the data. \n",
    "train_data -= mean # centralization\n",
    "std = train_data.std(axis=0)\n",
    "train_data /= std\n",
    "\n",
    "# Note that the quantities used for normalizing the test data are computed using the training data. \n",
    "# You should never use in your workflow any quantity computed on the test data.\n",
    "test_data -= mean\n",
    "test_data /= std"
   ]
  },
  {
   "cell_type": "code",
   "execution_count": 8,
   "id": "9d79167c-1090-49b4-99e7-078ea3d4bcf3",
   "metadata": {},
   "outputs": [
    {
     "data": {
      "text/html": [
       "<div>\n",
       "<style scoped>\n",
       "    .dataframe tbody tr th:only-of-type {\n",
       "        vertical-align: middle;\n",
       "    }\n",
       "\n",
       "    .dataframe tbody tr th {\n",
       "        vertical-align: top;\n",
       "    }\n",
       "\n",
       "    .dataframe thead th {\n",
       "        text-align: right;\n",
       "    }\n",
       "</style>\n",
       "<table border=\"1\" class=\"dataframe\">\n",
       "  <thead>\n",
       "    <tr style=\"text-align: right;\">\n",
       "      <th></th>\n",
       "      <th>0</th>\n",
       "      <th>1</th>\n",
       "      <th>2</th>\n",
       "      <th>3</th>\n",
       "      <th>4</th>\n",
       "      <th>5</th>\n",
       "      <th>6</th>\n",
       "      <th>7</th>\n",
       "      <th>8</th>\n",
       "      <th>9</th>\n",
       "      <th>10</th>\n",
       "      <th>11</th>\n",
       "      <th>12</th>\n",
       "    </tr>\n",
       "  </thead>\n",
       "  <tbody>\n",
       "    <tr>\n",
       "      <th>0</th>\n",
       "      <td>-0.272246</td>\n",
       "      <td>-0.483615</td>\n",
       "      <td>-0.435762</td>\n",
       "      <td>-0.256833</td>\n",
       "      <td>-0.165227</td>\n",
       "      <td>-0.176443</td>\n",
       "      <td>0.813062</td>\n",
       "      <td>0.116698</td>\n",
       "      <td>-0.626249</td>\n",
       "      <td>-0.595170</td>\n",
       "      <td>1.148500</td>\n",
       "      <td>0.448077</td>\n",
       "      <td>0.825220</td>\n",
       "    </tr>\n",
       "    <tr>\n",
       "      <th>1</th>\n",
       "      <td>-0.403427</td>\n",
       "      <td>2.991784</td>\n",
       "      <td>-1.333912</td>\n",
       "      <td>-0.256833</td>\n",
       "      <td>-1.215182</td>\n",
       "      <td>1.894346</td>\n",
       "      <td>-1.910361</td>\n",
       "      <td>1.247585</td>\n",
       "      <td>-0.856463</td>\n",
       "      <td>-0.348433</td>\n",
       "      <td>-1.718189</td>\n",
       "      <td>0.431906</td>\n",
       "      <td>-1.329202</td>\n",
       "    </tr>\n",
       "    <tr>\n",
       "      <th>2</th>\n",
       "      <td>0.124940</td>\n",
       "      <td>-0.483615</td>\n",
       "      <td>1.028326</td>\n",
       "      <td>-0.256833</td>\n",
       "      <td>0.628642</td>\n",
       "      <td>-1.829688</td>\n",
       "      <td>1.110488</td>\n",
       "      <td>-1.187439</td>\n",
       "      <td>1.675886</td>\n",
       "      <td>1.565287</td>\n",
       "      <td>0.784476</td>\n",
       "      <td>0.220617</td>\n",
       "      <td>-1.308500</td>\n",
       "    </tr>\n",
       "    <tr>\n",
       "      <th>3</th>\n",
       "      <td>-0.401494</td>\n",
       "      <td>-0.483615</td>\n",
       "      <td>-0.869402</td>\n",
       "      <td>-0.256833</td>\n",
       "      <td>-0.361560</td>\n",
       "      <td>-0.324558</td>\n",
       "      <td>-1.236672</td>\n",
       "      <td>1.107180</td>\n",
       "      <td>-0.511142</td>\n",
       "      <td>-1.094663</td>\n",
       "      <td>0.784476</td>\n",
       "      <td>0.448077</td>\n",
       "      <td>-0.652926</td>\n",
       "    </tr>\n",
       "    <tr>\n",
       "      <th>4</th>\n",
       "      <td>-0.005634</td>\n",
       "      <td>-0.483615</td>\n",
       "      <td>1.028326</td>\n",
       "      <td>-0.256833</td>\n",
       "      <td>1.328612</td>\n",
       "      <td>0.153642</td>\n",
       "      <td>0.694808</td>\n",
       "      <td>-0.578572</td>\n",
       "      <td>1.675886</td>\n",
       "      <td>1.565287</td>\n",
       "      <td>0.784476</td>\n",
       "      <td>0.389882</td>\n",
       "      <td>0.263497</td>\n",
       "    </tr>\n",
       "  </tbody>\n",
       "</table>\n",
       "</div>"
      ],
      "text/plain": [
       "         0         1         2         3         4         5         6   \\\n",
       "0 -0.272246 -0.483615 -0.435762 -0.256833 -0.165227 -0.176443  0.813062   \n",
       "1 -0.403427  2.991784 -1.333912 -0.256833 -1.215182  1.894346 -1.910361   \n",
       "2  0.124940 -0.483615  1.028326 -0.256833  0.628642 -1.829688  1.110488   \n",
       "3 -0.401494 -0.483615 -0.869402 -0.256833 -0.361560 -0.324558 -1.236672   \n",
       "4 -0.005634 -0.483615  1.028326 -0.256833  1.328612  0.153642  0.694808   \n",
       "\n",
       "         7         8         9         10        11        12  \n",
       "0  0.116698 -0.626249 -0.595170  1.148500  0.448077  0.825220  \n",
       "1  1.247585 -0.856463 -0.348433 -1.718189  0.431906 -1.329202  \n",
       "2 -1.187439  1.675886  1.565287  0.784476  0.220617 -1.308500  \n",
       "3  1.107180 -0.511142 -1.094663  0.784476  0.448077 -0.652926  \n",
       "4 -0.578572  1.675886  1.565287  0.784476  0.389882  0.263497  "
      ]
     },
     "execution_count": 8,
     "metadata": {},
     "output_type": "execute_result"
    }
   ],
   "source": [
    "train_data_df.head()"
   ]
  },
  {
   "cell_type": "markdown",
   "id": "29ca54a2-a4b2-4e76-8aa2-38e031f4414a",
   "metadata": {},
   "source": [
    "### 3.6.3 Building your network"
   ]
  },
  {
   "cell_type": "markdown",
   "id": "6dde7f05-95c7-473d-a4dc-d9360e655101",
   "metadata": {},
   "source": [
    "Because so few samples are available, you’ll use a very small network with two hidden\n",
    "layers, each with 64 units."
   ]
  },
  {
   "cell_type": "code",
   "execution_count": 9,
   "id": "1323b0a8-5e4d-4105-9900-a8a31d81b723",
   "metadata": {},
   "outputs": [],
   "source": [
    "from keras import models\n",
    "from keras import layers\n",
    "def build_model():\n",
    "    model = models.Sequential()\n",
    "    model.add(layers.Dense(64, activation='relu',\n",
    "                           input_shape=(train_data.shape[1],)))\n",
    "    model.add(layers.Dense(64, activation='relu'))\n",
    "    model.add(layers.Dense(1))\n",
    "    \n",
    "    model.compile(optimizer='rmsprop', loss='mse', metrics=['mean_absolute_error']) # Mean absolute error\n",
    "    return model"
   ]
  },
  {
   "cell_type": "markdown",
   "id": "3c87e14a-70f3-4f0d-b96b-fad99007db13",
   "metadata": {},
   "source": [
    "### 3.6.4 Validating your approach using K-fold validation\n",
    "\n"
   ]
  },
  {
   "cell_type": "code",
   "execution_count": 10,
   "id": "3f1a16c6-7c72-4e6e-9a23-c819f606d639",
   "metadata": {},
   "outputs": [
    {
     "name": "stdout",
     "output_type": "stream",
     "text": [
      "404\n",
      "134\n",
      "processing fold # 0\n",
      "processing fold # 1\n",
      "processing fold # 2\n"
     ]
    }
   ],
   "source": [
    "k = 3 # 3-fold CV\n",
    "print(len(train_data)) # 404\n",
    "num_val_samples = len(train_data) // k # integer division (404/3 = 134.6667 -> rounds down to 134)\n",
    "print(num_val_samples)\n",
    "num_epochs = 100\n",
    "all_scores = []\n",
    "\n",
    "for i in range(k):\n",
    "    print('processing fold #', i)\n",
    "    # Prepares the validation data: data from partition #k\n",
    "    val_data = train_data[i * num_val_samples: (i + 1) * num_val_samples]\n",
    "    val_targets = train_targets[i * num_val_samples: (i + 1) * num_val_samples]\n",
    "\n",
    "    # Prepares the training data: data from all other partitions\n",
    "    partial_train_data = np.concatenate([train_data[:i * num_val_samples], train_data[(i + 1) * num_val_samples:]], axis=0)\n",
    "    # When axis=0, the function concatenates arrays vertically (i.e., by stacking rows one after the other). \n",
    "    partial_train_targets = np.concatenate([train_targets[:i * num_val_samples], train_targets[(i + 1) * num_val_samples:]], axis=0)\n",
    "\n",
    "    model = build_model() # already defined in the above cell \n",
    "    model.fit(partial_train_data, partial_train_targets,\n",
    "                        epochs=num_epochs, batch_size=1, verbose=0)\n",
    "    # verbose=0 means that no output will be printed during the training process\n",
    "    val_mse, val_mae = model.evaluate(val_data, val_targets, verbose=0)\n",
    "    all_scores.append(val_mae)"
   ]
  },
  {
   "cell_type": "code",
   "execution_count": 11,
   "id": "e2955fa8-babf-4bc8-b2ee-261646588383",
   "metadata": {},
   "outputs": [
    {
     "name": "stdout",
     "output_type": "stream",
     "text": [
      "[2.093123197555542, 2.5111160278320312, 2.5753893852233887]\n",
      "2.393209536870321\n"
     ]
    },
    {
     "data": {
      "text/plain": [
       "0.21380929883129912"
      ]
     },
     "execution_count": 11,
     "metadata": {},
     "output_type": "execute_result"
    }
   ],
   "source": [
    "print(all_scores)\n",
    "print(np.mean(all_scores)) \n",
    "np.std(all_scores)"
   ]
  },
  {
   "cell_type": "markdown",
   "id": "63f28040-7157-4434-80f0-0e5b60474c15",
   "metadata": {},
   "source": [
    "##### * In this case, you’re off by above $2,392 on average;  Let’s try training the network a bit longer: 500 epochs\n",
    "* To keep a record of how \n",
    "well the model does at each epoch, you’ll modify the training loop to save the perepoc \r\n",
    "validation score log."
   ]
  },
  {
   "cell_type": "code",
   "execution_count": 13,
   "id": "f1aa6ece-75ff-4c8f-b5ec-03b84b84ade7",
   "metadata": {},
   "outputs": [
    {
     "name": "stdout",
     "output_type": "stream",
     "text": [
      "processing fold # 0\n",
      "processing fold # 1\n",
      "processing fold # 2\n"
     ]
    }
   ],
   "source": [
    "num_epochs = 500\n",
    "all_mae_histories = []\n",
    "\n",
    "for i in range(k):\n",
    "    print('processing fold #', i)\n",
    "    # Prepares the validation data: data from partition #k\n",
    "    val_data = train_data[i * num_val_samples: (i + 1) * num_val_samples]\n",
    "    val_targets = train_targets[i * num_val_samples: (i + 1) * num_val_samples]\n",
    "\n",
    "    # Prepares the training data: data from all other partitions\n",
    "    partial_train_data = np.concatenate([train_data[:i * num_val_samples], train_data[(i + 1) * num_val_samples:]], axis=0)\n",
    "    # When axis=0, the function concatenates arrays vertically (i.e., by stacking rows one after the other). \n",
    "    partial_train_targets = np.concatenate([train_targets[:i * num_val_samples], train_targets[(i + 1) * num_val_samples:]], axis=0)\n",
    "\n",
    "    model = build_model() # already defined in the above cell #128\n",
    "    history = model.fit(partial_train_data, partial_train_targets,\n",
    "                        validation_data=(val_data, val_targets),\n",
    "                        epochs=num_epochs, batch_size=1, verbose=0)\n",
    "    # verbose=0 means that no output will be printed during the training process\n",
    "    mae_history = history.history['val_mean_absolute_error']\n",
    "    all_mae_histories.append(mae_history)"
   ]
  },
  {
   "cell_type": "code",
   "execution_count": 14,
   "id": "16933c10-0725-4c2e-becb-edb37913ecca",
   "metadata": {},
   "outputs": [],
   "source": [
    "# compute the average of the per-epoch MAE scores for all folds.\n",
    "    # When axis=0, the function concatenates arrays vertically (i.e., by stacking rows one after the other). \n",
    "average_mae_history = [np.mean([x[i] for x in all_mae_histories]) for i in range(num_epochs)]"
   ]
  },
  {
   "cell_type": "markdown",
   "id": "9e0991c1-d3cd-4d28-8082-e8880fcb9e0b",
   "metadata": {},
   "source": [
    "* [x[i] for x in all_mae_histories]:\n",
    "  - iterates through the list all_mae_histories (which presumably contains the MAE values for each fold from k-fold cross-validation)\n",
    "  - For each x (which represents a list of MAE values for a fold), it accesses the value at index i (which corresponds to the MAE for the i-th epoch).\n",
    "  - This creates a list of MAE values for the i-th epoch across all folds.\n",
    "\n",
    "* np.mean([...]):\n",
    "  - After collecting all the MAE values for the i-th epoch from the folds, np.mean() calculates the average of those values.\n",
    "  - This gives the average MAE for the i-th epoch across all folds in the k-fold cross-validation process.\n",
    "\n",
    "* for i in range(num_epochs):\n",
    "  - iterates over all epochs\n",
    "  - For each epoch, it calculates the average MAE from the different validation folds.\n",
    " \n",
    "* Example: Assume that k = 3 and 4 epochs\n",
    "  - Assume that the MAE values for each fold across 4 epochs are given as follows:\n",
    "  - Fold 1:\n",
    "    - Epoch 1: .5; Epoch 2: .4; Epoch 3: .35; Epoch 4: .3\n",
    "  - Fold 2:\n",
    "    - Epoch 1: .55; Epoch 2: .45; Epoch 3: .4; Epoch 4: .35\n",
    "  - Fold 3:\n",
    "    - Epoch 1: .6; Epoch 2: .5; Epoch 3: .45; Epoch 4: .4\n",
    "   \n",
    "  - Now we can calculate the mean MAE for each epoch i."
   ]
  },
  {
   "cell_type": "code",
   "execution_count": 15,
   "id": "3aee9a5f-dab0-47ef-86bc-d3b3df1c75b8",
   "metadata": {},
   "outputs": [
    {
     "data": {
      "image/png": "[encoded data removed]",
      "text/plain": [
       "<Figure size 640x480 with 1 Axes>"
      ]
     },
     "metadata": {},
     "output_type": "display_data"
    }
   ],
   "source": [
    "import matplotlib.pyplot as plt\n",
    "\n",
    "plt.plot(range(1, len(average_mae_history) + 1), average_mae_history)\n",
    "plt.xlabel('Epochs')\n",
    "plt.ylabel('Validation MAE')\n",
    "plt.show()"
   ]
  },
  {
   "cell_type": "markdown",
   "id": "a4e9d2fb-1e96-4156-b6f2-bd0751855bab",
   "metadata": {},
   "source": [
    "It may be a little difficult to see the plot, due to scaling issues and relatively high variance.\r\n",
    "Let’s do the followin:\n",
    "* Omit the first 10 data points, which are on a different scale than the rest of the curve.\n",
    "* Replace each point with an exponential moving average of the previous points, \n",
    "to obtain a smooth curveg"
   ]
  },
  {
   "cell_type": "code",
   "execution_count": 16,
   "id": "fd03c18c-1135-4c70-86b2-001ea4eef565",
   "metadata": {},
   "outputs": [],
   "source": [
    "def smooth_curve(points, factor=0.9): # points: a list or array of data points that you want to smooth\n",
    "    # factor: smoothing factor to the previous smoothed value\n",
    "    smoothed_points = [] # initialization\n",
    "    for point in points: # iterates over each point in the points list.\n",
    "        if smoothed_points: # checks whether smoothed_points already contains any values.\n",
    "            # if it does\n",
    "            previous = smoothed_points[-1] # retrieves the last smoothed value\n",
    "            smoothed_points.append(previous * factor + point * (1 - factor)) # 90% weight to the previous value\n",
    "        else: # If not (i.e., the list is empty), it simply appends the first point.\n",
    "            smoothed_points.append(point)\n",
    "    return smoothed_points"
   ]
  },
  {
   "cell_type": "code",
   "execution_count": 17,
   "id": "683ef796-6b9f-4aa6-ae31-c9a2185a5d5b",
   "metadata": {},
   "outputs": [],
   "source": [
    "smooth_mae_history = smooth_curve(average_mae_history[10:])"
   ]
  },
  {
   "cell_type": "code",
   "execution_count": 18,
   "id": "4fe6b2fb-1e7f-4112-afc7-db3cfa5444a5",
   "metadata": {},
   "outputs": [
    {
     "data": {
      "image/png": "[encoded data removed]",
      "text/plain": [
       "<Figure size 640x480 with 1 Axes>"
      ]
     },
     "metadata": {},
     "output_type": "display_data"
    }
   ],
   "source": [
    "plt.plot(range(1, len(smooth_mae_history) + 1), smooth_mae_history)\n",
    "plt.xlabel('Epochs')\n",
    "plt.ylabel('Validation MAE')\n",
    "plt.show()"
   ]
  },
  {
   "cell_type": "markdown",
   "id": "3fcda148-e25b-4612-8a7f-1777b5546272",
   "metadata": {},
   "source": [
    "According to this plot, validation MAE stops improving significantly after around 80 epochs. Past that point, you start overfitting."
   ]
  },
  {
   "cell_type": "code",
   "execution_count": 20,
   "id": "b8978795-984e-42a4-ab39-298db50dc925",
   "metadata": {},
   "outputs": [
    {
     "name": "stdout",
     "output_type": "stream",
     "text": [
      "4/4 [==============================] - 0s 1ms/step - loss: 18.9643 - mean_absolute_error: 2.7436\n",
      "2.743603229522705\n"
     ]
    }
   ],
   "source": [
    "# Training the final model\n",
    "model = build_model()\n",
    "\n",
    "model.fit(train_data, train_targets,\n",
    "          epochs=80, batch_size=16, verbose=0)\n",
    "test_mse_score, test_mae_score = model.evaluate(test_data, test_targets)\n",
    "print(test_mae_score)"
   ]
  },
  {
   "cell_type": "markdown",
   "id": "ed8bfcc8-b82a-4891-a92e-429435979738",
   "metadata": {},
   "source": [
    "You’re still off by about $2,736."
   ]
  },
  {
   "cell_type": "markdown",
   "id": "41cb44d4-3d86-4202-94f8-72e97bb74f62",
   "metadata": {},
   "source": [
    "### 4.4.2 Adding weight regularizaiton"
   ]
  },
  {
   "cell_type": "markdown",
   "id": "a5ec0abc-5652-4cc8-88fb-1c1d34226625",
   "metadata": {},
   "source": [
    "To demonstrate how to add regularization to a Feedforward Neural Network (FNN) using a real dataset, let's use the Diabetes dataset from `sklearn.datasets` to demonstrate how to apply Elastic Net regularization to a Feedforward Neural Network (FNN)."
   ]
  },
  {
   "cell_type": "code",
   "execution_count": 21,
   "id": "c570c2b5-fbef-43ae-a13a-27f443c23992",
   "metadata": {},
   "outputs": [
    {
     "name": "stdout",
     "output_type": "stream",
     "text": [
      "dict_keys(['data', 'target', 'frame', 'DESCR', 'feature_names', 'data_filename', 'target_filename', 'data_module'])\n",
      "(442, 10)\n",
      "(442,)\n"
     ]
    }
   ],
   "source": [
    "from sklearn.datasets import load_diabetes\n",
    "\n",
    "# Load the diabetes dataset\n",
    "data = load_diabetes()\n",
    "\n",
    "print(data.keys()) # to inspect the Bunch object data using keys()\n",
    "\n",
    "X = data.data\n",
    "y = data.target\n",
    "\n",
    "print(X.shape)\n",
    "print(y.shape)"
   ]
  },
  {
   "cell_type": "code",
   "execution_count": 22,
   "id": "42379271-728f-402e-a5a5-1246e3d0b1c0",
   "metadata": {},
   "outputs": [],
   "source": [
    "# Split into training and test sets\n",
    "from sklearn.model_selection import train_test_split\n",
    "\n",
    "X_train, X_test, y_train, y_test = train_test_split(X, y, test_size=0.2, random_state=42) # random_state can be considered as random seed"
   ]
  },
  {
   "cell_type": "code",
   "execution_count": 23,
   "id": "55c8c543-7785-4212-84de-e1ad33dd17e8",
   "metadata": {},
   "outputs": [],
   "source": [
    "# Normalize the data\n",
    "from sklearn.preprocessing import StandardScaler\n",
    "\n",
    "scaler = StandardScaler()\n",
    "X_train = scaler.fit_transform(X_train)\n",
    "X_test = scaler.transform(X_test)"
   ]
  },
  {
   "cell_type": "markdown",
   "id": "60f2e27d-0385-475a-a8b9-0dca4b69e3a8",
   "metadata": {},
   "source": [
    "We'll apply Elastic Net regularization using the `l1_l2` regularizer, which allows us to combine L1 and L2 penalties.\n",
    "\n",
    "    * L1 (Lasso) regularization encourages sparsity (many weights become zero)\n",
    "    * L2 (Ridge) regularization reduces the magnitude of all weights."
   ]
  },
  {
   "cell_type": "code",
   "execution_count": 26,
   "id": "4366fa83-4216-476d-9d4c-6e66661e4ce1",
   "metadata": {},
   "outputs": [],
   "source": [
    "from tensorflow.keras.regularizers import l1_l2\n",
    "\n",
    "def build_model_with_elastic_net():\n",
    "    model = keras.Sequential([\n",
    "        layers.Dense(64, activation='relu', input_shape=(X_train.shape[1],),\n",
    "                     kernel_regularizer=l1_l2(l1=0.001, l2=0.001)),  # Elastic Net regularization\n",
    "        layers.Dense(64, activation='relu', kernel_regularizer=l1_l2(l1=0.001, l2=0.001)),\n",
    "        layers.Dense(1, activation='linear')  # Output layer for regression (predicting a continuous target)\n",
    "    ])\n",
    "    \n",
    "    model.compile(optimizer='adam',\n",
    "                  loss='mean_squared_error',  # Regression loss\n",
    "                  metrics=['mean_absolute_error'])\n",
    "    return model\n",
    "\n",
    "# Build the model\n",
    "model = build_model_with_elastic_net()"
   ]
  },
  {
   "cell_type": "markdown",
   "id": "952d6e37-cfd2-4aa7-8d0a-4e8c4b42ae03",
   "metadata": {},
   "source": [
    "* The values 0.001 for both L1 and L2 regularization are small, indicating a mild regularization effect. These values are often used as starting points when experimenting with regularization because:\n",
    "\n",
    "    * They provide a balance between model complexity and regularization.\n",
    "      \n",
    "    * They allow the model to train without being too constrained (over-regularized) but still prevent overfitting by penalizing large weights and unnecessary complexity.\n",
    "\n",
    "      \n",
    "* These values (0.001) are chosen as a default or starting point. In practice, you may want to experiment with different regularization strengths (e.g., 0.01, 0.1, etc.) to find the best values for your dataset. A larger value would apply a stronger regularization effect, potentially improving performance for models prone to overfitting."
   ]
  },
  {
   "cell_type": "code",
   "execution_count": 27,
   "id": "67689eaf-b0bd-497a-8848-1ae252a89058",
   "metadata": {},
   "outputs": [
    {
     "name": "stdout",
     "output_type": "stream",
     "text": [
      "Epoch 1/50\n",
      "9/9 - 0s - loss: 31452.1484 - mean_absolute_error: 158.4657 - val_loss: 22331.9336 - val_mean_absolute_error: 133.5701 - 357ms/epoch - 40ms/step\n",
      "Epoch 2/50\n",
      "9/9 - 0s - loss: 31208.4355 - mean_absolute_error: 157.7449 - val_loss: 22134.1406 - val_mean_absolute_error: 132.8710 - 21ms/epoch - 2ms/step\n",
      "Epoch 3/50\n",
      "9/9 - 0s - loss: 30910.8438 - mean_absolute_error: 156.8791 - val_loss: 21888.6621 - val_mean_absolute_error: 132.0085 - 21ms/epoch - 2ms/step\n",
      "Epoch 4/50\n",
      "9/9 - 0s - loss: 30542.1875 - mean_absolute_error: 155.7690 - val_loss: 21560.8652 - val_mean_absolute_error: 130.8608 - 21ms/epoch - 2ms/step\n",
      "Epoch 5/50\n",
      "9/9 - 0s - loss: 30007.7793 - mean_absolute_error: 154.2456 - val_loss: 21128.7949 - val_mean_absolute_error: 129.3467 - 21ms/epoch - 2ms/step\n",
      "Epoch 6/50\n",
      "9/9 - 0s - loss: 29302.7383 - mean_absolute_error: 152.1813 - val_loss: 20548.7793 - val_mean_absolute_error: 127.3151 - 21ms/epoch - 2ms/step\n",
      "Epoch 7/50\n",
      "9/9 - 0s - loss: 28348.6250 - mean_absolute_error: 149.3979 - val_loss: 19801.1230 - val_mean_absolute_error: 124.6737 - 21ms/epoch - 2ms/step\n",
      "Epoch 8/50\n",
      "9/9 - 0s - loss: 27096.6289 - mean_absolute_error: 145.7138 - val_loss: 18882.6738 - val_mean_absolute_error: 121.3499 - 21ms/epoch - 2ms/step\n",
      "Epoch 9/50\n",
      "9/9 - 0s - loss: 25579.5742 - mean_absolute_error: 141.0624 - val_loss: 17756.7363 - val_mean_absolute_error: 117.1704 - 20ms/epoch - 2ms/step\n",
      "Epoch 10/50\n",
      "9/9 - 0s - loss: 23765.1934 - mean_absolute_error: 135.3026 - val_loss: 16435.4238 - val_mean_absolute_error: 112.1048 - 20ms/epoch - 2ms/step\n",
      "Epoch 11/50\n",
      "9/9 - 0s - loss: 21586.7285 - mean_absolute_error: 128.1941 - val_loss: 14951.6553 - val_mean_absolute_error: 106.0871 - 19ms/epoch - 2ms/step\n",
      "Epoch 12/50\n",
      "9/9 - 0s - loss: 19199.3867 - mean_absolute_error: 119.9076 - val_loss: 13337.0547 - val_mean_absolute_error: 99.0834 - 20ms/epoch - 2ms/step\n",
      "Epoch 13/50\n",
      "9/9 - 0s - loss: 16639.3555 - mean_absolute_error: 110.1583 - val_loss: 11669.1592 - val_mean_absolute_error: 91.1337 - 19ms/epoch - 2ms/step\n",
      "Epoch 14/50\n",
      "9/9 - 0s - loss: 14058.7383 - mean_absolute_error: 99.5823 - val_loss: 10030.9014 - val_mean_absolute_error: 82.3986 - 27ms/epoch - 3ms/step\n",
      "Epoch 15/50\n",
      "9/9 - 0s - loss: 11813.6309 - mean_absolute_error: 89.0312 - val_loss: 8474.0430 - val_mean_absolute_error: 73.2542 - 20ms/epoch - 2ms/step\n",
      "Epoch 16/50\n",
      "9/9 - 0s - loss: 9718.4365 - mean_absolute_error: 78.9875 - val_loss: 7154.7744 - val_mean_absolute_error: 64.7567 - 20ms/epoch - 2ms/step\n",
      "Epoch 17/50\n",
      "9/9 - 0s - loss: 8184.7617 - mean_absolute_error: 71.0940 - val_loss: 6097.7822 - val_mean_absolute_error: 58.1014 - 21ms/epoch - 2ms/step\n",
      "Epoch 18/50\n",
      "9/9 - 0s - loss: 6965.4570 - mean_absolute_error: 64.8224 - val_loss: 5367.0713 - val_mean_absolute_error: 53.4824 - 20ms/epoch - 2ms/step\n",
      "Epoch 19/50\n",
      "9/9 - 0s - loss: 6231.9131 - mean_absolute_error: 61.1765 - val_loss: 4845.1406 - val_mean_absolute_error: 50.7709 - 20ms/epoch - 2ms/step\n",
      "Epoch 20/50\n",
      "9/9 - 0s - loss: 5726.1968 - mean_absolute_error: 58.7320 - val_loss: 4485.5557 - val_mean_absolute_error: 49.4006 - 19ms/epoch - 2ms/step\n",
      "Epoch 21/50\n",
      "9/9 - 0s - loss: 5403.6567 - mean_absolute_error: 57.0406 - val_loss: 4254.4038 - val_mean_absolute_error: 48.5472 - 19ms/epoch - 2ms/step\n",
      "Epoch 22/50\n",
      "9/9 - 0s - loss: 5126.8149 - mean_absolute_error: 55.9316 - val_loss: 4095.0637 - val_mean_absolute_error: 47.8917 - 19ms/epoch - 2ms/step\n",
      "Epoch 23/50\n",
      "9/9 - 0s - loss: 4941.9307 - mean_absolute_error: 55.1728 - val_loss: 3979.4517 - val_mean_absolute_error: 47.3301 - 20ms/epoch - 2ms/step\n",
      "Epoch 24/50\n",
      "9/9 - 0s - loss: 4756.0747 - mean_absolute_error: 54.2514 - val_loss: 3887.5322 - val_mean_absolute_error: 46.7407 - 19ms/epoch - 2ms/step\n",
      "Epoch 25/50\n",
      "9/9 - 0s - loss: 4609.9590 - mean_absolute_error: 53.5467 - val_loss: 3815.7061 - val_mean_absolute_error: 46.2294 - 19ms/epoch - 2ms/step\n",
      "Epoch 26/50\n",
      "9/9 - 0s - loss: 4497.5986 - mean_absolute_error: 52.9548 - val_loss: 3751.4670 - val_mean_absolute_error: 45.6907 - 20ms/epoch - 2ms/step\n",
      "Epoch 27/50\n",
      "9/9 - 0s - loss: 4388.6875 - mean_absolute_error: 52.3226 - val_loss: 3690.0122 - val_mean_absolute_error: 45.2577 - 19ms/epoch - 2ms/step\n",
      "Epoch 28/50\n",
      "9/9 - 0s - loss: 4293.2222 - mean_absolute_error: 51.6753 - val_loss: 3623.7351 - val_mean_absolute_error: 44.7461 - 20ms/epoch - 2ms/step\n",
      "Epoch 29/50\n",
      "9/9 - 0s - loss: 4200.5210 - mean_absolute_error: 51.0615 - val_loss: 3565.0354 - val_mean_absolute_error: 44.2195 - 21ms/epoch - 2ms/step\n",
      "Epoch 30/50\n",
      "9/9 - 0s - loss: 4131.6431 - mean_absolute_error: 50.5795 - val_loss: 3502.8591 - val_mean_absolute_error: 43.7318 - 19ms/epoch - 2ms/step\n",
      "Epoch 31/50\n",
      "9/9 - 0s - loss: 4044.4885 - mean_absolute_error: 49.9961 - val_loss: 3463.4321 - val_mean_absolute_error: 43.3714 - 22ms/epoch - 2ms/step\n",
      "Epoch 32/50\n",
      "9/9 - 0s - loss: 3982.8972 - mean_absolute_error: 49.5273 - val_loss: 3434.2656 - val_mean_absolute_error: 43.1244 - 21ms/epoch - 2ms/step\n",
      "Epoch 33/50\n",
      "9/9 - 0s - loss: 3916.6792 - mean_absolute_error: 49.0802 - val_loss: 3386.2922 - val_mean_absolute_error: 42.7620 - 21ms/epoch - 2ms/step\n",
      "Epoch 34/50\n",
      "9/9 - 0s - loss: 3858.3186 - mean_absolute_error: 48.7060 - val_loss: 3345.0942 - val_mean_absolute_error: 42.4605 - 21ms/epoch - 2ms/step\n",
      "Epoch 35/50\n",
      "9/9 - 0s - loss: 3801.3984 - mean_absolute_error: 48.3441 - val_loss: 3303.3828 - val_mean_absolute_error: 42.1717 - 20ms/epoch - 2ms/step\n",
      "Epoch 36/50\n",
      "9/9 - 0s - loss: 3746.2610 - mean_absolute_error: 47.9861 - val_loss: 3265.6667 - val_mean_absolute_error: 42.0113 - 19ms/epoch - 2ms/step\n",
      "Epoch 37/50\n",
      "9/9 - 0s - loss: 3697.5208 - mean_absolute_error: 47.7442 - val_loss: 3227.6738 - val_mean_absolute_error: 41.9634 - 18ms/epoch - 2ms/step\n",
      "Epoch 38/50\n",
      "9/9 - 0s - loss: 3651.6824 - mean_absolute_error: 47.4516 - val_loss: 3197.0728 - val_mean_absolute_error: 41.8798 - 19ms/epoch - 2ms/step\n",
      "Epoch 39/50\n",
      "9/9 - 0s - loss: 3600.3232 - mean_absolute_error: 47.1448 - val_loss: 3172.4595 - val_mean_absolute_error: 41.8041 - 20ms/epoch - 2ms/step\n",
      "Epoch 40/50\n",
      "9/9 - 0s - loss: 3560.7554 - mean_absolute_error: 46.8826 - val_loss: 3150.6746 - val_mean_absolute_error: 41.6821 - 19ms/epoch - 2ms/step\n",
      "Epoch 41/50\n",
      "9/9 - 0s - loss: 3517.5388 - mean_absolute_error: 46.6706 - val_loss: 3128.8164 - val_mean_absolute_error: 41.7060 - 19ms/epoch - 2ms/step\n",
      "Epoch 42/50\n",
      "9/9 - 0s - loss: 3486.4321 - mean_absolute_error: 46.4951 - val_loss: 3097.3918 - val_mean_absolute_error: 41.6491 - 20ms/epoch - 2ms/step\n",
      "Epoch 43/50\n",
      "9/9 - 0s - loss: 3443.0210 - mean_absolute_error: 46.2232 - val_loss: 3075.2891 - val_mean_absolute_error: 41.6365 - 20ms/epoch - 2ms/step\n",
      "Epoch 44/50\n",
      "9/9 - 0s - loss: 3406.1685 - mean_absolute_error: 45.9893 - val_loss: 3051.5735 - val_mean_absolute_error: 41.5558 - 19ms/epoch - 2ms/step\n",
      "Epoch 45/50\n",
      "9/9 - 0s - loss: 3372.9395 - mean_absolute_error: 45.8009 - val_loss: 3034.0747 - val_mean_absolute_error: 41.4818 - 19ms/epoch - 2ms/step\n",
      "Epoch 46/50\n",
      "9/9 - 0s - loss: 3345.8518 - mean_absolute_error: 45.6062 - val_loss: 3005.0369 - val_mean_absolute_error: 41.4192 - 19ms/epoch - 2ms/step\n",
      "Epoch 47/50\n",
      "9/9 - 0s - loss: 3311.1382 - mean_absolute_error: 45.3942 - val_loss: 2995.9995 - val_mean_absolute_error: 41.4384 - 19ms/epoch - 2ms/step\n",
      "Epoch 48/50\n",
      "9/9 - 0s - loss: 3281.4744 - mean_absolute_error: 45.2398 - val_loss: 2984.0046 - val_mean_absolute_error: 41.4116 - 19ms/epoch - 2ms/step\n",
      "Epoch 49/50\n",
      "9/9 - 0s - loss: 3250.8008 - mean_absolute_error: 45.0836 - val_loss: 2969.5242 - val_mean_absolute_error: 41.2966 - 20ms/epoch - 2ms/step\n",
      "Epoch 50/50\n",
      "9/9 - 0s - loss: 3228.0479 - mean_absolute_error: 44.9169 - val_loss: 2946.2332 - val_mean_absolute_error: 41.3109 - 22ms/epoch - 2ms/step\n"
     ]
    }
   ],
   "source": [
    "# Train the model\n",
    "history = model.fit(X_train, y_train, \n",
    "                    epochs=50, \n",
    "                    batch_size=32, \n",
    "                    validation_split=0.2, \n",
    "                    verbose=2)"
   ]
  },
  {
   "cell_type": "code",
   "execution_count": 28,
   "id": "a1f62eb0-b682-47fd-a0b0-a2424debfee3",
   "metadata": {},
   "outputs": [
    {
     "data": {
      "image/png": "[encoded data removed]",
      "text/plain": [
       "<Figure size 640x480 with 1 Axes>"
      ]
     },
     "metadata": {},
     "output_type": "display_data"
    }
   ],
   "source": [
    "# Visualize Training and Validation Loss\n",
    "import matplotlib.pyplot as plt\n",
    "\n",
    "# Plot the training and validation loss\n",
    "plt.plot(history.history['loss'], label='Training Loss')\n",
    "plt.plot(history.history['val_loss'], label='Validation Loss')\n",
    "plt.title('Training and Validation Loss with Elastic Net Regularization')\n",
    "plt.xlabel('Epochs')\n",
    "plt.ylabel('Loss')\n",
    "plt.legend()\n",
    "plt.show()"
   ]
  },
  {
   "cell_type": "code",
   "execution_count": 29,
   "id": "90e41912-b39b-45e7-8a85-8feaaa08dade",
   "metadata": {},
   "outputs": [
    {
     "name": "stdout",
     "output_type": "stream",
     "text": [
      "3/3 [==============================] - 0s 1ms/step - loss: 3346.8701 - mean_absolute_error: 45.8669\n",
      "Test Mean Absolute Error: 45.86689758300781\n"
     ]
    }
   ],
   "source": [
    "# Evaluate the Model on Test Data\n",
    "test_loss, test_mae = model.evaluate(X_test, y_test)\n",
    "print('Test Mean Absolute Error:', test_mae)"
   ]
  },
  {
   "cell_type": "code",
   "execution_count": 30,
   "id": "e1fcfaf8-fadc-455b-8cc5-e0e954ca5a60",
   "metadata": {},
   "outputs": [
    {
     "name": "stdout",
     "output_type": "stream",
     "text": [
      "Epoch 1/30\n",
      "9/9 - 0s - loss: 3197.9338 - mean_absolute_error: 44.7109 - val_loss: 2931.1602 - val_mean_absolute_error: 41.2276 - 36ms/epoch - 4ms/step\n",
      "Epoch 2/30\n",
      "9/9 - 0s - loss: 3175.1189 - mean_absolute_error: 44.5534 - val_loss: 2921.4922 - val_mean_absolute_error: 41.2911 - 19ms/epoch - 2ms/step\n",
      "Epoch 3/30\n",
      "9/9 - 0s - loss: 3147.1582 - mean_absolute_error: 44.3831 - val_loss: 2909.0637 - val_mean_absolute_error: 41.2515 - 19ms/epoch - 2ms/step\n",
      "Epoch 4/30\n",
      "9/9 - 0s - loss: 3126.1167 - mean_absolute_error: 44.2484 - val_loss: 2898.3066 - val_mean_absolute_error: 41.1626 - 19ms/epoch - 2ms/step\n",
      "Epoch 5/30\n",
      "9/9 - 0s - loss: 3103.6838 - mean_absolute_error: 44.1332 - val_loss: 2891.1382 - val_mean_absolute_error: 41.1578 - 18ms/epoch - 2ms/step\n",
      "Epoch 6/30\n",
      "9/9 - 0s - loss: 3082.4890 - mean_absolute_error: 43.9842 - val_loss: 2887.0781 - val_mean_absolute_error: 41.1780 - 19ms/epoch - 2ms/step\n",
      "Epoch 7/30\n",
      "9/9 - 0s - loss: 3063.0112 - mean_absolute_error: 43.8605 - val_loss: 2880.5869 - val_mean_absolute_error: 41.2179 - 18ms/epoch - 2ms/step\n",
      "Epoch 8/30\n",
      "9/9 - 0s - loss: 3045.3093 - mean_absolute_error: 43.6982 - val_loss: 2876.6577 - val_mean_absolute_error: 41.2268 - 19ms/epoch - 2ms/step\n",
      "Epoch 9/30\n",
      "9/9 - 0s - loss: 3034.2495 - mean_absolute_error: 43.5978 - val_loss: 2867.0217 - val_mean_absolute_error: 41.2293 - 19ms/epoch - 2ms/step\n",
      "Epoch 10/30\n",
      "9/9 - 0s - loss: 3012.1423 - mean_absolute_error: 43.4186 - val_loss: 2864.0212 - val_mean_absolute_error: 41.1981 - 19ms/epoch - 2ms/step\n",
      "Epoch 11/30\n",
      "9/9 - 0s - loss: 2996.0623 - mean_absolute_error: 43.3271 - val_loss: 2859.9719 - val_mean_absolute_error: 41.1432 - 19ms/epoch - 2ms/step\n",
      "Epoch 12/30\n",
      "9/9 - 0s - loss: 2979.3447 - mean_absolute_error: 43.2495 - val_loss: 2857.0225 - val_mean_absolute_error: 41.1862 - 18ms/epoch - 2ms/step\n",
      "Epoch 13/30\n",
      "9/9 - 0s - loss: 2965.9915 - mean_absolute_error: 43.1773 - val_loss: 2846.6292 - val_mean_absolute_error: 41.1642 - 19ms/epoch - 2ms/step\n",
      "Epoch 14/30\n",
      "9/9 - 0s - loss: 2952.7053 - mean_absolute_error: 43.1236 - val_loss: 2844.9131 - val_mean_absolute_error: 41.1708 - 19ms/epoch - 2ms/step\n",
      "Epoch 15/30\n",
      "9/9 - 0s - loss: 2939.7139 - mean_absolute_error: 42.9820 - val_loss: 2847.4309 - val_mean_absolute_error: 41.2475 - 20ms/epoch - 2ms/step\n",
      "Epoch 16/30\n",
      "9/9 - 0s - loss: 2926.4565 - mean_absolute_error: 42.9031 - val_loss: 2841.8557 - val_mean_absolute_error: 41.1902 - 19ms/epoch - 2ms/step\n",
      "Epoch 17/30\n",
      "9/9 - 0s - loss: 2914.8958 - mean_absolute_error: 42.8306 - val_loss: 2842.2302 - val_mean_absolute_error: 41.2320 - 18ms/epoch - 2ms/step\n",
      "Epoch 18/30\n",
      "9/9 - 0s - loss: 2904.6670 - mean_absolute_error: 42.7535 - val_loss: 2831.6013 - val_mean_absolute_error: 41.1847 - 18ms/epoch - 2ms/step\n",
      "Epoch 19/30\n",
      "9/9 - 0s - loss: 2893.1987 - mean_absolute_error: 42.6992 - val_loss: 2830.7539 - val_mean_absolute_error: 41.2651 - 18ms/epoch - 2ms/step\n",
      "Epoch 20/30\n",
      "9/9 - 0s - loss: 2883.0959 - mean_absolute_error: 42.6269 - val_loss: 2832.4692 - val_mean_absolute_error: 41.3213 - 19ms/epoch - 2ms/step\n",
      "Epoch 21/30\n",
      "9/9 - 0s - loss: 2872.1382 - mean_absolute_error: 42.5587 - val_loss: 2832.0554 - val_mean_absolute_error: 41.3146 - 20ms/epoch - 2ms/step\n",
      "Epoch 22/30\n",
      "9/9 - 0s - loss: 2862.6863 - mean_absolute_error: 42.5121 - val_loss: 2824.8818 - val_mean_absolute_error: 41.2496 - 18ms/epoch - 2ms/step\n",
      "Epoch 23/30\n",
      "9/9 - 0s - loss: 2853.0276 - mean_absolute_error: 42.4399 - val_loss: 2833.7119 - val_mean_absolute_error: 41.3831 - 19ms/epoch - 2ms/step\n",
      "Epoch 24/30\n",
      "9/9 - 0s - loss: 2840.6572 - mean_absolute_error: 42.2992 - val_loss: 2835.7664 - val_mean_absolute_error: 41.4129 - 20ms/epoch - 2ms/step\n",
      "Epoch 25/30\n",
      "9/9 - 0s - loss: 2835.1755 - mean_absolute_error: 42.2640 - val_loss: 2842.9683 - val_mean_absolute_error: 41.5471 - 20ms/epoch - 2ms/step\n",
      "Epoch 26/30\n",
      "9/9 - 0s - loss: 2825.0867 - mean_absolute_error: 42.2006 - val_loss: 2843.4226 - val_mean_absolute_error: 41.5509 - 20ms/epoch - 2ms/step\n",
      "Epoch 27/30\n",
      "9/9 - 0s - loss: 2815.7422 - mean_absolute_error: 42.1331 - val_loss: 2835.9221 - val_mean_absolute_error: 41.4939 - 19ms/epoch - 2ms/step\n",
      "Epoch 28/30\n",
      "9/9 - 0s - loss: 2807.1160 - mean_absolute_error: 42.1027 - val_loss: 2837.2817 - val_mean_absolute_error: 41.5307 - 21ms/epoch - 2ms/step\n",
      "Epoch 29/30\n",
      "9/9 - 0s - loss: 2803.9292 - mean_absolute_error: 42.0820 - val_loss: 2841.5823 - val_mean_absolute_error: 41.6159 - 22ms/epoch - 2ms/step\n",
      "Epoch 30/30\n",
      "9/9 - 0s - loss: 2799.6575 - mean_absolute_error: 42.0942 - val_loss: 2834.6863 - val_mean_absolute_error: 41.5608 - 21ms/epoch - 2ms/step\n"
     ]
    },
    {
     "data": {
      "text/plain": [
       "<keras.src.callbacks.History at 0x17fdbe1ef10>"
      ]
     },
     "execution_count": 30,
     "metadata": {},
     "output_type": "execute_result"
    }
   ],
   "source": [
    "# refit using epochs =30\n",
    "model.fit(X_train, y_train, \n",
    "                    epochs=30, \n",
    "                    batch_size=32, \n",
    "                    validation_split=0.2, \n",
    "                    verbose=2)"
   ]
  },
  {
   "cell_type": "code",
   "execution_count": 31,
   "id": "7117909b-840e-44b2-afd1-7a52ae77942e",
   "metadata": {},
   "outputs": [
    {
     "name": "stdout",
     "output_type": "stream",
     "text": [
      "3/3 [==============================] - 0s 1ms/step - loss: 3010.4519 - mean_absolute_error: 43.7259\n",
      "Test Mean Absolute Error: 43.72587585449219\n"
     ]
    }
   ],
   "source": [
    "test_loss, test_mae = model.evaluate(X_test, y_test)\n",
    "print('Test Mean Absolute Error:', test_mae)"
   ]
  },
  {
   "cell_type": "markdown",
   "id": "a25dafa7-d8d3-4700-bb6a-5259df36c78c",
   "metadata": {},
   "source": [
    "### 4.4.3 Adding dropout"
   ]
  },
  {
   "cell_type": "markdown",
   "id": "6966d4d3-48e8-44c1-b29a-1475f501cdb9",
   "metadata": {},
   "source": [
    "* Dropout is one of the most effective and most commonly used regularization techniques for neural networks.\n",
    "\n",
    "* Dropout, applied to a layer, consists of randomly dropping out \n",
    "(setting to zero) a number of output features of the layer during training.\n",
    "* The dropout rate is the fraction \n",
    "of the features that are zeroed out; it’s usually set between 0.2 and 0.5\n",
    "* At test time, no units are dropped out; instead, the layer’s output values are scaled down by a factor \n",
    "equal to the dropout rt..\n"
   ]
  },
  {
   "cell_type": "code",
   "execution_count": 32,
   "id": "afe9cb64-9b2d-4df2-b70a-00e6a748b504",
   "metadata": {},
   "outputs": [
    {
     "name": "stdout",
     "output_type": "stream",
     "text": [
      "(150, 4)\n",
      "(150,)\n"
     ]
    }
   ],
   "source": [
    "# Load the Iris dataset\n",
    "from sklearn.datasets import load_iris\n",
    "\n",
    "data = load_iris()\n",
    "X = data.data  # Features\n",
    "y = data.target  # Target (class labels)\n",
    "\n",
    "print(X.shape)\n",
    "print(y.shape)"
   ]
  },
  {
   "cell_type": "code",
   "execution_count": 33,
   "id": "e7776148-1720-45c5-b2da-5ddd089f2864",
   "metadata": {},
   "outputs": [],
   "source": [
    "# One-hot encode the target\n",
    "from sklearn.preprocessing import OneHotEncoder\n",
    "\n",
    "encoder = OneHotEncoder(sparse_output=False) # initializes a OneHotEncoder object from the sklearn.preprocessing module.\n",
    "y = encoder.fit_transform(y.reshape(-1, 1)) \n",
    "# This reshapes the target array y from a 1D array into a 2D column vector because OneHotEncoder expects a 2D input. \n",
    "# The -1 means that the number of rows will be inferred based on the data length.\n"
   ]
  },
  {
   "cell_type": "code",
   "execution_count": 34,
   "id": "c151f8e7-6436-4c83-80e3-f4de019bcc30",
   "metadata": {},
   "outputs": [
    {
     "name": "stdout",
     "output_type": "stream",
     "text": [
      "(150, 3)\n"
     ]
    }
   ],
   "source": [
    "print(y.shape) # 3 categories"
   ]
  },
  {
   "cell_type": "markdown",
   "id": "b54b16d0-5b56-4951-9f91-99a14d1993f0",
   "metadata": {},
   "source": [
    "* OneHotEncoder: This is a class used to convert categorical labels (in this case, class labels) into a format that can be fed into machine learning models. Specifically, it transforms a single categorical label into a binary vector (one-hot encoded format) where each class is represented by a vector with one 1 and the rest 0.\n",
    "\n",
    "* Dense Array Output (sparse_output=False):\r\n",
    "[[0. 0. 1.]\r\n",
    " [0. 1. 0.]\r\n",
    " [1. 0. 0.]\r\n",
    " [0. 1. 0.]]"
   ]
  },
  {
   "cell_type": "code",
   "execution_count": 35,
   "id": "19edc56a-429d-4387-b3e8-6c07fed1c8f9",
   "metadata": {},
   "outputs": [],
   "source": [
    "# Split into training and test sets\n",
    "from sklearn.model_selection import train_test_split\n",
    "\n",
    "X_train, X_test, y_train, y_test = train_test_split(X, y, test_size=0.2, random_state=42)\n"
   ]
  },
  {
   "cell_type": "code",
   "execution_count": 36,
   "id": "b9158ae0-9edf-4ec9-b08d-206d9704a69b",
   "metadata": {},
   "outputs": [],
   "source": [
    "# Standardize the data (important for neural networks)\n",
    "from sklearn.preprocessing import StandardScaler\n",
    "\n",
    "scaler = StandardScaler()\n",
    "X_train = scaler.fit_transform(X_train)\n",
    "X_test = scaler.transform(X_test)"
   ]
  },
  {
   "cell_type": "code",
   "execution_count": 37,
   "id": "c7fcacc6-8441-4475-a4ca-7e244ad755da",
   "metadata": {},
   "outputs": [],
   "source": [
    "# Build a Neural Network with Dropout and Elastic Net Regularization\n",
    "def build_classification_model_with_regularization():\n",
    "    model = keras.Sequential([\n",
    "        # First hidden layer with Elastic Net (L1 + L2) and ReLU activation\n",
    "        layers.Dense(64, activation='relu', input_shape=(X_train.shape[1],),\n",
    "                     kernel_regularizer=l1_l2(l1=0.001, l2=0.001)),\n",
    "        # Add Dropout layer with 20% dropout rate\n",
    "        layers.Dropout(0.3),\n",
    "        \n",
    "        # Second hidden layer with Elastic Net (L1 + L2) and ReLU activation\n",
    "        layers.Dense(64, activation='relu', kernel_regularizer=l1_l2(l1=0.001, l2=0.001)),\n",
    "        # Add another Dropout layer with 30% dropout rate\n",
    "        layers.Dropout(0.3),\n",
    "        \n",
    "        # Output layer for classification (Softmax activation for multi-class classification)\n",
    "        layers.Dense(3, activation='softmax')\n",
    "    ])\n",
    "    \n",
    "    model.compile(optimizer='adam',\n",
    "                  loss='categorical_crossentropy',  # Categorical crossentropy for multi-class classification\n",
    "                  metrics=['accuracy'])\n",
    "    return model\n",
    "\n",
    "# Build the model\n",
    "model = build_classification_model_with_regularization()"
   ]
  },
  {
   "cell_type": "code",
   "execution_count": 131,
   "id": "d00dfd13-df7e-4d61-84e0-e7468b24f1b5",
   "metadata": {},
   "outputs": [
    {
     "name": "stdout",
     "output_type": "stream",
     "text": [
      "Epoch 1/50\n",
      "6/6 - 0s - loss: 1.6424 - accuracy: 0.4583 - val_loss: 1.5363 - val_accuracy: 0.6667 - 376ms/epoch - 63ms/step\n",
      "Epoch 2/50\n",
      "6/6 - 0s - loss: 1.5161 - accuracy: 0.6250 - val_loss: 1.4385 - val_accuracy: 0.8750 - 18ms/epoch - 3ms/step\n",
      "Epoch 3/50\n",
      "6/6 - 0s - loss: 1.4524 - accuracy: 0.7083 - val_loss: 1.3446 - val_accuracy: 0.9583 - 18ms/epoch - 3ms/step\n",
      "Epoch 4/50\n",
      "6/6 - 0s - loss: 1.3588 - accuracy: 0.7708 - val_loss: 1.2568 - val_accuracy: 0.9167 - 19ms/epoch - 3ms/step\n",
      "Epoch 5/50\n",
      "6/6 - 0s - loss: 1.2875 - accuracy: 0.7604 - val_loss: 1.1783 - val_accuracy: 0.8750 - 18ms/epoch - 3ms/step\n",
      "Epoch 6/50\n",
      "6/6 - 0s - loss: 1.2051 - accuracy: 0.7396 - val_loss: 1.1085 - val_accuracy: 0.8750 - 17ms/epoch - 3ms/step\n",
      "Epoch 7/50\n",
      "6/6 - 0s - loss: 1.1413 - accuracy: 0.7708 - val_loss: 1.0427 - val_accuracy: 0.8750 - 19ms/epoch - 3ms/step\n",
      "Epoch 8/50\n",
      "6/6 - 0s - loss: 1.0446 - accuracy: 0.7812 - val_loss: 0.9871 - val_accuracy: 0.8750 - 18ms/epoch - 3ms/step\n",
      "Epoch 9/50\n",
      "6/6 - 0s - loss: 1.0158 - accuracy: 0.8021 - val_loss: 0.9413 - val_accuracy: 0.8750 - 19ms/epoch - 3ms/step\n",
      "Epoch 10/50\n",
      "6/6 - 0s - loss: 0.9698 - accuracy: 0.7917 - val_loss: 0.9052 - val_accuracy: 0.8750 - 19ms/epoch - 3ms/step\n",
      "Epoch 11/50\n",
      "6/6 - 0s - loss: 0.9331 - accuracy: 0.8021 - val_loss: 0.8743 - val_accuracy: 0.9167 - 17ms/epoch - 3ms/step\n",
      "Epoch 12/50\n",
      "6/6 - 0s - loss: 0.9099 - accuracy: 0.7917 - val_loss: 0.8451 - val_accuracy: 0.9167 - 17ms/epoch - 3ms/step\n",
      "Epoch 13/50\n",
      "6/6 - 0s - loss: 0.8406 - accuracy: 0.8438 - val_loss: 0.8197 - val_accuracy: 0.9167 - 17ms/epoch - 3ms/step\n",
      "Epoch 14/50\n",
      "6/6 - 0s - loss: 0.8339 - accuracy: 0.8125 - val_loss: 0.7986 - val_accuracy: 0.9167 - 17ms/epoch - 3ms/step\n",
      "Epoch 15/50\n",
      "6/6 - 0s - loss: 0.8280 - accuracy: 0.7812 - val_loss: 0.7758 - val_accuracy: 0.9167 - 17ms/epoch - 3ms/step\n",
      "Epoch 16/50\n",
      "6/6 - 0s - loss: 0.7933 - accuracy: 0.8333 - val_loss: 0.7550 - val_accuracy: 0.9167 - 17ms/epoch - 3ms/step\n",
      "Epoch 17/50\n",
      "6/6 - 0s - loss: 0.7782 - accuracy: 0.8229 - val_loss: 0.7337 - val_accuracy: 0.9167 - 16ms/epoch - 3ms/step\n",
      "Epoch 18/50\n",
      "6/6 - 0s - loss: 0.7400 - accuracy: 0.8542 - val_loss: 0.7170 - val_accuracy: 0.9167 - 18ms/epoch - 3ms/step\n",
      "Epoch 19/50\n",
      "6/6 - 0s - loss: 0.7260 - accuracy: 0.8438 - val_loss: 0.7062 - val_accuracy: 0.9167 - 17ms/epoch - 3ms/step\n",
      "Epoch 20/50\n",
      "6/6 - 0s - loss: 0.7398 - accuracy: 0.8750 - val_loss: 0.6856 - val_accuracy: 0.9167 - 17ms/epoch - 3ms/step\n",
      "Epoch 21/50\n",
      "6/6 - 0s - loss: 0.6813 - accuracy: 0.8958 - val_loss: 0.6696 - val_accuracy: 0.9167 - 17ms/epoch - 3ms/step\n",
      "Epoch 22/50\n",
      "6/6 - 0s - loss: 0.7066 - accuracy: 0.8333 - val_loss: 0.6550 - val_accuracy: 0.9167 - 16ms/epoch - 3ms/step\n",
      "Epoch 23/50\n",
      "6/6 - 0s - loss: 0.6798 - accuracy: 0.8750 - val_loss: 0.6455 - val_accuracy: 0.9167 - 18ms/epoch - 3ms/step\n",
      "Epoch 24/50\n",
      "6/6 - 0s - loss: 0.6927 - accuracy: 0.8646 - val_loss: 0.6281 - val_accuracy: 0.9167 - 16ms/epoch - 3ms/step\n",
      "Epoch 25/50\n",
      "6/6 - 0s - loss: 0.6310 - accuracy: 0.8958 - val_loss: 0.6133 - val_accuracy: 0.9167 - 16ms/epoch - 3ms/step\n",
      "Epoch 26/50\n",
      "6/6 - 0s - loss: 0.6474 - accuracy: 0.8646 - val_loss: 0.5982 - val_accuracy: 0.9167 - 18ms/epoch - 3ms/step\n",
      "Epoch 27/50\n",
      "6/6 - 0s - loss: 0.6627 - accuracy: 0.8229 - val_loss: 0.5871 - val_accuracy: 0.9167 - 17ms/epoch - 3ms/step\n",
      "Epoch 28/50\n",
      "6/6 - 0s - loss: 0.6035 - accuracy: 0.9062 - val_loss: 0.5708 - val_accuracy: 0.9583 - 16ms/epoch - 3ms/step\n",
      "Epoch 29/50\n",
      "6/6 - 0s - loss: 0.5924 - accuracy: 0.8646 - val_loss: 0.5567 - val_accuracy: 0.9583 - 17ms/epoch - 3ms/step\n",
      "Epoch 30/50\n",
      "6/6 - 0s - loss: 0.5802 - accuracy: 0.9062 - val_loss: 0.5341 - val_accuracy: 0.9167 - 18ms/epoch - 3ms/step\n",
      "Epoch 31/50\n",
      "6/6 - 0s - loss: 0.5904 - accuracy: 0.8750 - val_loss: 0.5186 - val_accuracy: 0.9167 - 17ms/epoch - 3ms/step\n",
      "Epoch 32/50\n",
      "6/6 - 0s - loss: 0.5421 - accuracy: 0.8958 - val_loss: 0.5165 - val_accuracy: 0.9583 - 17ms/epoch - 3ms/step\n",
      "Epoch 33/50\n",
      "6/6 - 0s - loss: 0.5219 - accuracy: 0.9271 - val_loss: 0.5163 - val_accuracy: 0.9583 - 17ms/epoch - 3ms/step\n",
      "Epoch 34/50\n",
      "6/6 - 0s - loss: 0.5428 - accuracy: 0.9375 - val_loss: 0.5048 - val_accuracy: 0.9583 - 16ms/epoch - 3ms/step\n",
      "Epoch 35/50\n",
      "6/6 - 0s - loss: 0.5398 - accuracy: 0.9167 - val_loss: 0.4902 - val_accuracy: 0.9583 - 17ms/epoch - 3ms/step\n",
      "Epoch 36/50\n",
      "6/6 - 0s - loss: 0.5198 - accuracy: 0.9375 - val_loss: 0.4727 - val_accuracy: 0.9583 - 16ms/epoch - 3ms/step\n",
      "Epoch 37/50\n",
      "6/6 - 0s - loss: 0.4615 - accuracy: 0.9479 - val_loss: 0.4644 - val_accuracy: 0.9583 - 16ms/epoch - 3ms/step\n",
      "Epoch 38/50\n",
      "6/6 - 0s - loss: 0.4906 - accuracy: 0.9271 - val_loss: 0.4557 - val_accuracy: 0.9583 - 17ms/epoch - 3ms/step\n",
      "Epoch 39/50\n",
      "6/6 - 0s - loss: 0.4988 - accuracy: 0.9062 - val_loss: 0.4530 - val_accuracy: 0.9583 - 17ms/epoch - 3ms/step\n",
      "Epoch 40/50\n",
      "6/6 - 0s - loss: 0.4640 - accuracy: 0.9271 - val_loss: 0.4483 - val_accuracy: 0.9583 - 17ms/epoch - 3ms/step\n",
      "Epoch 41/50\n",
      "6/6 - 0s - loss: 0.4473 - accuracy: 0.9271 - val_loss: 0.4389 - val_accuracy: 0.9583 - 18ms/epoch - 3ms/step\n",
      "Epoch 42/50\n",
      "6/6 - 0s - loss: 0.4896 - accuracy: 0.9271 - val_loss: 0.4353 - val_accuracy: 0.9583 - 18ms/epoch - 3ms/step\n",
      "Epoch 43/50\n",
      "6/6 - 0s - loss: 0.4586 - accuracy: 0.9167 - val_loss: 0.4255 - val_accuracy: 0.9583 - 17ms/epoch - 3ms/step\n",
      "Epoch 44/50\n",
      "6/6 - 0s - loss: 0.4180 - accuracy: 0.9375 - val_loss: 0.4112 - val_accuracy: 0.9583 - 18ms/epoch - 3ms/step\n",
      "Epoch 45/50\n",
      "6/6 - 0s - loss: 0.4274 - accuracy: 0.9375 - val_loss: 0.4036 - val_accuracy: 0.9583 - 17ms/epoch - 3ms/step\n",
      "Epoch 46/50\n",
      "6/6 - 0s - loss: 0.4486 - accuracy: 0.9271 - val_loss: 0.3911 - val_accuracy: 0.9583 - 17ms/epoch - 3ms/step\n",
      "Epoch 47/50\n",
      "6/6 - 0s - loss: 0.4051 - accuracy: 0.9688 - val_loss: 0.3882 - val_accuracy: 0.9583 - 18ms/epoch - 3ms/step\n",
      "Epoch 48/50\n",
      "6/6 - 0s - loss: 0.3860 - accuracy: 0.9792 - val_loss: 0.3833 - val_accuracy: 0.9583 - 17ms/epoch - 3ms/step\n",
      "Epoch 49/50\n",
      "6/6 - 0s - loss: 0.3995 - accuracy: 0.9479 - val_loss: 0.3737 - val_accuracy: 0.9583 - 18ms/epoch - 3ms/step\n",
      "Epoch 50/50\n",
      "6/6 - 0s - loss: 0.3780 - accuracy: 0.9583 - val_loss: 0.3724 - val_accuracy: 0.9583 - 19ms/epoch - 3ms/step\n"
     ]
    }
   ],
   "source": [
    "# Train the model\n",
    "history = model.fit(X_train, y_train, \n",
    "                    epochs=50, \n",
    "                    batch_size=16, \n",
    "                    validation_split=0.2, \n",
    "                    verbose=2)"
   ]
  },
  {
   "cell_type": "code",
   "execution_count": 39,
   "id": "55074d2d-e6cf-4044-9def-09a9e6bd3af5",
   "metadata": {},
   "outputs": [
    {
     "name": "stdout",
     "output_type": "stream",
     "text": [
      "1/1 [==============================] - 0s 11ms/step - loss: 1.6719 - accuracy: 0.3000\n",
      "Test Accuracy: 0.30000001192092896\n"
     ]
    }
   ],
   "source": [
    "test_loss, test_acc = model.evaluate(X_test, y_test)\n",
    "print('Test Accuracy:', test_acc)"
   ]
  },
  {
   "cell_type": "code",
   "execution_count": 133,
   "id": "24b6be8e-4dd4-4e9b-b552-8a3a370ec9b5",
   "metadata": {},
   "outputs": [
    {
     "data": {
      "image/png": "[encoded data removed]",
      "text/plain": [
       "<Figure size 640x480 with 1 Axes>"
      ]
     },
     "metadata": {},
     "output_type": "display_data"
    }
   ],
   "source": [
    "import matplotlib.pyplot as plt\n",
    "\n",
    "# Plot the training and validation accuracy\n",
    "plt.plot(history.history['accuracy'], label='Training Accuracy')\n",
    "plt.plot(history.history['val_accuracy'], label='Validation Accuracy')\n",
    "plt.title('Training and Validation Accuracy with Dropout and Elastic Net Regularization')\n",
    "plt.xlabel('Epochs')\n",
    "plt.ylabel('Accuracy')\n",
    "plt.legend()\n",
    "plt.show()"
   ]
  },
  {
   "cell_type": "code",
   "execution_count": 40,
   "id": "e0679e02-4df7-49e9-ba07-c7a2b839cf6d",
   "metadata": {},
   "outputs": [
    {
     "name": "stdout",
     "output_type": "stream",
     "text": [
      "Epoch 1/20\n",
      "6/6 - 0s - loss: 1.6586 - accuracy: 0.3750 - val_loss: 1.5756 - val_accuracy: 0.5417 - 300ms/epoch - 50ms/step\n",
      "Epoch 2/20\n",
      "6/6 - 0s - loss: 1.5299 - accuracy: 0.5625 - val_loss: 1.4730 - val_accuracy: 0.7500 - 18ms/epoch - 3ms/step\n",
      "Epoch 3/20\n",
      "6/6 - 0s - loss: 1.4253 - accuracy: 0.7604 - val_loss: 1.3818 - val_accuracy: 0.8333 - 17ms/epoch - 3ms/step\n",
      "Epoch 4/20\n",
      "6/6 - 0s - loss: 1.3725 - accuracy: 0.7083 - val_loss: 1.2987 - val_accuracy: 0.8750 - 17ms/epoch - 3ms/step\n",
      "Epoch 5/20\n",
      "6/6 - 0s - loss: 1.2491 - accuracy: 0.7604 - val_loss: 1.2216 - val_accuracy: 0.8333 - 17ms/epoch - 3ms/step\n",
      "Epoch 6/20\n",
      "6/6 - 0s - loss: 1.1887 - accuracy: 0.7708 - val_loss: 1.1558 - val_accuracy: 0.8333 - 18ms/epoch - 3ms/step\n",
      "Epoch 7/20\n",
      "6/6 - 0s - loss: 1.0952 - accuracy: 0.8229 - val_loss: 1.0949 - val_accuracy: 0.8333 - 17ms/epoch - 3ms/step\n",
      "Epoch 8/20\n",
      "6/6 - 0s - loss: 1.0521 - accuracy: 0.7812 - val_loss: 1.0408 - val_accuracy: 0.8333 - 18ms/epoch - 3ms/step\n",
      "Epoch 9/20\n",
      "6/6 - 0s - loss: 0.9991 - accuracy: 0.8229 - val_loss: 0.9922 - val_accuracy: 0.8333 - 17ms/epoch - 3ms/step\n",
      "Epoch 10/20\n",
      "6/6 - 0s - loss: 1.0077 - accuracy: 0.8125 - val_loss: 0.9552 - val_accuracy: 0.8333 - 16ms/epoch - 3ms/step\n",
      "Epoch 11/20\n",
      "6/6 - 0s - loss: 0.9019 - accuracy: 0.8125 - val_loss: 0.9226 - val_accuracy: 0.8333 - 17ms/epoch - 3ms/step\n",
      "Epoch 12/20\n",
      "6/6 - 0s - loss: 0.9137 - accuracy: 0.7812 - val_loss: 0.8960 - val_accuracy: 0.8333 - 18ms/epoch - 3ms/step\n",
      "Epoch 13/20\n",
      "6/6 - 0s - loss: 0.8701 - accuracy: 0.8333 - val_loss: 0.8746 - val_accuracy: 0.8333 - 17ms/epoch - 3ms/step\n",
      "Epoch 14/20\n",
      "6/6 - 0s - loss: 0.8559 - accuracy: 0.8438 - val_loss: 0.8559 - val_accuracy: 0.8750 - 17ms/epoch - 3ms/step\n",
      "Epoch 15/20\n",
      "6/6 - 0s - loss: 0.8253 - accuracy: 0.8229 - val_loss: 0.8407 - val_accuracy: 0.8750 - 18ms/epoch - 3ms/step\n",
      "Epoch 16/20\n",
      "6/6 - 0s - loss: 0.8056 - accuracy: 0.8646 - val_loss: 0.8222 - val_accuracy: 0.8750 - 18ms/epoch - 3ms/step\n",
      "Epoch 17/20\n",
      "6/6 - 0s - loss: 0.7980 - accuracy: 0.8333 - val_loss: 0.8034 - val_accuracy: 0.8750 - 17ms/epoch - 3ms/step\n",
      "Epoch 18/20\n",
      "6/6 - 0s - loss: 0.7566 - accuracy: 0.8750 - val_loss: 0.7792 - val_accuracy: 0.9167 - 17ms/epoch - 3ms/step\n",
      "Epoch 19/20\n",
      "6/6 - 0s - loss: 0.7737 - accuracy: 0.8229 - val_loss: 0.7606 - val_accuracy: 0.9167 - 16ms/epoch - 3ms/step\n",
      "Epoch 20/20\n",
      "6/6 - 0s - loss: 0.7507 - accuracy: 0.8438 - val_loss: 0.7540 - val_accuracy: 0.9167 - 17ms/epoch - 3ms/step\n"
     ]
    },
    {
     "data": {
      "text/plain": [
       "<keras.src.callbacks.History at 0x17fffcff250>"
      ]
     },
     "execution_count": 40,
     "metadata": {},
     "output_type": "execute_result"
    }
   ],
   "source": [
    "model.fit(X_train, y_train, \n",
    "                    epochs=20, \n",
    "                    batch_size=16, \n",
    "                    validation_split=0.2, \n",
    "                    verbose=2)"
   ]
  },
  {
   "cell_type": "code",
   "execution_count": 41,
   "id": "39f40302-b9b9-40ff-91fc-021f4fc67fe9",
   "metadata": {},
   "outputs": [
    {
     "name": "stdout",
     "output_type": "stream",
     "text": [
      "1/1 [==============================] - 0s 11ms/step - loss: 0.6464 - accuracy: 0.9667\n",
      "Test Accuracy: 0.9666666388511658\n"
     ]
    }
   ],
   "source": [
    "test_loss, test_acc = model.evaluate(X_test, y_test)\n",
    "print('Test Accuracy:', test_acc)"
   ]
  },
  {
   "cell_type": "markdown",
   "id": "b326197a-ba68-4924-ab70-a2f95508aaac",
   "metadata": {},
   "source": [
    "# FNN for Survival Analysis"
   ]
  },
  {
   "cell_type": "markdown",
   "id": "232cb632-a29e-4b39-8a69-03e9b76a0656",
   "metadata": {},
   "source": [
    "* For a survival analysis problem, a Feedforward Neural Network (FNN) can be adapted using methods such as DeepSurv or by incorporating survival-specific loss functions like the Cox Proportional Hazards loss.\n",
    "\n",
    "* We will use the Cox Proportional Hazards loss in a neural network framework for survival prediction.\n",
    "\n",
    "* We'll train the model to predict the hazard function for each individual based on their features."
   ]
  },
  {
   "cell_type": "code",
   "execution_count": 153,
   "id": "19121341-59b1-49c2-98dc-1f44d8891ce3",
   "metadata": {},
   "outputs": [
    {
     "name": "stdout",
     "output_type": "stream",
     "text": [
      "Requirement already satisfied: lifelines in c:\\users\\006816379\\appdata\\local\\anaconda3\\envs\\tf\\lib\\site-packages (0.27.8)\n",
      "Requirement already satisfied: tensorflow in c:\\users\\006816379\\appdata\\local\\anaconda3\\envs\\tf\\lib\\site-packages (2.13.0)\n",
      "Requirement already satisfied: pandas in c:\\users\\006816379\\appdata\\local\\anaconda3\\envs\\tf\\lib\\site-packages (2.0.3)\n",
      "Requirement already satisfied: scikit-learn in c:\\users\\006816379\\appdata\\local\\anaconda3\\envs\\tf\\lib\\site-packages (1.3.2)\n",
      "Requirement already satisfied: numpy<2.0,>=1.14.0 in c:\\users\\006816379\\appdata\\local\\anaconda3\\envs\\tf\\lib\\site-packages (from lifelines) (1.24.3)\n",
      "Requirement already satisfied: scipy>=1.2.0 in c:\\users\\006816379\\appdata\\local\\anaconda3\\envs\\tf\\lib\\site-packages (from lifelines) (1.10.1)\n",
      "Requirement already satisfied: matplotlib>=3.0 in c:\\users\\006816379\\appdata\\local\\anaconda3\\envs\\tf\\lib\\site-packages (from lifelines) (3.7.5)\n",
      "Requirement already satisfied: autograd>=1.5 in c:\\users\\006816379\\appdata\\local\\anaconda3\\envs\\tf\\lib\\site-packages (from lifelines) (1.7.0)\n",
      "Requirement already satisfied: autograd-gamma>=0.3 in c:\\users\\006816379\\appdata\\local\\anaconda3\\envs\\tf\\lib\\site-packages (from lifelines) (0.5.0)\n",
      "Requirement already satisfied: formulaic>=0.2.2 in c:\\users\\006816379\\appdata\\local\\anaconda3\\envs\\tf\\lib\\site-packages (from lifelines) (1.0.2)\n",
      "Requirement already satisfied: tensorflow-intel==2.13.0 in c:\\users\\006816379\\appdata\\local\\anaconda3\\envs\\tf\\lib\\site-packages (from tensorflow) (2.13.0)\n",
      "Requirement already satisfied: absl-py>=1.0.0 in c:\\users\\006816379\\appdata\\local\\anaconda3\\envs\\tf\\lib\\site-packages (from tensorflow-intel==2.13.0->tensorflow) (2.1.0)\n",
      "Requirement already satisfied: astunparse>=1.6.0 in c:\\users\\006816379\\appdata\\local\\anaconda3\\envs\\tf\\lib\\site-packages (from tensorflow-intel==2.13.0->tensorflow) (1.6.3)\n",
      "Requirement already satisfied: flatbuffers>=23.1.21 in c:\\users\\006816379\\appdata\\local\\anaconda3\\envs\\tf\\lib\\site-packages (from tensorflow-intel==2.13.0->tensorflow) (24.3.25)\n",
      "Requirement already satisfied: gast<=0.4.0,>=0.2.1 in c:\\users\\006816379\\appdata\\local\\anaconda3\\envs\\tf\\lib\\site-packages (from tensorflow-intel==2.13.0->tensorflow) (0.4.0)\n",
      "Requirement already satisfied: google-pasta>=0.1.1 in c:\\users\\006816379\\appdata\\local\\anaconda3\\envs\\tf\\lib\\site-packages (from tensorflow-intel==2.13.0->tensorflow) (0.2.0)\n",
      "Requirement already satisfied: h5py>=2.9.0 in c:\\users\\006816379\\appdata\\local\\anaconda3\\envs\\tf\\lib\\site-packages (from tensorflow-intel==2.13.0->tensorflow) (3.11.0)\n",
      "Requirement already satisfied: libclang>=13.0.0 in c:\\users\\006816379\\appdata\\local\\anaconda3\\envs\\tf\\lib\\site-packages (from tensorflow-intel==2.13.0->tensorflow) (18.1.1)\n",
      "Requirement already satisfied: opt-einsum>=2.3.2 in c:\\users\\006816379\\appdata\\local\\anaconda3\\envs\\tf\\lib\\site-packages (from tensorflow-intel==2.13.0->tensorflow) (3.3.0)\n",
      "Requirement already satisfied: packaging in c:\\users\\006816379\\appdata\\local\\anaconda3\\envs\\tf\\lib\\site-packages (from tensorflow-intel==2.13.0->tensorflow) (24.1)\n",
      "Requirement already satisfied: protobuf!=4.21.0,!=4.21.1,!=4.21.2,!=4.21.3,!=4.21.4,!=4.21.5,<5.0.0dev,>=3.20.3 in c:\\users\\006816379\\appdata\\local\\anaconda3\\envs\\tf\\lib\\site-packages (from tensorflow-intel==2.13.0->tensorflow) (4.25.4)\n",
      "Requirement already satisfied: setuptools in c:\\users\\006816379\\appdata\\local\\anaconda3\\envs\\tf\\lib\\site-packages (from tensorflow-intel==2.13.0->tensorflow) (72.1.0)\n",
      "Requirement already satisfied: six>=1.12.0 in c:\\users\\006816379\\appdata\\local\\anaconda3\\envs\\tf\\lib\\site-packages (from tensorflow-intel==2.13.0->tensorflow) (1.16.0)\n",
      "Requirement already satisfied: termcolor>=1.1.0 in c:\\users\\006816379\\appdata\\local\\anaconda3\\envs\\tf\\lib\\site-packages (from tensorflow-intel==2.13.0->tensorflow) (2.4.0)\n",
      "Collecting typing-extensions<4.6.0,>=3.6.6 (from tensorflow-intel==2.13.0->tensorflow)\n",
      "  Using cached typing_extensions-4.5.0-py3-none-any.whl.metadata (8.5 kB)\n",
      "Requirement already satisfied: wrapt>=1.11.0 in c:\\users\\006816379\\appdata\\local\\anaconda3\\envs\\tf\\lib\\site-packages (from tensorflow-intel==2.13.0->tensorflow) (1.16.0)\n",
      "Requirement already satisfied: grpcio<2.0,>=1.24.3 in c:\\users\\006816379\\appdata\\local\\anaconda3\\envs\\tf\\lib\\site-packages (from tensorflow-intel==2.13.0->tensorflow) (1.66.1)\n",
      "Requirement already satisfied: tensorboard<2.14,>=2.13 in c:\\users\\006816379\\appdata\\local\\anaconda3\\envs\\tf\\lib\\site-packages (from tensorflow-intel==2.13.0->tensorflow) (2.13.0)\n",
      "Requirement already satisfied: tensorflow-estimator<2.14,>=2.13.0 in c:\\users\\006816379\\appdata\\local\\anaconda3\\envs\\tf\\lib\\site-packages (from tensorflow-intel==2.13.0->tensorflow) (2.13.0)\n",
      "Requirement already satisfied: keras<2.14,>=2.13.1 in c:\\users\\006816379\\appdata\\local\\anaconda3\\envs\\tf\\lib\\site-packages (from tensorflow-intel==2.13.0->tensorflow) (2.13.1)\n",
      "Requirement already satisfied: tensorflow-io-gcs-filesystem>=0.23.1 in c:\\users\\006816379\\appdata\\local\\anaconda3\\envs\\tf\\lib\\site-packages (from tensorflow-intel==2.13.0->tensorflow) (0.31.0)\n",
      "Requirement already satisfied: python-dateutil>=2.8.2 in c:\\users\\006816379\\appdata\\local\\anaconda3\\envs\\tf\\lib\\site-packages (from pandas) (2.9.0.post0)\n",
      "Requirement already satisfied: pytz>=2020.1 in c:\\users\\006816379\\appdata\\local\\anaconda3\\envs\\tf\\lib\\site-packages (from pandas) (2024.1)\n",
      "Requirement already satisfied: tzdata>=2022.1 in c:\\users\\006816379\\appdata\\local\\anaconda3\\envs\\tf\\lib\\site-packages (from pandas) (2024.2)\n",
      "Requirement already satisfied: joblib>=1.1.1 in c:\\users\\006816379\\appdata\\local\\anaconda3\\envs\\tf\\lib\\site-packages (from scikit-learn) (1.4.2)\n",
      "Requirement already satisfied: threadpoolctl>=2.0.0 in c:\\users\\006816379\\appdata\\local\\anaconda3\\envs\\tf\\lib\\site-packages (from scikit-learn) (3.5.0)\n",
      "Requirement already satisfied: astor>=0.8 in c:\\users\\006816379\\appdata\\local\\anaconda3\\envs\\tf\\lib\\site-packages (from formulaic>=0.2.2->lifelines) (0.8.1)\n",
      "Requirement already satisfied: graphlib-backport>=1.0.0 in c:\\users\\006816379\\appdata\\local\\anaconda3\\envs\\tf\\lib\\site-packages (from formulaic>=0.2.2->lifelines) (1.1.0)\n",
      "Requirement already satisfied: interface-meta>=1.2.0 in c:\\users\\006816379\\appdata\\local\\anaconda3\\envs\\tf\\lib\\site-packages (from formulaic>=0.2.2->lifelines) (1.3.0)\n",
      "Requirement already satisfied: contourpy>=1.0.1 in c:\\users\\006816379\\appdata\\local\\anaconda3\\envs\\tf\\lib\\site-packages (from matplotlib>=3.0->lifelines) (1.1.1)\n",
      "Requirement already satisfied: cycler>=0.10 in c:\\users\\006816379\\appdata\\local\\anaconda3\\envs\\tf\\lib\\site-packages (from matplotlib>=3.0->lifelines) (0.12.1)\n",
      "Requirement already satisfied: fonttools>=4.22.0 in c:\\users\\006816379\\appdata\\local\\anaconda3\\envs\\tf\\lib\\site-packages (from matplotlib>=3.0->lifelines) (4.53.1)\n",
      "Requirement already satisfied: kiwisolver>=1.0.1 in c:\\users\\006816379\\appdata\\local\\anaconda3\\envs\\tf\\lib\\site-packages (from matplotlib>=3.0->lifelines) (1.4.7)\n",
      "Requirement already satisfied: pillow>=6.2.0 in c:\\users\\006816379\\appdata\\local\\anaconda3\\envs\\tf\\lib\\site-packages (from matplotlib>=3.0->lifelines) (10.4.0)\n",
      "Requirement already satisfied: pyparsing>=2.3.1 in c:\\users\\006816379\\appdata\\local\\anaconda3\\envs\\tf\\lib\\site-packages (from matplotlib>=3.0->lifelines) (3.1.4)\n",
      "Requirement already satisfied: importlib-resources>=3.2.0 in c:\\users\\006816379\\appdata\\local\\anaconda3\\envs\\tf\\lib\\site-packages (from matplotlib>=3.0->lifelines) (6.4.0)\n",
      "Requirement already satisfied: wheel<1.0,>=0.23.0 in c:\\users\\006816379\\appdata\\local\\anaconda3\\envs\\tf\\lib\\site-packages (from astunparse>=1.6.0->tensorflow-intel==2.13.0->tensorflow) (0.43.0)\n",
      "Requirement already satisfied: zipp>=3.1.0 in c:\\users\\006816379\\appdata\\local\\anaconda3\\envs\\tf\\lib\\site-packages (from importlib-resources>=3.2.0->matplotlib>=3.0->lifelines) (3.17.0)\n",
      "Requirement already satisfied: google-auth<3,>=1.6.3 in c:\\users\\006816379\\appdata\\local\\anaconda3\\envs\\tf\\lib\\site-packages (from tensorboard<2.14,>=2.13->tensorflow-intel==2.13.0->tensorflow) (2.34.0)\n",
      "Requirement already satisfied: google-auth-oauthlib<1.1,>=0.5 in c:\\users\\006816379\\appdata\\local\\anaconda3\\envs\\tf\\lib\\site-packages (from tensorboard<2.14,>=2.13->tensorflow-intel==2.13.0->tensorflow) (1.0.0)\n",
      "Requirement already satisfied: markdown>=2.6.8 in c:\\users\\006816379\\appdata\\local\\anaconda3\\envs\\tf\\lib\\site-packages (from tensorboard<2.14,>=2.13->tensorflow-intel==2.13.0->tensorflow) (3.7)\n",
      "Requirement already satisfied: requests<3,>=2.21.0 in c:\\users\\006816379\\appdata\\local\\anaconda3\\envs\\tf\\lib\\site-packages (from tensorboard<2.14,>=2.13->tensorflow-intel==2.13.0->tensorflow) (2.32.3)\n",
      "Requirement already satisfied: tensorboard-data-server<0.8.0,>=0.7.0 in c:\\users\\006816379\\appdata\\local\\anaconda3\\envs\\tf\\lib\\site-packages (from tensorboard<2.14,>=2.13->tensorflow-intel==2.13.0->tensorflow) (0.7.2)\n",
      "Requirement already satisfied: werkzeug>=1.0.1 in c:\\users\\006816379\\appdata\\local\\anaconda3\\envs\\tf\\lib\\site-packages (from tensorboard<2.14,>=2.13->tensorflow-intel==2.13.0->tensorflow) (3.0.4)\n",
      "Requirement already satisfied: cachetools<6.0,>=2.0.0 in c:\\users\\006816379\\appdata\\local\\anaconda3\\envs\\tf\\lib\\site-packages (from google-auth<3,>=1.6.3->tensorboard<2.14,>=2.13->tensorflow-intel==2.13.0->tensorflow) (5.5.0)\n",
      "Requirement already satisfied: pyasn1-modules>=0.2.1 in c:\\users\\006816379\\appdata\\local\\anaconda3\\envs\\tf\\lib\\site-packages (from google-auth<3,>=1.6.3->tensorboard<2.14,>=2.13->tensorflow-intel==2.13.0->tensorflow) (0.4.0)\n",
      "Requirement already satisfied: rsa<5,>=3.1.4 in c:\\users\\006816379\\appdata\\local\\anaconda3\\envs\\tf\\lib\\site-packages (from google-auth<3,>=1.6.3->tensorboard<2.14,>=2.13->tensorflow-intel==2.13.0->tensorflow) (4.9)\n",
      "Requirement already satisfied: requests-oauthlib>=0.7.0 in c:\\users\\006816379\\appdata\\local\\anaconda3\\envs\\tf\\lib\\site-packages (from google-auth-oauthlib<1.1,>=0.5->tensorboard<2.14,>=2.13->tensorflow-intel==2.13.0->tensorflow) (2.0.0)\n",
      "Requirement already satisfied: importlib-metadata>=4.4 in c:\\users\\006816379\\appdata\\local\\anaconda3\\envs\\tf\\lib\\site-packages (from markdown>=2.6.8->tensorboard<2.14,>=2.13->tensorflow-intel==2.13.0->tensorflow) (7.0.1)\n",
      "Requirement already satisfied: charset-normalizer<4,>=2 in c:\\users\\006816379\\appdata\\local\\anaconda3\\envs\\tf\\lib\\site-packages (from requests<3,>=2.21.0->tensorboard<2.14,>=2.13->tensorflow-intel==2.13.0->tensorflow) (3.3.2)\n",
      "Requirement already satisfied: idna<4,>=2.5 in c:\\users\\006816379\\appdata\\local\\anaconda3\\envs\\tf\\lib\\site-packages (from requests<3,>=2.21.0->tensorboard<2.14,>=2.13->tensorflow-intel==2.13.0->tensorflow) (3.7)\n",
      "Requirement already satisfied: urllib3<3,>=1.21.1 in c:\\users\\006816379\\appdata\\local\\anaconda3\\envs\\tf\\lib\\site-packages (from requests<3,>=2.21.0->tensorboard<2.14,>=2.13->tensorflow-intel==2.13.0->tensorflow) (2.2.2)\n",
      "Requirement already satisfied: certifi>=2017.4.17 in c:\\users\\006816379\\appdata\\local\\anaconda3\\envs\\tf\\lib\\site-packages (from requests<3,>=2.21.0->tensorboard<2.14,>=2.13->tensorflow-intel==2.13.0->tensorflow) (2024.8.30)\n",
      "Requirement already satisfied: MarkupSafe>=2.1.1 in c:\\users\\006816379\\appdata\\local\\anaconda3\\envs\\tf\\lib\\site-packages (from werkzeug>=1.0.1->tensorboard<2.14,>=2.13->tensorflow-intel==2.13.0->tensorflow) (2.1.3)\n",
      "Requirement already satisfied: pyasn1<0.7.0,>=0.4.6 in c:\\users\\006816379\\appdata\\local\\anaconda3\\envs\\tf\\lib\\site-packages (from pyasn1-modules>=0.2.1->google-auth<3,>=1.6.3->tensorboard<2.14,>=2.13->tensorflow-intel==2.13.0->tensorflow) (0.6.0)\n",
      "Requirement already satisfied: oauthlib>=3.0.0 in c:\\users\\006816379\\appdata\\local\\anaconda3\\envs\\tf\\lib\\site-packages (from requests-oauthlib>=0.7.0->google-auth-oauthlib<1.1,>=0.5->tensorboard<2.14,>=2.13->tensorflow-intel==2.13.0->tensorflow) (3.2.2)\n",
      "Using cached typing_extensions-4.5.0-py3-none-any.whl (27 kB)\n",
      "Installing collected packages: typing-extensions\n",
      "  Attempting uninstall: typing-extensions\n",
      "    Found existing installation: typing_extensions 4.11.0\n",
      "    Uninstalling typing_extensions-4.11.0:\n",
      "      Successfully uninstalled typing_extensions-4.11.0\n",
      "Successfully installed typing-extensions-4.5.0\n",
      "Note: you may need to restart the kernel to use updated packages.\n"
     ]
    }
   ],
   "source": [
    "pip install lifelines tensorflow pandas scikit-learn"
   ]
  },
  {
   "cell_type": "markdown",
   "id": "0a0dbb48-861b-43e6-b8a0-3c7f4263a8c6",
   "metadata": {},
   "source": [
    "* In this example, we used the WHAS500 dataset from the sksurv library, which contains heart failure survival data.\n",
    "* The WHAS500 dataset, short for the Western Collaborative Group Study Heart Attack Study 500, is a dataset that contains information about 500 patients who were admitted to a hospital for a heart attack, with a focus on predicting survival time and analyzing factors related to cardiovascular health.\n",
    "\n",
    "* We built a Feedforward Neural Network for survival analysis, using Cox Proportional Hazards loss and evaluated the model using the concordance index.\n",
    "\n",
    "* The model was trained and evaluated using a custom survival loss function that accounts for censored data."
   ]
  },
  {
   "cell_type": "code",
   "execution_count": 42,
   "id": "d8ef96e1-6eab-48a6-9411-e6cd7f0187fc",
   "metadata": {},
   "outputs": [
    {
     "name": "stdout",
     "output_type": "stream",
     "text": [
      "dict_keys(['data', 'target', 'frame', 'target_names', 'DESCR', 'feature_names', 'filename', 'data_module'])\n"
     ]
    }
   ],
   "source": [
    "from sksurv.datasets import load_whas500\n",
    "import pandas as pd\n",
    "\n",
    "# Load the WHAS500 dataset\n",
    "data_x, data_y = load_whas500()\n",
    "\n",
    "print(data.keys())"
   ]
  },
  {
   "cell_type": "code",
   "execution_count": 44,
   "id": "461c0d5c-10c1-477c-89bd-8efabd6189bc",
   "metadata": {},
   "outputs": [
    {
     "data": {
      "text/html": [
       "<div>\n",
       "<style scoped>\n",
       "    .dataframe tbody tr th:only-of-type {\n",
       "        vertical-align: middle;\n",
       "    }\n",
       "\n",
       "    .dataframe tbody tr th {\n",
       "        vertical-align: top;\n",
       "    }\n",
       "\n",
       "    .dataframe thead th {\n",
       "        text-align: right;\n",
       "    }\n",
       "</style>\n",
       "<table border=\"1\" class=\"dataframe\">\n",
       "  <thead>\n",
       "    <tr style=\"text-align: right;\">\n",
       "      <th></th>\n",
       "      <th>afb</th>\n",
       "      <th>age</th>\n",
       "      <th>av3</th>\n",
       "      <th>bmi</th>\n",
       "      <th>chf</th>\n",
       "      <th>cvd</th>\n",
       "      <th>diasbp</th>\n",
       "      <th>gender</th>\n",
       "      <th>hr</th>\n",
       "      <th>los</th>\n",
       "      <th>miord</th>\n",
       "      <th>mitype</th>\n",
       "      <th>sho</th>\n",
       "      <th>sysbp</th>\n",
       "    </tr>\n",
       "  </thead>\n",
       "  <tbody>\n",
       "    <tr>\n",
       "      <th>0</th>\n",
       "      <td>1</td>\n",
       "      <td>83.0</td>\n",
       "      <td>0</td>\n",
       "      <td>25.54051</td>\n",
       "      <td>0</td>\n",
       "      <td>1</td>\n",
       "      <td>78.0</td>\n",
       "      <td>0</td>\n",
       "      <td>89.0</td>\n",
       "      <td>5.0</td>\n",
       "      <td>1</td>\n",
       "      <td>0</td>\n",
       "      <td>0</td>\n",
       "      <td>152.0</td>\n",
       "    </tr>\n",
       "    <tr>\n",
       "      <th>1</th>\n",
       "      <td>0</td>\n",
       "      <td>49.0</td>\n",
       "      <td>0</td>\n",
       "      <td>24.02398</td>\n",
       "      <td>0</td>\n",
       "      <td>1</td>\n",
       "      <td>60.0</td>\n",
       "      <td>0</td>\n",
       "      <td>84.0</td>\n",
       "      <td>5.0</td>\n",
       "      <td>0</td>\n",
       "      <td>1</td>\n",
       "      <td>0</td>\n",
       "      <td>120.0</td>\n",
       "    </tr>\n",
       "    <tr>\n",
       "      <th>2</th>\n",
       "      <td>0</td>\n",
       "      <td>70.0</td>\n",
       "      <td>0</td>\n",
       "      <td>22.14290</td>\n",
       "      <td>0</td>\n",
       "      <td>0</td>\n",
       "      <td>88.0</td>\n",
       "      <td>1</td>\n",
       "      <td>83.0</td>\n",
       "      <td>5.0</td>\n",
       "      <td>0</td>\n",
       "      <td>1</td>\n",
       "      <td>0</td>\n",
       "      <td>147.0</td>\n",
       "    </tr>\n",
       "    <tr>\n",
       "      <th>3</th>\n",
       "      <td>0</td>\n",
       "      <td>70.0</td>\n",
       "      <td>0</td>\n",
       "      <td>26.63187</td>\n",
       "      <td>1</td>\n",
       "      <td>1</td>\n",
       "      <td>76.0</td>\n",
       "      <td>0</td>\n",
       "      <td>65.0</td>\n",
       "      <td>10.0</td>\n",
       "      <td>0</td>\n",
       "      <td>1</td>\n",
       "      <td>0</td>\n",
       "      <td>123.0</td>\n",
       "    </tr>\n",
       "    <tr>\n",
       "      <th>4</th>\n",
       "      <td>0</td>\n",
       "      <td>70.0</td>\n",
       "      <td>0</td>\n",
       "      <td>24.41255</td>\n",
       "      <td>0</td>\n",
       "      <td>1</td>\n",
       "      <td>85.0</td>\n",
       "      <td>0</td>\n",
       "      <td>63.0</td>\n",
       "      <td>6.0</td>\n",
       "      <td>0</td>\n",
       "      <td>1</td>\n",
       "      <td>0</td>\n",
       "      <td>135.0</td>\n",
       "    </tr>\n",
       "  </tbody>\n",
       "</table>\n",
       "</div>"
      ],
      "text/plain": [
       "  afb   age av3       bmi chf cvd  diasbp gender    hr   los miord mitype sho  \\\n",
       "0   1  83.0   0  25.54051   0   1    78.0      0  89.0   5.0     1      0   0   \n",
       "1   0  49.0   0  24.02398   0   1    60.0      0  84.0   5.0     0      1   0   \n",
       "2   0  70.0   0  22.14290   0   0    88.0      1  83.0   5.0     0      1   0   \n",
       "3   0  70.0   0  26.63187   1   1    76.0      0  65.0  10.0     0      1   0   \n",
       "4   0  70.0   0  24.41255   0   1    85.0      0  63.0   6.0     0      1   0   \n",
       "\n",
       "   sysbp  \n",
       "0  152.0  \n",
       "1  120.0  \n",
       "2  147.0  \n",
       "3  123.0  \n",
       "4  135.0  "
      ]
     },
     "execution_count": 44,
     "metadata": {},
     "output_type": "execute_result"
    }
   ],
   "source": [
    "# Convert to DataFrame for easier manipulation\n",
    "df_x = pd.DataFrame(data_x)\n",
    "df_y = pd.DataFrame(data_y)\n",
    "\n",
    "df_x.head()"
   ]
  },
  {
   "cell_type": "code",
   "execution_count": 45,
   "id": "d3c51bca-ec67-427b-a6de-108150f83dba",
   "metadata": {},
   "outputs": [
    {
     "name": "stdout",
     "output_type": "stream",
     "text": [
      "Index(['fstat', 'lenfol'], dtype='object')\n"
     ]
    }
   ],
   "source": [
    "df_y.head()\n",
    "print(df_y.columns)\n",
    "\n",
    "## lenfol: Survival time (length of follow-up)\n",
    "## fstat: Censoring status (1 = event occurred, 0 = censored)"
   ]
  },
  {
   "cell_type": "code",
   "execution_count": 46,
   "id": "146bbd35-6aa9-4c3a-8d2c-5d8e06e5cb51",
   "metadata": {},
   "outputs": [
    {
     "name": "stdout",
     "output_type": "stream",
     "text": [
      "  afb   age av3       bmi chf cvd  diasbp gender    hr   los miord mitype sho  \\\n",
      "0   1  83.0   0  25.54051   0   1    78.0      0  89.0   5.0     1      0   0   \n",
      "1   0  49.0   0  24.02398   0   1    60.0      0  84.0   5.0     0      1   0   \n",
      "2   0  70.0   0  22.14290   0   0    88.0      1  83.0   5.0     0      1   0   \n",
      "3   0  70.0   0  26.63187   1   1    76.0      0  65.0  10.0     0      1   0   \n",
      "4   0  70.0   0  24.41255   0   1    85.0      0  63.0   6.0     0      1   0   \n",
      "\n",
      "   sysbp  \n",
      "0  152.0  \n",
      "1  120.0  \n",
      "2  147.0  \n",
      "3  123.0  \n",
      "4  135.0  \n",
      "     time  event\n",
      "0  2178.0  False\n",
      "1  2172.0  False\n",
      "2  2190.0  False\n",
      "3   297.0   True\n",
      "4  2131.0  False\n"
     ]
    }
   ],
   "source": [
    "# Combine time and event indicator with features\n",
    "df_y['time'] = df_y['lenfol']\n",
    "df_y['event'] = df_y['fstat']\n",
    "df_y = df_y[['time', 'event']]\n",
    "\n",
    "print(df_x.head())\n",
    "print(df_y.head())"
   ]
  },
  {
   "cell_type": "code",
   "execution_count": 47,
   "id": "58888ab7-78cb-4e0c-8c39-f1194ba547cc",
   "metadata": {},
   "outputs": [],
   "source": [
    "# Preprocess the Data\n",
    "from sklearn.model_selection import train_test_split\n",
    "from sklearn.preprocessing import StandardScaler\n",
    "\n",
    "# Split the dataset into training and testing sets\n",
    "X_train, X_test, y_train, y_test = train_test_split(df_x, df_y, test_size=0.2, random_state=42)\n",
    "\n",
    "# Normalize the features\n",
    "scaler = StandardScaler()\n",
    "X_train = scaler.fit_transform(X_train)\n",
    "X_test = scaler.transform(X_test)"
   ]
  },
  {
   "cell_type": "code",
   "execution_count": 163,
   "id": "f2f5dfd2-d8b6-43cb-bb18-b60b93c62c9f",
   "metadata": {},
   "outputs": [],
   "source": [
    "# define a simple FNN model for survival analysis using Cox Proportional Hazards loss.\n",
    "import tensorflow as tf\n",
    "from tensorflow.keras import layers, models\n",
    "\n",
    "# Custom Cox Proportional Hazards loss function\n",
    "# The goal is to calculate the negative partial log-likelihood of the Cox PH model,\n",
    "def cox_ph_loss(y_true, y_pred):\n",
    "    time = y_true[:, 0]  # The survival time of the event or censoring\n",
    "    event = y_true[:, 1]  # Event indicator of whether the event occurred (1) or was censored (0)\n",
    "    # y_pred: This contains the predicted risk scores for each individual. \n",
    "    # These scores represent the model's estimate of the hazard ratio (the higher the score, the higher the estimated risk of the event occurring).\n",
    "\n",
    "    # Sort the patients by increasing survival time\n",
    "    order = tf.argsort(time) # gives the indices that would sort the time tensor in ascending order.\n",
    "    time = tf.gather(time, order) \n",
    "    event = tf.gather(event, order)\n",
    "    y_pred = tf.gather(y_pred, order)\n",
    "    # reorders the time, event, and y_pred tensors according to the sorted order.\n",
    "    \n",
    "    # Calculate the risk score and cumulative risk\n",
    "    risk = tf.math.exp(y_pred) # risk score\n",
    "    cum_risk = tf.math.cumsum(risk[::-1])[::-1]  \n",
    "    # Calculate the cumulative risk in reverse order (over all individuals who have survived up until a certain point in time.)\n",
    "    log_likelihood = tf.reduce_sum(event * (y_pred - tf.math.log(cum_risk + 1e-9)))\n",
    "\n",
    "    return -log_likelihood # minimizing negative log-likelihood (same as maximizing log-likelihood)\n"
   ]
  },
  {
   "cell_type": "markdown",
   "id": "cacb2b78-8d42-4117-8da1-a4a282c2ab60",
   "metadata": {},
   "source": [
    "Example: \n",
    "\n",
    "* \r\n",
    "Imagine we have three individuals with risk scores of 2, 3, and 4, and their survival times are 10, 1 and 14 days, respectively:\n",
    "  - At time 10 (when the first event happens), the sum of all risk scores for individuals who are still at risk (those who have not yet experienced the event) is 2+3+4=9.\n",
    "\n",
    "  - A    At time 12, only two individuals (the ones with risk scores of 3 and 4) are still at risk, so the cumulative sum of their risk scores is 3\n",
    "\n",
    "  - \r\n",
    "    At time 14, only the last individual (with a risk score of 4) is still at risk, so the cumulative sum is 4."
   ]
  },
  {
   "cell_type": "code",
   "execution_count": 165,
   "id": "c9f7d455-a1e1-4ce6-adbe-2c48c1ee8212",
   "metadata": {},
   "outputs": [],
   "source": [
    "# Build the Feedforward Neural Network\n",
    "def build_survival_model(input_shape):\n",
    "    model = models.Sequential([\n",
    "        layers.Dense(64, activation='relu', input_shape=input_shape),\n",
    "        layers.Dense(32, activation='relu'),\n",
    "        layers.Dense(1, activation=None)  # Output layer with no activation for risk score prediction\n",
    "    ])\n",
    "    model.compile(optimizer='adam', loss=cox_ph_loss)\n",
    "    return model\n",
    "\n",
    "# Define the input shape and build the model\n",
    "input_shape = (X_train.shape[1],)\n",
    "model = build_survival_model(input_shape)"
   ]
  },
  {
   "cell_type": "code",
   "execution_count": 167,
   "id": "70f8764a-b7b6-4211-adbb-5b005945ed11",
   "metadata": {},
   "outputs": [],
   "source": [
    "# Prepare the Labels for Training\n",
    "# prepare the labels by combining the survival times and event indicators into a single array that can be passed to the model\n",
    "# Prepare the labels for the Cox PH loss function\n",
    "y_train_prepared = np.vstack([y_train['time'].values, y_train['event'].values]).T\n",
    "y_test_prepared = np.vstack([y_test['time'].values, y_test['event'].values]).T"
   ]
  },
  {
   "cell_type": "code",
   "execution_count": 168,
   "id": "f99892f4-3612-4d87-8973-0cf3037e78da",
   "metadata": {},
   "outputs": [
    {
     "name": "stdout",
     "output_type": "stream",
     "text": [
      "Epoch 1/50\n",
      "10/10 - 0s - loss: 1117.9031 - val_loss: 959.9046 - 386ms/epoch - 39ms/step\n",
      "Epoch 2/50\n",
      "10/10 - 0s - loss: 1095.1929 - val_loss: 957.3768 - 20ms/epoch - 2ms/step\n",
      "Epoch 3/50\n",
      "10/10 - 0s - loss: 1080.2302 - val_loss: 965.0781 - 20ms/epoch - 2ms/step\n",
      "Epoch 4/50\n",
      "10/10 - 0s - loss: 1063.6029 - val_loss: 971.7464 - 20ms/epoch - 2ms/step\n",
      "Epoch 5/50\n",
      "10/10 - 0s - loss: 1055.7526 - val_loss: 978.1760 - 18ms/epoch - 2ms/step\n",
      "Epoch 6/50\n",
      "10/10 - 0s - loss: 1052.8336 - val_loss: 981.3504 - 19ms/epoch - 2ms/step\n",
      "Epoch 7/50\n",
      "10/10 - 0s - loss: 1041.9797 - val_loss: 985.8730 - 19ms/epoch - 2ms/step\n",
      "Epoch 8/50\n",
      "10/10 - 0s - loss: 1041.5293 - val_loss: 990.4567 - 18ms/epoch - 2ms/step\n",
      "Epoch 9/50\n",
      "10/10 - 0s - loss: 1035.5399 - val_loss: 996.8295 - 21ms/epoch - 2ms/step\n",
      "Epoch 10/50\n",
      "10/10 - 0s - loss: 1029.1992 - val_loss: 1005.1849 - 18ms/epoch - 2ms/step\n",
      "Epoch 11/50\n",
      "10/10 - 0s - loss: 1031.2048 - val_loss: 1005.3765 - 18ms/epoch - 2ms/step\n",
      "Epoch 12/50\n",
      "10/10 - 0s - loss: 1029.5530 - val_loss: 1002.3066 - 18ms/epoch - 2ms/step\n",
      "Epoch 13/50\n",
      "10/10 - 0s - loss: 1017.2678 - val_loss: 1003.5823 - 19ms/epoch - 2ms/step\n",
      "Epoch 14/50\n",
      "10/10 - 0s - loss: 1011.7802 - val_loss: 1009.7983 - 17ms/epoch - 2ms/step\n",
      "Epoch 15/50\n",
      "10/10 - 0s - loss: 1008.7518 - val_loss: 1015.6709 - 18ms/epoch - 2ms/step\n",
      "Epoch 16/50\n",
      "10/10 - 0s - loss: 1005.5015 - val_loss: 1020.1720 - 18ms/epoch - 2ms/step\n",
      "Epoch 17/50\n",
      "10/10 - 0s - loss: 1007.1149 - val_loss: 1022.8391 - 17ms/epoch - 2ms/step\n",
      "Epoch 18/50\n",
      "10/10 - 0s - loss: 998.5269 - val_loss: 1026.5327 - 18ms/epoch - 2ms/step\n",
      "Epoch 19/50\n",
      "10/10 - 0s - loss: 999.8676 - val_loss: 1026.0752 - 18ms/epoch - 2ms/step\n",
      "Epoch 20/50\n",
      "10/10 - 0s - loss: 987.5804 - val_loss: 1032.5413 - 18ms/epoch - 2ms/step\n",
      "Epoch 21/50\n",
      "10/10 - 0s - loss: 989.0513 - val_loss: 1040.4249 - 18ms/epoch - 2ms/step\n",
      "Epoch 22/50\n",
      "10/10 - 0s - loss: 991.0120 - val_loss: 1041.0393 - 17ms/epoch - 2ms/step\n",
      "Epoch 23/50\n",
      "10/10 - 0s - loss: 982.4582 - val_loss: 1033.3308 - 17ms/epoch - 2ms/step\n",
      "Epoch 24/50\n",
      "10/10 - 0s - loss: 975.3778 - val_loss: 1043.8990 - 17ms/epoch - 2ms/step\n",
      "Epoch 25/50\n",
      "10/10 - 0s - loss: 976.1418 - val_loss: 1049.0652 - 20ms/epoch - 2ms/step\n",
      "Epoch 26/50\n",
      "10/10 - 0s - loss: 968.2596 - val_loss: 1062.4015 - 17ms/epoch - 2ms/step\n",
      "Epoch 27/50\n",
      "10/10 - 0s - loss: 967.2254 - val_loss: 1055.8254 - 17ms/epoch - 2ms/step\n",
      "Epoch 28/50\n",
      "10/10 - 0s - loss: 971.4489 - val_loss: 1042.4336 - 18ms/epoch - 2ms/step\n",
      "Epoch 29/50\n",
      "10/10 - 0s - loss: 968.1883 - val_loss: 1046.4009 - 18ms/epoch - 2ms/step\n",
      "Epoch 30/50\n",
      "10/10 - 0s - loss: 973.4623 - val_loss: 1053.4080 - 18ms/epoch - 2ms/step\n",
      "Epoch 31/50\n",
      "10/10 - 0s - loss: 965.5126 - val_loss: 1059.7590 - 18ms/epoch - 2ms/step\n",
      "Epoch 32/50\n",
      "10/10 - 0s - loss: 964.0386 - val_loss: 1055.2504 - 19ms/epoch - 2ms/step\n",
      "Epoch 33/50\n",
      "10/10 - 0s - loss: 960.2674 - val_loss: 1058.3750 - 19ms/epoch - 2ms/step\n",
      "Epoch 34/50\n",
      "10/10 - 0s - loss: 955.0389 - val_loss: 1072.5383 - 19ms/epoch - 2ms/step\n",
      "Epoch 35/50\n",
      "10/10 - 0s - loss: 967.3175 - val_loss: 1058.5850 - 20ms/epoch - 2ms/step\n",
      "Epoch 36/50\n",
      "10/10 - 0s - loss: 952.6266 - val_loss: 1057.1117 - 19ms/epoch - 2ms/step\n",
      "Epoch 37/50\n",
      "10/10 - 0s - loss: 953.0591 - val_loss: 1076.5415 - 18ms/epoch - 2ms/step\n",
      "Epoch 38/50\n",
      "10/10 - 0s - loss: 939.0729 - val_loss: 1094.4023 - 19ms/epoch - 2ms/step\n",
      "Epoch 39/50\n",
      "10/10 - 0s - loss: 934.7328 - val_loss: 1091.2405 - 18ms/epoch - 2ms/step\n",
      "Epoch 40/50\n",
      "10/10 - 0s - loss: 935.8014 - val_loss: 1095.7294 - 25ms/epoch - 2ms/step\n",
      "Epoch 41/50\n",
      "10/10 - 0s - loss: 935.9836 - val_loss: 1111.6614 - 26ms/epoch - 3ms/step\n",
      "Epoch 42/50\n",
      "10/10 - 0s - loss: 938.2674 - val_loss: 1099.3323 - 21ms/epoch - 2ms/step\n",
      "Epoch 43/50\n",
      "10/10 - 0s - loss: 922.1992 - val_loss: 1087.3066 - 18ms/epoch - 2ms/step\n",
      "Epoch 44/50\n",
      "10/10 - 0s - loss: 922.6437 - val_loss: 1108.9675 - 18ms/epoch - 2ms/step\n",
      "Epoch 45/50\n",
      "10/10 - 0s - loss: 925.5231 - val_loss: 1120.0734 - 19ms/epoch - 2ms/step\n",
      "Epoch 46/50\n",
      "10/10 - 0s - loss: 922.7155 - val_loss: 1120.1096 - 18ms/epoch - 2ms/step\n",
      "Epoch 47/50\n",
      "10/10 - 0s - loss: 905.2686 - val_loss: 1130.9531 - 18ms/epoch - 2ms/step\n",
      "Epoch 48/50\n",
      "10/10 - 0s - loss: 916.5299 - val_loss: 1121.9662 - 18ms/epoch - 2ms/step\n",
      "Epoch 49/50\n",
      "10/10 - 0s - loss: 910.7396 - val_loss: 1142.2966 - 18ms/epoch - 2ms/step\n",
      "Epoch 50/50\n",
      "10/10 - 0s - loss: 924.7656 - val_loss: 1151.7891 - 19ms/epoch - 2ms/step\n"
     ]
    }
   ],
   "source": [
    "## Train the neural network model\n",
    "history = model.fit(X_train, y_train_prepared, epochs=50, batch_size=32, validation_split=0.2, verbose=2)\n"
   ]
  },
  {
   "cell_type": "code",
   "execution_count": 170,
   "id": "b067e803-db17-460d-8058-5a584ef5726a",
   "metadata": {},
   "outputs": [
    {
     "name": "stdout",
     "output_type": "stream",
     "text": [
      "4/4 [==============================] - 0s 1000us/step\n",
      "Concordance Index: 0.3505572441742654\n"
     ]
    }
   ],
   "source": [
    "# Evaluate the model using the concordance index, which measures the predictive acccuracy of survival models\n",
    "from sksurv.metrics import concordance_index_censored\n",
    "\n",
    "# Predict risk scores for the test data\n",
    "risk_scores = model.predict(X_test)\n",
    "\n",
    "# Calculate the concordance index to evaluate the model's performance\n",
    "c_index = concordance_index_censored(y_test['event'], y_test['time'], -risk_scores.flatten())\n",
    "print(f\"Concordance Index: {c_index[0]}\")\n"
   ]
  },
  {
   "cell_type": "code",
   "execution_count": 171,
   "id": "5392f61a-d8ae-4987-821c-ac4ee18e5f12",
   "metadata": {},
   "outputs": [
    {
     "data": {
      "image/png": "[encoded data removed]",
      "text/plain": [
       "<Figure size 640x480 with 1 Axes>"
      ]
     },
     "metadata": {},
     "output_type": "display_data"
    }
   ],
   "source": [
    "# visualize the training and validation loss\n",
    "# Plot the training and validation loss\n",
    "plt.plot(history.history['loss'], label='Training Loss')\n",
    "plt.plot(history.history['val_loss'], label='Validation Loss')\n",
    "plt.title('Training and Validation Loss for WHAS500 Survival Analysis')\n",
    "plt.xlabel('Epochs')\n",
    "plt.ylabel('Loss')\n",
    "plt.legend()\n",
    "plt.show()"
   ]
  },
  {
   "cell_type": "code",
   "execution_count": 181,
   "id": "b09238cc-d419-4bd6-828a-540c5323b0d6",
   "metadata": {},
   "outputs": [
    {
     "ename": "AttributeError",
     "evalue": "module 'importlib.resources' has no attribute 'files'",
     "output_type": "error",
     "traceback": [
      "\u001b[1;31m---------------------------------------------------------------------------\u001b[0m",
      "\u001b[1;31mAttributeError\u001b[0m                            Traceback (most recent call last)",
      "Cell \u001b[1;32mIn[181], line 5\u001b[0m\n\u001b[0;32m      2\u001b[0m \u001b[38;5;28;01mfrom\u001b[39;00m \u001b[38;5;21;01mlifelines\u001b[39;00m\u001b[38;5;21;01m.\u001b[39;00m\u001b[38;5;21;01mdatasets\u001b[39;00m \u001b[38;5;28;01mimport\u001b[39;00m load_rossi\n\u001b[0;32m      4\u001b[0m \u001b[38;5;66;03m# Load the Rotterdam Tumor Recurrence dataset\u001b[39;00m\n\u001b[1;32m----> 5\u001b[0m data_x, data_y \u001b[38;5;241m=\u001b[39m \u001b[43mload_rossi\u001b[49m\u001b[43m(\u001b[49m\u001b[43m)\u001b[49m\n\u001b[0;32m      7\u001b[0m \u001b[38;5;66;03m# Show the first few rows of the dataset\u001b[39;00m\n\u001b[0;32m      8\u001b[0m \u001b[38;5;28mprint\u001b[39m(data\u001b[38;5;241m.\u001b[39mhead())\n",
      "File \u001b[1;32m~\\AppData\\Local\\anaconda3\\envs\\TF\\lib\\site-packages\\lifelines\\datasets\\__init__.py:358\u001b[0m, in \u001b[0;36mload_rossi\u001b[1;34m(**kwargs)\u001b[0m\n\u001b[0;32m    336\u001b[0m \u001b[38;5;28;01mdef\u001b[39;00m \u001b[38;5;21mload_rossi\u001b[39m(\u001b[38;5;241m*\u001b[39m\u001b[38;5;241m*\u001b[39mkwargs):\n\u001b[0;32m    337\u001b[0m \u001b[38;5;250m    \u001b[39m\u001b[38;5;124;03m\"\"\"\u001b[39;00m\n\u001b[0;32m    338\u001b[0m \u001b[38;5;124;03m    This data set is originally from Rossi et al. (1980), and is used as an example in Allison (1995). The data pertain to 432 convicts who were released from Maryland state prisons in the 1970s and who were followed up for one year after release. Half the released convicts were assigned at random to an experimental treatment in which they were given financial aid; half did not receive aid.::\u001b[39;00m\n\u001b[0;32m    339\u001b[0m \n\u001b[1;32m   (...)\u001b[0m\n\u001b[0;32m    356\u001b[0m \n\u001b[0;32m    357\u001b[0m \u001b[38;5;124;03m    \"\"\"\u001b[39;00m\n\u001b[1;32m--> 358\u001b[0m     \u001b[38;5;28;01mreturn\u001b[39;00m \u001b[43m_load_dataset\u001b[49m\u001b[43m(\u001b[49m\u001b[38;5;124;43m\"\u001b[39;49m\u001b[38;5;124;43mrossi.csv\u001b[39;49m\u001b[38;5;124;43m\"\u001b[39;49m\u001b[43m,\u001b[49m\u001b[43m \u001b[49m\u001b[38;5;241;43m*\u001b[39;49m\u001b[38;5;241;43m*\u001b[39;49m\u001b[43mkwargs\u001b[49m\u001b[43m)\u001b[49m\n",
      "File \u001b[1;32m~\\AppData\\Local\\anaconda3\\envs\\TF\\lib\\site-packages\\lifelines\\datasets\\__init__.py:21\u001b[0m, in \u001b[0;36m_load_dataset\u001b[1;34m(filename, **kwargs)\u001b[0m\n\u001b[0;32m      6\u001b[0m \u001b[38;5;28;01mdef\u001b[39;00m \u001b[38;5;21m_load_dataset\u001b[39m(filename, \u001b[38;5;241m*\u001b[39m\u001b[38;5;241m*\u001b[39mkwargs):\n\u001b[0;32m      7\u001b[0m \u001b[38;5;250m    \u001b[39m\u001b[38;5;124;03m\"\"\"\u001b[39;00m\n\u001b[0;32m      8\u001b[0m \u001b[38;5;124;03m    Load a dataset from lifelines.datasets\u001b[39;00m\n\u001b[0;32m      9\u001b[0m \n\u001b[1;32m   (...)\u001b[0m\n\u001b[0;32m     19\u001b[0m \u001b[38;5;124;03m        output: DataFrame\u001b[39;00m\n\u001b[0;32m     20\u001b[0m \u001b[38;5;124;03m    \"\"\"\u001b[39;00m\n\u001b[1;32m---> 21\u001b[0m     \u001b[38;5;28;01mreturn\u001b[39;00m pd\u001b[38;5;241m.\u001b[39mread_csv(\u001b[43mresources\u001b[49m\u001b[38;5;241;43m.\u001b[39;49m\u001b[43mfiles\u001b[49m(\u001b[38;5;124m\"\u001b[39m\u001b[38;5;124mlifelines\u001b[39m\u001b[38;5;124m\"\u001b[39m) \u001b[38;5;241m/\u001b[39m \u001b[38;5;124m\"\u001b[39m\u001b[38;5;124mdatasets\u001b[39m\u001b[38;5;124m\"\u001b[39m \u001b[38;5;241m/\u001b[39m filename, engine\u001b[38;5;241m=\u001b[39m\u001b[38;5;124m\"\u001b[39m\u001b[38;5;124mpython\u001b[39m\u001b[38;5;124m\"\u001b[39m, \u001b[38;5;241m*\u001b[39m\u001b[38;5;241m*\u001b[39mkwargs)\n",
      "\u001b[1;31mAttributeError\u001b[0m: module 'importlib.resources' has no attribute 'files'"
     ]
    }
   ],
   "source": [
    "import pandas as pd\n",
    "from lifelines.datasets import load_rossi\n",
    "\n",
    "# Load the Rotterdam Tumor Recurrence dataset\n",
    "data = load_rossi()\n",
    "\n",
    "# Show the first few rows of the dataset\n",
    "print(data.head())\n"
   ]
  },
  {
   "cell_type": "code",
   "execution_count": null,
   "id": "bd70d4bc-6672-47a3-887d-0e74ad88b99f",
   "metadata": {},
   "outputs": [],
   "source": []
  },
  {
   "cell_type": "code",
   "execution_count": null,
   "id": "3759d833-95b4-4008-9a1a-5ae19eb8e587",
   "metadata": {},
   "outputs": [],
   "source": []
  },
  {
   "cell_type": "code",
   "execution_count": null,
   "id": "14050995-12be-4c7b-9439-bb9b6fc37c1e",
   "metadata": {},
   "outputs": [],
   "source": []
  },
  {
   "cell_type": "code",
   "execution_count": null,
   "id": "4fa892db-2e79-490e-8807-b7762dd11418",
   "metadata": {},
   "outputs": [],
   "source": []
  },
  {
   "cell_type": "code",
   "execution_count": null,
   "id": "5e65b9f8-b388-4388-bc79-fe906c2a4b2e",
   "metadata": {},
   "outputs": [],
   "source": []
  },
  {
   "cell_type": "markdown",
   "id": "8981b119-c1be-4bea-bf9b-5eac9daa92cf",
   "metadata": {},
   "source": [
    "# HW #7"
   ]
  },
  {
   "cell_type": "code",
   "execution_count": 1,
   "id": "b7f6f98f-30e9-4d87-80cc-aee183c2e144",
   "metadata": {},
   "outputs": [],
   "source": [
    "import numpy as np\n",
    "import pandas as pd\n",
    "from sklearn.model_selection import train_test_split\n",
    "from sklearn.preprocessing import LabelBinarizer\n",
    "from sklearn.datasets import load_iris\n",
    "from keras.models import Sequential\n",
    "from keras.layers import Dense\n",
    "from keras.optimizers import Adam\n",
    "from keras.utils import to_categorical\n",
    "\n",
    "# Load the Iris dataset\n",
    "iris = load_iris()\n",
    "X = iris.data  # Features (sepal length, sepal width, petal length, petal width)\n",
    "y = iris.target  # Target labels"
   ]
  },
  {
   "cell_type": "code",
   "execution_count": 2,
   "id": "7211487d-7015-4faa-9269-4f594644291f",
   "metadata": {},
   "outputs": [],
   "source": [
    "# Convert the target to binary (1 for 'setosa', 0 for others)\n",
    "y_binary = np.where(y == 0, 1, 0)\n",
    "\n",
    "# Split the dataset into training and validation sets (80% training, 20% validation)\n",
    "X_train, X_val, y_train, y_val = train_test_split(X, y_binary, test_size=0.2, random_state=42)\n"
   ]
  },
  {
   "cell_type": "code",
   "execution_count": 3,
   "id": "b5859579-1683-4418-9166-4c4d4c9c0cfc",
   "metadata": {},
   "outputs": [],
   "source": [
    "model = Sequential()\n",
    "model.add(Dense(64, activation='relu', input_shape=(4,)))  # Input layer (4 features)\n",
    "model.add(Dense(64, activation='relu'))  # Hidden layer 1\n",
    "model.add(Dense(1, activation='sigmoid'))  # Output layer (binary classification)\n",
    "\n",
    "# Compile the model\n",
    "model.compile(optimizer=Adam(), loss='binary_crossentropy', metrics=['accuracy'])"
   ]
  },
  {
   "cell_type": "code",
   "execution_count": 4,
   "id": "17258fe2-f862-44df-843c-67104e8208ad",
   "metadata": {},
   "outputs": [
    {
     "name": "stdout",
     "output_type": "stream",
     "text": [
      "Epoch 1/50\n",
      "12/12 [==============================] - 0s 9ms/step - loss: 0.5680 - accuracy: 0.6667 - val_loss: 0.4649 - val_accuracy: 0.6667\n",
      "Epoch 2/50\n",
      "12/12 [==============================] - 0s 2ms/step - loss: 0.4190 - accuracy: 0.7500 - val_loss: 0.3515 - val_accuracy: 0.9000\n",
      "Epoch 3/50\n",
      "12/12 [==============================] - 0s 2ms/step - loss: 0.3060 - accuracy: 0.9917 - val_loss: 0.2501 - val_accuracy: 1.0000\n",
      "Epoch 4/50\n",
      "12/12 [==============================] - 0s 2ms/step - loss: 0.2093 - accuracy: 1.0000 - val_loss: 0.1645 - val_accuracy: 1.0000\n",
      "Epoch 5/50\n",
      "12/12 [==============================] - 0s 2ms/step - loss: 0.1355 - accuracy: 1.0000 - val_loss: 0.1040 - val_accuracy: 1.0000\n",
      "Epoch 6/50\n",
      "12/12 [==============================] - 0s 2ms/step - loss: 0.0883 - accuracy: 1.0000 - val_loss: 0.0717 - val_accuracy: 1.0000\n",
      "Epoch 7/50\n",
      "12/12 [==============================] - 0s 2ms/step - loss: 0.0618 - accuracy: 1.0000 - val_loss: 0.0496 - val_accuracy: 1.0000\n",
      "Epoch 8/50\n",
      "12/12 [==============================] - 0s 2ms/step - loss: 0.0439 - accuracy: 1.0000 - val_loss: 0.0373 - val_accuracy: 1.0000\n",
      "Epoch 9/50\n",
      "12/12 [==============================] - 0s 2ms/step - loss: 0.0332 - accuracy: 1.0000 - val_loss: 0.0284 - val_accuracy: 1.0000\n",
      "Epoch 10/50\n",
      "12/12 [==============================] - 0s 2ms/step - loss: 0.0257 - accuracy: 1.0000 - val_loss: 0.0224 - val_accuracy: 1.0000\n",
      "Epoch 11/50\n",
      "12/12 [==============================] - 0s 2ms/step - loss: 0.0208 - accuracy: 1.0000 - val_loss: 0.0180 - val_accuracy: 1.0000\n",
      "Epoch 12/50\n",
      "12/12 [==============================] - 0s 2ms/step - loss: 0.0172 - accuracy: 1.0000 - val_loss: 0.0153 - val_accuracy: 1.0000\n",
      "Epoch 13/50\n",
      "12/12 [==============================] - 0s 2ms/step - loss: 0.0144 - accuracy: 1.0000 - val_loss: 0.0129 - val_accuracy: 1.0000\n",
      "Epoch 14/50\n",
      "12/12 [==============================] - 0s 2ms/step - loss: 0.0123 - accuracy: 1.0000 - val_loss: 0.0110 - val_accuracy: 1.0000\n",
      "Epoch 15/50\n",
      "12/12 [==============================] - 0s 2ms/step - loss: 0.0107 - accuracy: 1.0000 - val_loss: 0.0092 - val_accuracy: 1.0000\n",
      "Epoch 16/50\n",
      "12/12 [==============================] - 0s 2ms/step - loss: 0.0093 - accuracy: 1.0000 - val_loss: 0.0082 - val_accuracy: 1.0000\n",
      "Epoch 17/50\n",
      "12/12 [==============================] - 0s 2ms/step - loss: 0.0082 - accuracy: 1.0000 - val_loss: 0.0074 - val_accuracy: 1.0000\n",
      "Epoch 18/50\n",
      "12/12 [==============================] - 0s 2ms/step - loss: 0.0073 - accuracy: 1.0000 - val_loss: 0.0066 - val_accuracy: 1.0000\n",
      "Epoch 19/50\n",
      "12/12 [==============================] - 0s 2ms/step - loss: 0.0066 - accuracy: 1.0000 - val_loss: 0.0058 - val_accuracy: 1.0000\n",
      "Epoch 20/50\n",
      "12/12 [==============================] - 0s 2ms/step - loss: 0.0059 - accuracy: 1.0000 - val_loss: 0.0052 - val_accuracy: 1.0000\n",
      "Epoch 21/50\n",
      "12/12 [==============================] - 0s 2ms/step - loss: 0.0053 - accuracy: 1.0000 - val_loss: 0.0047 - val_accuracy: 1.0000\n",
      "Epoch 22/50\n",
      "12/12 [==============================] - 0s 2ms/step - loss: 0.0049 - accuracy: 1.0000 - val_loss: 0.0043 - val_accuracy: 1.0000\n",
      "Epoch 23/50\n",
      "12/12 [==============================] - 0s 2ms/step - loss: 0.0045 - accuracy: 1.0000 - val_loss: 0.0040 - val_accuracy: 1.0000\n",
      "Epoch 24/50\n",
      "12/12 [==============================] - 0s 2ms/step - loss: 0.0041 - accuracy: 1.0000 - val_loss: 0.0036 - val_accuracy: 1.0000\n",
      "Epoch 25/50\n",
      "12/12 [==============================] - 0s 2ms/step - loss: 0.0038 - accuracy: 1.0000 - val_loss: 0.0033 - val_accuracy: 1.0000\n",
      "Epoch 26/50\n",
      "12/12 [==============================] - 0s 2ms/step - loss: 0.0036 - accuracy: 1.0000 - val_loss: 0.0031 - val_accuracy: 1.0000\n",
      "Epoch 27/50\n",
      "12/12 [==============================] - 0s 2ms/step - loss: 0.0032 - accuracy: 1.0000 - val_loss: 0.0029 - val_accuracy: 1.0000\n",
      "Epoch 28/50\n",
      "12/12 [==============================] - 0s 2ms/step - loss: 0.0031 - accuracy: 1.0000 - val_loss: 0.0026 - val_accuracy: 1.0000\n",
      "Epoch 29/50\n",
      "12/12 [==============================] - 0s 2ms/step - loss: 0.0029 - accuracy: 1.0000 - val_loss: 0.0025 - val_accuracy: 1.0000\n",
      "Epoch 30/50\n",
      "12/12 [==============================] - 0s 2ms/step - loss: 0.0027 - accuracy: 1.0000 - val_loss: 0.0023 - val_accuracy: 1.0000\n",
      "Epoch 31/50\n",
      "12/12 [==============================] - 0s 2ms/step - loss: 0.0025 - accuracy: 1.0000 - val_loss: 0.0021 - val_accuracy: 1.0000\n",
      "Epoch 32/50\n",
      "12/12 [==============================] - 0s 2ms/step - loss: 0.0024 - accuracy: 1.0000 - val_loss: 0.0020 - val_accuracy: 1.0000\n",
      "Epoch 33/50\n",
      "12/12 [==============================] - 0s 2ms/step - loss: 0.0022 - accuracy: 1.0000 - val_loss: 0.0019 - val_accuracy: 1.0000\n",
      "Epoch 34/50\n",
      "12/12 [==============================] - 0s 2ms/step - loss: 0.0021 - accuracy: 1.0000 - val_loss: 0.0018 - val_accuracy: 1.0000\n",
      "Epoch 35/50\n",
      "12/12 [==============================] - 0s 2ms/step - loss: 0.0020 - accuracy: 1.0000 - val_loss: 0.0017 - val_accuracy: 1.0000\n",
      "Epoch 36/50\n",
      "12/12 [==============================] - 0s 2ms/step - loss: 0.0019 - accuracy: 1.0000 - val_loss: 0.0016 - val_accuracy: 1.0000\n",
      "Epoch 37/50\n",
      "12/12 [==============================] - 0s 2ms/step - loss: 0.0018 - accuracy: 1.0000 - val_loss: 0.0015 - val_accuracy: 1.0000\n",
      "Epoch 38/50\n",
      "12/12 [==============================] - 0s 2ms/step - loss: 0.0017 - accuracy: 1.0000 - val_loss: 0.0014 - val_accuracy: 1.0000\n",
      "Epoch 39/50\n",
      "12/12 [==============================] - 0s 2ms/step - loss: 0.0016 - accuracy: 1.0000 - val_loss: 0.0013 - val_accuracy: 1.0000\n",
      "Epoch 40/50\n",
      "12/12 [==============================] - 0s 2ms/step - loss: 0.0016 - accuracy: 1.0000 - val_loss: 0.0013 - val_accuracy: 1.0000\n",
      "Epoch 41/50\n",
      "12/12 [==============================] - 0s 2ms/step - loss: 0.0015 - accuracy: 1.0000 - val_loss: 0.0012 - val_accuracy: 1.0000\n",
      "Epoch 42/50\n",
      "12/12 [==============================] - 0s 2ms/step - loss: 0.0014 - accuracy: 1.0000 - val_loss: 0.0011 - val_accuracy: 1.0000\n",
      "Epoch 43/50\n",
      "12/12 [==============================] - 0s 2ms/step - loss: 0.0013 - accuracy: 1.0000 - val_loss: 0.0011 - val_accuracy: 1.0000\n",
      "Epoch 44/50\n",
      "12/12 [==============================] - 0s 2ms/step - loss: 0.0013 - accuracy: 1.0000 - val_loss: 0.0010 - val_accuracy: 1.0000\n",
      "Epoch 45/50\n",
      "12/12 [==============================] - 0s 2ms/step - loss: 0.0012 - accuracy: 1.0000 - val_loss: 9.9791e-04 - val_accuracy: 1.0000\n",
      "Epoch 46/50\n",
      "12/12 [==============================] - 0s 2ms/step - loss: 0.0012 - accuracy: 1.0000 - val_loss: 9.4333e-04 - val_accuracy: 1.0000\n",
      "Epoch 47/50\n",
      "12/12 [==============================] - 0s 2ms/step - loss: 0.0011 - accuracy: 1.0000 - val_loss: 9.0111e-04 - val_accuracy: 1.0000\n",
      "Epoch 48/50\n",
      "12/12 [==============================] - 0s 2ms/step - loss: 0.0011 - accuracy: 1.0000 - val_loss: 8.8254e-04 - val_accuracy: 1.0000\n",
      "Epoch 49/50\n",
      "12/12 [==============================] - 0s 2ms/step - loss: 0.0010 - accuracy: 1.0000 - val_loss: 8.3974e-04 - val_accuracy: 1.0000\n",
      "Epoch 50/50\n",
      "12/12 [==============================] - 0s 2ms/step - loss: 9.9467e-04 - accuracy: 1.0000 - val_loss: 8.0264e-04 - val_accuracy: 1.0000\n"
     ]
    }
   ],
   "source": [
    "# Train the model\n",
    "history = model.fit(X_train, y_train, epochs=50, batch_size=10, validation_data=(X_val, y_val))"
   ]
  },
  {
   "cell_type": "code",
   "execution_count": 5,
   "id": "2b2168b9-eb63-469c-a930-6064bec7f995",
   "metadata": {},
   "outputs": [
    {
     "name": "stdout",
     "output_type": "stream",
     "text": [
      "1/1 [==============================] - 0s 48ms/step - loss: 8.0264e-04 - accuracy: 1.0000\n",
      "Validation Accuracy: 100.00%\n"
     ]
    },
    {
     "data": {
      "image/png": "[encoded data removed]",
      "text/plain": [
       "<Figure size 640x480 with 1 Axes>"
      ]
     },
     "metadata": {},
     "output_type": "display_data"
    }
   ],
   "source": [
    "import matplotlib.pyplot as plt\n",
    "\n",
    "# Evaluate the model on the validation data\n",
    "val_loss, val_accuracy = model.evaluate(X_val, y_val)\n",
    "print(f\"Validation Accuracy: {val_accuracy * 100:.2f}%\")\n",
    "\n",
    "# Plot the training and validation loss over epochs\n",
    "history_dict = history.history\n",
    "\n",
    "loss_values = history_dict['loss']\n",
    "val_loss_values = history_dict['val_loss']\n",
    "\n",
    "epochs = range(1, len(loss_values) + 1)\n",
    "\n",
    "plt.plot(epochs, loss_values, 'bo', label='Training loss')  # 'bo' is for blue dot\n",
    "plt.plot(epochs, val_loss_values, 'b', label='Validation loss')  # 'b' is for solid blue line\n",
    "plt.title('Training and validation loss')\n",
    "plt.xlabel('Epochs')\n",
    "plt.ylabel('Loss')\n",
    "plt.legend()\n",
    "\n",
    "plt.show()"
   ]
  },
  {
   "cell_type": "code",
   "execution_count": 1,
   "id": "d941caa2-2449-49be-8427-78c25ab9ee96",
   "metadata": {},
   "outputs": [
    {
     "name": "stdout",
     "output_type": "stream",
     "text": [
      "Neuron output: 0.23999999999999996\n"
     ]
    }
   ],
   "source": [
    "#4\n",
    "\n",
    "import numpy as np\n",
    "\n",
    "def relu(x):\n",
    "    \"\"\"ReLU activation function: returns max(0, x)\"\"\"\n",
    "    return max(0, x)\n",
    "\n",
    "def simulate_neuron(x1, x2, w1, w2, bias):\n",
    "    \"\"\"Simulates a single neuron with two inputs, weights, and a bias, and applies ReLU activation.\"\"\"\n",
    "    # Compute the linear combination of inputs and weights, plus the bias\n",
    "    z = (x1 * w1) + (x2 * w2) + bias\n",
    "    \n",
    "    # Apply ReLU activation\n",
    "    output = relu(z)\n",
    "    \n",
    "    return output\n",
    "\n",
    "# Parameters\n",
    "x1 = 0.5\n",
    "x2 = 0.3\n",
    "w1 = 0.2\n",
    "w2 = 0.8\n",
    "bias = -0.1\n",
    "\n",
    "# Simulate the neuron and print the output\n",
    "output = simulate_neuron(x1, x2, w1, w2, bias)\n",
    "print(\"Neuron output:\", output)\n"
   ]
  },
  {
   "cell_type": "code",
   "execution_count": 2,
   "id": "765d4327-834c-4f9b-a788-7e1d09fc81a7",
   "metadata": {},
   "outputs": [
    {
     "name": "stdout",
     "output_type": "stream",
     "text": [
      "Output of the network: 0.6196351704071781\n"
     ]
    }
   ],
   "source": [
    "import numpy as np\n",
    "\n",
    "# Activation functions\n",
    "def relu(z):\n",
    "    return np.maximum(0, z)\n",
    "\n",
    "def sigmoid(z):\n",
    "    return 1 / (1 + np.exp(-z))\n",
    "\n",
    "# Forward propagation function\n",
    "def forward_propagation(x, W_1, b_1, W_2, b_2):\n",
    "    # Step 1: Calculate input to the hidden layer (Z1 = W1 * x + b1)\n",
    "    Z1 = np.dot(W_1, x) + b_1\n",
    "    \n",
    "    # Step 2: Apply ReLU activation to hidden layer (A1 = ReLU(Z1))\n",
    "    A1 = relu(Z1)\n",
    "    \n",
    "    # Step 3: Calculate input to the output layer (Z2 = W2 * A1 + b2)\n",
    "    Z2 = np.dot(W_2, A1) + b_2\n",
    "    \n",
    "    # Step 4: Apply sigmoid activation to output layer (A2 = Sigmoid(Z2))\n",
    "    A2 = sigmoid(Z2)\n",
    "    \n",
    "    return A2\n",
    "\n",
    "# Input and parameters\n",
    "x = np.array([0.7, 0.5])  # Input vector\n",
    "W_1 = np.array([[0.3, 0.5], [0.7, -0.1]])  # Weights between input and hidden layer\n",
    "b_1 = np.array([0.2, -0.4])  # Bias for hidden layer\n",
    "W_2 = np.array([0.6, -0.2])  # Weights between hidden and output layer\n",
    "b_2 = 0.1  # Bias for output layer\n",
    "\n",
    "# Perform forward propagation\n",
    "output = forward_propagation(x, W_1, b_1, W_2, b_2)\n",
    "\n",
    "print(\"Output of the network:\", output)\n"
   ]
  },
  {
   "cell_type": "code",
   "execution_count": null,
   "id": "55ee3bcc-e8e7-4a26-bfd7-7bdd823419a5",
   "metadata": {},
   "outputs": [],
   "source": []
  },
  {
   "cell_type": "code",
   "execution_count": null,
   "id": "ac334b4c-f93e-42b7-8219-cd23bead010b",
   "metadata": {},
   "outputs": [],
   "source": []
  },
  {
   "cell_type": "code",
   "execution_count": null,
   "id": "7276f315-2e35-4efa-9275-b3a1e296b148",
   "metadata": {},
   "outputs": [],
   "source": []
  }
 ],
 "metadata": {
  "kernelspec": {
   "display_name": "Python 3 (ipykernel)",
   "language": "python",
   "name": "python3"
  },
  "language_info": {
   "codemirror_mode": {
    "name": "ipython",
    "version": 3
   },
   "file_extension": ".py",
   "mimetype": "text/x-python",
   "name": "python",
   "nbconvert_exporter": "python",
   "pygments_lexer": "ipython3",
   "version": "3.8.19"
  }
 },
 "nbformat": 4,
 "nbformat_minor": 5
}
